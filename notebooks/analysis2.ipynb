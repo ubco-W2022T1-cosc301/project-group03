{
 "cells": [
  {
   "cell_type": "markdown",
   "metadata": {},
   "source": [
    "# Nikita Chandra Lazarus"
   ]
  },
  {
   "cell_type": "markdown",
   "metadata": {},
   "source": [
    "## Is a spectator more likely to commit a crime if the team (wins/loses) or are they more susceptible to disorderly conduct for marginal results (OT)? (emotional influence) \n",
    "\n",
    "The team would like to conduct a research on which days during the week the home team has the most and the least wins. "
   ]
  },
  {
   "cell_type": "code",
   "execution_count": null,
   "metadata": {},
   "outputs": [],
   "source": [
    "import numpy as np\n",
    "import pandas as pd"
   ]
  },
  {
   "cell_type": "code",
   "execution_count": null,
   "metadata": {},
   "outputs": [],
   "source": [
    "df = pd.read_csv('/Users/nikitachandralzrs/Desktop/301/project-group03/data/raw/arrests.csv', sep= \",\")"
   ]
  },
  {
   "cell_type": "markdown",
   "metadata": {},
   "source": [
    "# Exploratory Data Analysis of arrests data"
   ]
  },
  {
   "cell_type": "code",
   "execution_count": null,
   "metadata": {},
   "outputs": [
    {
     "data": {
      "text/plain": [
       "Index(['season', 'week_num', 'day_of_week', 'gametime_local', 'home_team',\n",
       "       'away_team', 'home_score', 'away_score', 'OT_flag', 'arrests',\n",
       "       'division_game'],\n",
       "      dtype='object')"
      ]
     },
     "execution_count": null,
     "metadata": {},
     "output_type": "execute_result"
    }
   ],
   "source": [
    "df.columns"
   ]
  },
  {
   "cell_type": "code",
   "execution_count": null,
   "metadata": {},
   "outputs": [
    {
     "data": {
      "text/html": [
       "<div>\n",
       "<style scoped>\n",
       "    .dataframe tbody tr th:only-of-type {\n",
       "        vertical-align: middle;\n",
       "    }\n",
       "\n",
       "    .dataframe tbody tr th {\n",
       "        vertical-align: top;\n",
       "    }\n",
       "\n",
       "    .dataframe thead th {\n",
       "        text-align: right;\n",
       "    }\n",
       "</style>\n",
       "<table border=\"1\" class=\"dataframe\">\n",
       "  <thead>\n",
       "    <tr style=\"text-align: right;\">\n",
       "      <th></th>\n",
       "      <th>season</th>\n",
       "      <th>week_num</th>\n",
       "      <th>day_of_week</th>\n",
       "      <th>gametime_local</th>\n",
       "      <th>home_team</th>\n",
       "      <th>away_team</th>\n",
       "      <th>home_score</th>\n",
       "      <th>away_score</th>\n",
       "      <th>OT_flag</th>\n",
       "      <th>arrests</th>\n",
       "      <th>division_game</th>\n",
       "    </tr>\n",
       "  </thead>\n",
       "  <tbody>\n",
       "    <tr>\n",
       "      <th>0</th>\n",
       "      <td>2011</td>\n",
       "      <td>1</td>\n",
       "      <td>Sunday</td>\n",
       "      <td>1:15:00 PM</td>\n",
       "      <td>Arizona</td>\n",
       "      <td>Carolina</td>\n",
       "      <td>28</td>\n",
       "      <td>21</td>\n",
       "      <td>NaN</td>\n",
       "      <td>5.0</td>\n",
       "      <td>n</td>\n",
       "    </tr>\n",
       "    <tr>\n",
       "      <th>1</th>\n",
       "      <td>2011</td>\n",
       "      <td>4</td>\n",
       "      <td>Sunday</td>\n",
       "      <td>1:05:00 PM</td>\n",
       "      <td>Arizona</td>\n",
       "      <td>New York Giants</td>\n",
       "      <td>27</td>\n",
       "      <td>31</td>\n",
       "      <td>NaN</td>\n",
       "      <td>6.0</td>\n",
       "      <td>n</td>\n",
       "    </tr>\n",
       "    <tr>\n",
       "      <th>2</th>\n",
       "      <td>2011</td>\n",
       "      <td>7</td>\n",
       "      <td>Sunday</td>\n",
       "      <td>1:05:00 PM</td>\n",
       "      <td>Arizona</td>\n",
       "      <td>Pittsburgh</td>\n",
       "      <td>20</td>\n",
       "      <td>32</td>\n",
       "      <td>NaN</td>\n",
       "      <td>9.0</td>\n",
       "      <td>n</td>\n",
       "    </tr>\n",
       "    <tr>\n",
       "      <th>3</th>\n",
       "      <td>2011</td>\n",
       "      <td>9</td>\n",
       "      <td>Sunday</td>\n",
       "      <td>2:15:00 PM</td>\n",
       "      <td>Arizona</td>\n",
       "      <td>St. Louis</td>\n",
       "      <td>19</td>\n",
       "      <td>13</td>\n",
       "      <td>OT</td>\n",
       "      <td>6.0</td>\n",
       "      <td>y</td>\n",
       "    </tr>\n",
       "    <tr>\n",
       "      <th>4</th>\n",
       "      <td>2011</td>\n",
       "      <td>13</td>\n",
       "      <td>Sunday</td>\n",
       "      <td>2:15:00 PM</td>\n",
       "      <td>Arizona</td>\n",
       "      <td>Dallas</td>\n",
       "      <td>19</td>\n",
       "      <td>13</td>\n",
       "      <td>OT</td>\n",
       "      <td>3.0</td>\n",
       "      <td>n</td>\n",
       "    </tr>\n",
       "  </tbody>\n",
       "</table>\n",
       "</div>"
      ],
      "text/plain": [
       "   season  week_num day_of_week gametime_local home_team        away_team  \\\n",
       "0    2011         1      Sunday     1:15:00 PM   Arizona         Carolina   \n",
       "1    2011         4      Sunday     1:05:00 PM   Arizona  New York Giants   \n",
       "2    2011         7      Sunday     1:05:00 PM   Arizona       Pittsburgh   \n",
       "3    2011         9      Sunday     2:15:00 PM   Arizona        St. Louis   \n",
       "4    2011        13      Sunday     2:15:00 PM   Arizona           Dallas   \n",
       "\n",
       "   home_score  away_score OT_flag  arrests division_game  \n",
       "0          28          21     NaN      5.0             n  \n",
       "1          27          31     NaN      6.0             n  \n",
       "2          20          32     NaN      9.0             n  \n",
       "3          19          13      OT      6.0             y  \n",
       "4          19          13      OT      3.0             n  "
      ]
     },
     "execution_count": null,
     "metadata": {},
     "output_type": "execute_result"
    }
   ],
   "source": [
    "df.head()"
   ]
  },
  {
   "cell_type": "code",
   "execution_count": null,
   "metadata": {},
   "outputs": [
    {
     "data": {
      "text/html": [
       "<div>\n",
       "<style scoped>\n",
       "    .dataframe tbody tr th:only-of-type {\n",
       "        vertical-align: middle;\n",
       "    }\n",
       "\n",
       "    .dataframe tbody tr th {\n",
       "        vertical-align: top;\n",
       "    }\n",
       "\n",
       "    .dataframe thead th {\n",
       "        text-align: right;\n",
       "    }\n",
       "</style>\n",
       "<table border=\"1\" class=\"dataframe\">\n",
       "  <thead>\n",
       "    <tr style=\"text-align: right;\">\n",
       "      <th></th>\n",
       "      <th>season</th>\n",
       "      <th>week_num</th>\n",
       "      <th>day_of_week</th>\n",
       "      <th>gametime_local</th>\n",
       "      <th>home_team</th>\n",
       "      <th>away_team</th>\n",
       "      <th>home_score</th>\n",
       "      <th>away_score</th>\n",
       "      <th>OT_flag</th>\n",
       "      <th>arrests</th>\n",
       "      <th>division_game</th>\n",
       "    </tr>\n",
       "  </thead>\n",
       "  <tbody>\n",
       "    <tr>\n",
       "      <th>1001</th>\n",
       "      <td>2015</td>\n",
       "      <td>7</td>\n",
       "      <td>Sunday</td>\n",
       "      <td>1:00:00 PM</td>\n",
       "      <td>Washington</td>\n",
       "      <td>Tampa Bay</td>\n",
       "      <td>31</td>\n",
       "      <td>30</td>\n",
       "      <td>NaN</td>\n",
       "      <td>2.0</td>\n",
       "      <td>n</td>\n",
       "    </tr>\n",
       "    <tr>\n",
       "      <th>1002</th>\n",
       "      <td>2015</td>\n",
       "      <td>10</td>\n",
       "      <td>Sunday</td>\n",
       "      <td>1:00:00 PM</td>\n",
       "      <td>Washington</td>\n",
       "      <td>New Orleans</td>\n",
       "      <td>47</td>\n",
       "      <td>14</td>\n",
       "      <td>NaN</td>\n",
       "      <td>2.0</td>\n",
       "      <td>n</td>\n",
       "    </tr>\n",
       "    <tr>\n",
       "      <th>1003</th>\n",
       "      <td>2015</td>\n",
       "      <td>12</td>\n",
       "      <td>Sunday</td>\n",
       "      <td>1:00:00 PM</td>\n",
       "      <td>Washington</td>\n",
       "      <td>New York Giants</td>\n",
       "      <td>20</td>\n",
       "      <td>14</td>\n",
       "      <td>NaN</td>\n",
       "      <td>2.0</td>\n",
       "      <td>y</td>\n",
       "    </tr>\n",
       "    <tr>\n",
       "      <th>1004</th>\n",
       "      <td>2015</td>\n",
       "      <td>13</td>\n",
       "      <td>Monday</td>\n",
       "      <td>8:30:00 PM</td>\n",
       "      <td>Washington</td>\n",
       "      <td>Dallas</td>\n",
       "      <td>16</td>\n",
       "      <td>19</td>\n",
       "      <td>NaN</td>\n",
       "      <td>4.0</td>\n",
       "      <td>y</td>\n",
       "    </tr>\n",
       "    <tr>\n",
       "      <th>1005</th>\n",
       "      <td>2015</td>\n",
       "      <td>15</td>\n",
       "      <td>Sunday</td>\n",
       "      <td>1:00:00 PM</td>\n",
       "      <td>Washington</td>\n",
       "      <td>Buffalo</td>\n",
       "      <td>35</td>\n",
       "      <td>25</td>\n",
       "      <td>NaN</td>\n",
       "      <td>1.0</td>\n",
       "      <td>n</td>\n",
       "    </tr>\n",
       "  </tbody>\n",
       "</table>\n",
       "</div>"
      ],
      "text/plain": [
       "      season  week_num day_of_week gametime_local   home_team  \\\n",
       "1001    2015         7      Sunday     1:00:00 PM  Washington   \n",
       "1002    2015        10      Sunday     1:00:00 PM  Washington   \n",
       "1003    2015        12      Sunday     1:00:00 PM  Washington   \n",
       "1004    2015        13      Monday     8:30:00 PM  Washington   \n",
       "1005    2015        15      Sunday     1:00:00 PM  Washington   \n",
       "\n",
       "            away_team  home_score  away_score OT_flag  arrests division_game  \n",
       "1001        Tampa Bay          31          30     NaN      2.0             n  \n",
       "1002      New Orleans          47          14     NaN      2.0             n  \n",
       "1003  New York Giants          20          14     NaN      2.0             y  \n",
       "1004           Dallas          16          19     NaN      4.0             y  \n",
       "1005          Buffalo          35          25     NaN      1.0             n  "
      ]
     },
     "execution_count": null,
     "metadata": {},
     "output_type": "execute_result"
    }
   ],
   "source": [
    "df.tail()"
   ]
  },
  {
   "cell_type": "code",
   "execution_count": null,
   "metadata": {},
   "outputs": [
    {
     "name": "stdout",
     "output_type": "stream",
     "text": [
      "(1006, 11)\n",
      "   season  week_num day_of_week gametime_local home_team        away_team  \\\n",
      "0    2011         1      Sunday     1:15:00 PM   Arizona         Carolina   \n",
      "1    2011         4      Sunday     1:05:00 PM   Arizona  New York Giants   \n",
      "2    2011         7      Sunday     1:05:00 PM   Arizona       Pittsburgh   \n",
      "3    2011         9      Sunday     2:15:00 PM   Arizona        St. Louis   \n",
      "4    2011        13      Sunday     2:15:00 PM   Arizona           Dallas   \n",
      "\n",
      "   home_score  away_score OT_flag  arrests division_game  \n",
      "0          28          21     NaN      5.0             n  \n",
      "1          27          31     NaN      6.0             n  \n",
      "2          20          32     NaN      9.0             n  \n",
      "3          19          13      OT      6.0             y  \n",
      "4          19          13      OT      3.0             n  \n",
      "Index(['season', 'week_num', 'day_of_week', 'gametime_local', 'home_team',\n",
      "       'away_team', 'home_score', 'away_score', 'OT_flag', 'arrests',\n",
      "       'division_game'],\n",
      "      dtype='object')\n"
     ]
    }
   ],
   "source": [
    "print(df.shape)\n",
    "print(df.head())\n",
    "print(df.columns)"
   ]
  },
  {
   "cell_type": "code",
   "execution_count": null,
   "metadata": {},
   "outputs": [
    {
     "data": {
      "text/plain": [
       "season             5\n",
       "week_num          17\n",
       "day_of_week        5\n",
       "gametime_local    46\n",
       "home_team         26\n",
       "away_team         32\n",
       "home_score        54\n",
       "away_score        46\n",
       "OT_flag            1\n",
       "arrests           51\n",
       "division_game      2\n",
       "dtype: int64"
      ]
     },
     "execution_count": null,
     "metadata": {},
     "output_type": "execute_result"
    }
   ],
   "source": [
    "df.nunique(axis=0)"
   ]
  },
  {
   "cell_type": "markdown",
   "metadata": {},
   "source": [
    "# Clean Data\n",
    "1. We will remove season column, week_num, gametime_local, OT_Flag, arrests, division_game"
   ]
  },
  {
   "cell_type": "code",
   "execution_count": null,
   "metadata": {},
   "outputs": [
    {
     "data": {
      "text/html": [
       "<div>\n",
       "<style scoped>\n",
       "    .dataframe tbody tr th:only-of-type {\n",
       "        vertical-align: middle;\n",
       "    }\n",
       "\n",
       "    .dataframe tbody tr th {\n",
       "        vertical-align: top;\n",
       "    }\n",
       "\n",
       "    .dataframe thead th {\n",
       "        text-align: right;\n",
       "    }\n",
       "</style>\n",
       "<table border=\"1\" class=\"dataframe\">\n",
       "  <thead>\n",
       "    <tr style=\"text-align: right;\">\n",
       "      <th></th>\n",
       "      <th>day_of_week</th>\n",
       "      <th>home_team</th>\n",
       "      <th>away_team</th>\n",
       "      <th>home_score</th>\n",
       "      <th>away_score</th>\n",
       "    </tr>\n",
       "  </thead>\n",
       "  <tbody>\n",
       "    <tr>\n",
       "      <th>0</th>\n",
       "      <td>Sunday</td>\n",
       "      <td>Arizona</td>\n",
       "      <td>Carolina</td>\n",
       "      <td>28</td>\n",
       "      <td>21</td>\n",
       "    </tr>\n",
       "    <tr>\n",
       "      <th>1</th>\n",
       "      <td>Sunday</td>\n",
       "      <td>Arizona</td>\n",
       "      <td>New York Giants</td>\n",
       "      <td>27</td>\n",
       "      <td>31</td>\n",
       "    </tr>\n",
       "    <tr>\n",
       "      <th>2</th>\n",
       "      <td>Sunday</td>\n",
       "      <td>Arizona</td>\n",
       "      <td>Pittsburgh</td>\n",
       "      <td>20</td>\n",
       "      <td>32</td>\n",
       "    </tr>\n",
       "    <tr>\n",
       "      <th>3</th>\n",
       "      <td>Sunday</td>\n",
       "      <td>Arizona</td>\n",
       "      <td>St. Louis</td>\n",
       "      <td>19</td>\n",
       "      <td>13</td>\n",
       "    </tr>\n",
       "    <tr>\n",
       "      <th>4</th>\n",
       "      <td>Sunday</td>\n",
       "      <td>Arizona</td>\n",
       "      <td>Dallas</td>\n",
       "      <td>19</td>\n",
       "      <td>13</td>\n",
       "    </tr>\n",
       "  </tbody>\n",
       "</table>\n",
       "</div>"
      ],
      "text/plain": [
       "  day_of_week home_team        away_team  home_score  away_score\n",
       "0      Sunday   Arizona         Carolina          28          21\n",
       "1      Sunday   Arizona  New York Giants          27          31\n",
       "2      Sunday   Arizona       Pittsburgh          20          32\n",
       "3      Sunday   Arizona        St. Louis          19          13\n",
       "4      Sunday   Arizona           Dallas          19          13"
      ]
     },
     "execution_count": null,
     "metadata": {},
     "output_type": "execute_result"
    }
   ],
   "source": [
    "df = df.drop(columns=['season', 'week_num', 'gametime_local', 'OT_flag', 'arrests', 'division_game'])\n",
    "df.head(n=5)"
   ]
  },
  {
   "cell_type": "markdown",
   "metadata": {},
   "source": [
    "# Process Data\n",
    "1. Change column names to remove underscore (_) \n",
    "2. Make new column called ScoreDifference to find the difference of HomeScore and AwayScore, then a new column HomeTeamWin with  True if ScoreDifference > 0, False otherwise"
   ]
  },
  {
   "cell_type": "code",
   "execution_count": null,
   "metadata": {},
   "outputs": [
    {
     "data": {
      "text/html": [
       "<div>\n",
       "<style scoped>\n",
       "    .dataframe tbody tr th:only-of-type {\n",
       "        vertical-align: middle;\n",
       "    }\n",
       "\n",
       "    .dataframe tbody tr th {\n",
       "        vertical-align: top;\n",
       "    }\n",
       "\n",
       "    .dataframe thead th {\n",
       "        text-align: right;\n",
       "    }\n",
       "</style>\n",
       "<table border=\"1\" class=\"dataframe\">\n",
       "  <thead>\n",
       "    <tr style=\"text-align: right;\">\n",
       "      <th></th>\n",
       "      <th>DayOfWeek</th>\n",
       "      <th>HomeTeam</th>\n",
       "      <th>AwayTeam</th>\n",
       "      <th>HomeScore</th>\n",
       "      <th>AwayScore</th>\n",
       "    </tr>\n",
       "  </thead>\n",
       "  <tbody>\n",
       "    <tr>\n",
       "      <th>0</th>\n",
       "      <td>Sunday</td>\n",
       "      <td>Arizona</td>\n",
       "      <td>Carolina</td>\n",
       "      <td>28</td>\n",
       "      <td>21</td>\n",
       "    </tr>\n",
       "    <tr>\n",
       "      <th>1</th>\n",
       "      <td>Sunday</td>\n",
       "      <td>Arizona</td>\n",
       "      <td>New York Giants</td>\n",
       "      <td>27</td>\n",
       "      <td>31</td>\n",
       "    </tr>\n",
       "    <tr>\n",
       "      <th>2</th>\n",
       "      <td>Sunday</td>\n",
       "      <td>Arizona</td>\n",
       "      <td>Pittsburgh</td>\n",
       "      <td>20</td>\n",
       "      <td>32</td>\n",
       "    </tr>\n",
       "    <tr>\n",
       "      <th>3</th>\n",
       "      <td>Sunday</td>\n",
       "      <td>Arizona</td>\n",
       "      <td>St. Louis</td>\n",
       "      <td>19</td>\n",
       "      <td>13</td>\n",
       "    </tr>\n",
       "    <tr>\n",
       "      <th>4</th>\n",
       "      <td>Sunday</td>\n",
       "      <td>Arizona</td>\n",
       "      <td>Dallas</td>\n",
       "      <td>19</td>\n",
       "      <td>13</td>\n",
       "    </tr>\n",
       "  </tbody>\n",
       "</table>\n",
       "</div>"
      ],
      "text/plain": [
       "  DayOfWeek HomeTeam         AwayTeam  HomeScore  AwayScore\n",
       "0    Sunday  Arizona         Carolina         28         21\n",
       "1    Sunday  Arizona  New York Giants         27         31\n",
       "2    Sunday  Arizona       Pittsburgh         20         32\n",
       "3    Sunday  Arizona        St. Louis         19         13\n",
       "4    Sunday  Arizona           Dallas         19         13"
      ]
     },
     "execution_count": null,
     "metadata": {},
     "output_type": "execute_result"
    }
   ],
   "source": [
    "df = df.rename(columns={'day_of_week': 'DayOfWeek', 'home_team': 'HomeTeam', 'away_team': 'AwayTeam', 'home_score': 'HomeScore', 'away_score': 'AwayScore'})\n",
    "df.head(n=5)"
   ]
  },
  {
   "cell_type": "code",
   "execution_count": null,
   "metadata": {},
   "outputs": [
    {
     "data": {
      "text/html": [
       "<div>\n",
       "<style scoped>\n",
       "    .dataframe tbody tr th:only-of-type {\n",
       "        vertical-align: middle;\n",
       "    }\n",
       "\n",
       "    .dataframe tbody tr th {\n",
       "        vertical-align: top;\n",
       "    }\n",
       "\n",
       "    .dataframe thead th {\n",
       "        text-align: right;\n",
       "    }\n",
       "</style>\n",
       "<table border=\"1\" class=\"dataframe\">\n",
       "  <thead>\n",
       "    <tr style=\"text-align: right;\">\n",
       "      <th></th>\n",
       "      <th>DayOfWeek</th>\n",
       "      <th>HomeTeam</th>\n",
       "      <th>AwayTeam</th>\n",
       "      <th>HomeScore</th>\n",
       "      <th>AwayScore</th>\n",
       "      <th>ScoreDifference</th>\n",
       "      <th>HomeTeamWin</th>\n",
       "    </tr>\n",
       "  </thead>\n",
       "  <tbody>\n",
       "    <tr>\n",
       "      <th>0</th>\n",
       "      <td>Sunday</td>\n",
       "      <td>Arizona</td>\n",
       "      <td>Carolina</td>\n",
       "      <td>28</td>\n",
       "      <td>21</td>\n",
       "      <td>7</td>\n",
       "      <td>True</td>\n",
       "    </tr>\n",
       "    <tr>\n",
       "      <th>1</th>\n",
       "      <td>Sunday</td>\n",
       "      <td>Arizona</td>\n",
       "      <td>New York Giants</td>\n",
       "      <td>27</td>\n",
       "      <td>31</td>\n",
       "      <td>-4</td>\n",
       "      <td>False</td>\n",
       "    </tr>\n",
       "    <tr>\n",
       "      <th>2</th>\n",
       "      <td>Sunday</td>\n",
       "      <td>Arizona</td>\n",
       "      <td>Pittsburgh</td>\n",
       "      <td>20</td>\n",
       "      <td>32</td>\n",
       "      <td>-12</td>\n",
       "      <td>False</td>\n",
       "    </tr>\n",
       "    <tr>\n",
       "      <th>3</th>\n",
       "      <td>Sunday</td>\n",
       "      <td>Arizona</td>\n",
       "      <td>St. Louis</td>\n",
       "      <td>19</td>\n",
       "      <td>13</td>\n",
       "      <td>6</td>\n",
       "      <td>True</td>\n",
       "    </tr>\n",
       "    <tr>\n",
       "      <th>4</th>\n",
       "      <td>Sunday</td>\n",
       "      <td>Arizona</td>\n",
       "      <td>Dallas</td>\n",
       "      <td>19</td>\n",
       "      <td>13</td>\n",
       "      <td>6</td>\n",
       "      <td>True</td>\n",
       "    </tr>\n",
       "  </tbody>\n",
       "</table>\n",
       "</div>"
      ],
      "text/plain": [
       "  DayOfWeek HomeTeam         AwayTeam  HomeScore  AwayScore  ScoreDifference  \\\n",
       "0    Sunday  Arizona         Carolina         28         21                7   \n",
       "1    Sunday  Arizona  New York Giants         27         31               -4   \n",
       "2    Sunday  Arizona       Pittsburgh         20         32              -12   \n",
       "3    Sunday  Arizona        St. Louis         19         13                6   \n",
       "4    Sunday  Arizona           Dallas         19         13                6   \n",
       "\n",
       "  HomeTeamWin  \n",
       "0        True  \n",
       "1       False  \n",
       "2       False  \n",
       "3        True  \n",
       "4        True  "
      ]
     },
     "execution_count": null,
     "metadata": {},
     "output_type": "execute_result"
    }
   ],
   "source": [
    "df= df.assign(ScoreDifference = lambda x: x['HomeScore'] - x['AwayScore'])\n",
    "df.loc[df['ScoreDifference']>0, 'HomeTeamWin'] = True\n",
    "df.loc[df['ScoreDifference']<= 0, 'HomeTeamWin'] = False\n",
    "\n",
    "df.head(n=5)"
   ]
  },
  {
   "cell_type": "code",
   "execution_count": null,
   "metadata": {},
   "outputs": [],
   "source": [
    "import project_functions2 as pf2\n",
    "\n",
    "df = pf2.load_and_process('/Users/nikitachandralzrs/Desktop/301/project-group03/data/raw/arrests.csv')\n",
    "df.head(n=5)"
   ]
  },
  {
   "cell_type": "code",
   "execution_count": null,
   "metadata": {},
   "outputs": [],
   "source": [
    "import seaborn as sns\n",
    "import matplotlib.pyplot as plt"
   ]
  },
  {
   "cell_type": "code",
   "execution_count": null,
   "metadata": {},
   "outputs": [],
   "source": [
    "sns.set(rc={'figure.figsize':(50,25)})"
   ]
  },
  {
   "cell_type": "code",
   "execution_count": null,
   "metadata": {},
   "outputs": [
    {
     "data": {
      "text/plain": [
       "[Text(0.5, 1.0, 'Probability of winning by each team in given day of week'),\n",
       " Text(0.5, 0, 'Teams'),\n",
       " Text(0, 0.5, 'Probability of winnning')]"
      ]
     },
     "execution_count": null,
     "metadata": {},
     "output_type": "execute_result"
    },
    {
     "data": {
      "image/png": "[encoded data removed]",
      "text/plain": [
       "<Figure size 3600x1800 with 1 Axes>"
      ]
     },
     "metadata": {},
     "output_type": "display_data"
    }
   ],
   "source": [
    "bp = sns.barplot(data=df, x='HomeTeam', y='HomeTeamWin', hue='DayOfWeek',errorbar = None)\n",
    "bp.set(title=\"Probability of winning by each team in given day of week\", xlabel=\"Teams\", ylabel=\"Probability of winnning\")\n"
   ]
  },
  {
   "cell_type": "markdown",
   "metadata": {},
   "source": [
    "## Reading of The Chart\n",
    "---\n",
    "The probability of the home team winning are only happening during **Sunday, Monday, Thursday, and Saturday**. And no probability of winning on **Wednesday**.\n",
    "\n",
    "For Sunday, the highest probability of winning goes to team New England and the lowest goes to Jacksonville.\n",
    "\n",
    "For Monday, the highest probability of winning goes to team Carolina, Kansas City, New England, Pittsburgh, San Fransisco, Seattle, and Tampa Bay; and the lowest goes to San Diego and Washington.\n",
    "\n",
    "For Thursday, the highest probability of winning goes to Baltimore, Indianapolis, New England, New York Giants, and Seattle; while the lowest goes to San Fransisco.\n",
    "\n",
    "And for Saturday, the probability of winning goes to Carolina, New England, Pittsburgh, and Tennesse; and the lowest goes to Washington."
   ]
  },
  {
   "cell_type": "markdown",
   "metadata": {},
   "source": [
    "# Conclusion\n",
    "---\n",
    "Monday has the most winning from the home team, whilst Sunday has the least."
   ]
  },
  {
   "cell_type": "code",
   "execution_count": null,
   "metadata": {},
   "outputs": [],
   "source": []
  }
 ],
 "metadata": {
  "kernelspec": {
   "display_name": "Python 3",
   "language": "python",
   "name": "python3"
  },
  "language_info": {
   "codemirror_mode": {
    "name": "ipython",
    "version": 3
   },
   "file_extension": ".py",
   "mimetype": "text/x-python",
   "name": "python",
   "nbconvert_exporter": "python",
   "pygments_lexer": "ipython3",
   "version": "3.9.12"
  }
 },
 "nbformat": 4,
 "nbformat_minor": 4
}
