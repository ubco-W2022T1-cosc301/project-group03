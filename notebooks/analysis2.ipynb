{
 "cells": [
  {
   "cell_type": "markdown",
   "metadata": {},
   "source": [
    "# Nikita Chandra Lazarus"
   ]
  },
  {
   "cell_type": "markdown",
   "metadata": {},
   "source": [
    "## Is a spectator more likely to commit a crime if the team (wins/loses) or are they more susceptible to disorderly conduct for marginal results (OT)? (emotional influence) \n",
    "\n",
    "The team would like to conduct a research on whether spectators are more affected by the winning or losing of their team or are the speactators more influenced by other spectators' emotional state."
   ]
  },
  {
   "cell_type": "code",
   "execution_count": null,
   "metadata": {},
   "outputs": [],
   "source": [
    "import numpy as np\n",
    "import pandas as pd\n",
    "\n",
    "pd.read_csv(\"C:\\\\Users\\\\nikitachandralzrs\\\\Desktop\\\\301\\\\project-group03\\\\data\\\\raw\\\\arrests.csv, sep= \",\")"
   ]
  }
 ],
 "metadata": {
  "kernelspec": {
   "display_name": "Python 3",
   "language": "python",
   "name": "python3"
  }
 },
 "nbformat": 4,
 "nbformat_minor": 4
}
