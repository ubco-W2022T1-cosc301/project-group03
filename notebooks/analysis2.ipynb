{
 "cells": [
  {
   "cell_type": "markdown",
   "metadata": {},
   "source": [
    "# Nikita Chandra Lazarus"
   ]
  },
  {
   "cell_type": "markdown",
   "metadata": {},
   "source": [
    "## Is a spectator more likely to commit a crime if the team (wins/loses) or are they more susceptible to disorderly conduct for marginal results (OT)? (emotional influence) \n",
    "\n",
    "The team would like to conduct a research on whether spectators are more affected by the winning or losing of their team or are the speactators more influenced by other spectators' emotional state. Using matchday season data can correlate holiday/vacational/weekend games with crowd's emotional state during those season to prove our hypothesis."
   ]
  },
  {
   "cell_type": "code",
   "execution_count": null,
   "metadata": {},
   "outputs": [
    {
     "data": {
      "text/html": [
       "<div>\n",
       "<style scoped>\n",
       "    .dataframe tbody tr th:only-of-type {\n",
       "        vertical-align: middle;\n",
       "    }\n",
       "\n",
       "    .dataframe tbody tr th {\n",
       "        vertical-align: top;\n",
       "    }\n",
       "\n",
       "    .dataframe thead th {\n",
       "        text-align: right;\n",
       "    }\n",
       "</style>\n",
       "<table border=\"1\" class=\"dataframe\">\n",
       "  <thead>\n",
       "    <tr style=\"text-align: right;\">\n",
       "      <th></th>\n",
       "      <th>season</th>\n",
       "      <th>week_num</th>\n",
       "      <th>day_of_week</th>\n",
       "      <th>gametime_local</th>\n",
       "      <th>home_team</th>\n",
       "      <th>away_team</th>\n",
       "      <th>home_score</th>\n",
       "      <th>away_score</th>\n",
       "      <th>OT_flag</th>\n",
       "      <th>arrests</th>\n",
       "      <th>division_game</th>\n",
       "    </tr>\n",
       "  </thead>\n",
       "  <tbody>\n",
       "    <tr>\n",
       "      <th>0</th>\n",
       "      <td>2011</td>\n",
       "      <td>1</td>\n",
       "      <td>Sunday</td>\n",
       "      <td>1:15:00 PM</td>\n",
       "      <td>Arizona</td>\n",
       "      <td>Carolina</td>\n",
       "      <td>28</td>\n",
       "      <td>21</td>\n",
       "      <td>NaN</td>\n",
       "      <td>5.0</td>\n",
       "      <td>n</td>\n",
       "    </tr>\n",
       "    <tr>\n",
       "      <th>1</th>\n",
       "      <td>2011</td>\n",
       "      <td>4</td>\n",
       "      <td>Sunday</td>\n",
       "      <td>1:05:00 PM</td>\n",
       "      <td>Arizona</td>\n",
       "      <td>New York Giants</td>\n",
       "      <td>27</td>\n",
       "      <td>31</td>\n",
       "      <td>NaN</td>\n",
       "      <td>6.0</td>\n",
       "      <td>n</td>\n",
       "    </tr>\n",
       "    <tr>\n",
       "      <th>2</th>\n",
       "      <td>2011</td>\n",
       "      <td>7</td>\n",
       "      <td>Sunday</td>\n",
       "      <td>1:05:00 PM</td>\n",
       "      <td>Arizona</td>\n",
       "      <td>Pittsburgh</td>\n",
       "      <td>20</td>\n",
       "      <td>32</td>\n",
       "      <td>NaN</td>\n",
       "      <td>9.0</td>\n",
       "      <td>n</td>\n",
       "    </tr>\n",
       "    <tr>\n",
       "      <th>3</th>\n",
       "      <td>2011</td>\n",
       "      <td>9</td>\n",
       "      <td>Sunday</td>\n",
       "      <td>2:15:00 PM</td>\n",
       "      <td>Arizona</td>\n",
       "      <td>St. Louis</td>\n",
       "      <td>19</td>\n",
       "      <td>13</td>\n",
       "      <td>OT</td>\n",
       "      <td>6.0</td>\n",
       "      <td>y</td>\n",
       "    </tr>\n",
       "    <tr>\n",
       "      <th>4</th>\n",
       "      <td>2011</td>\n",
       "      <td>13</td>\n",
       "      <td>Sunday</td>\n",
       "      <td>2:15:00 PM</td>\n",
       "      <td>Arizona</td>\n",
       "      <td>Dallas</td>\n",
       "      <td>19</td>\n",
       "      <td>13</td>\n",
       "      <td>OT</td>\n",
       "      <td>3.0</td>\n",
       "      <td>n</td>\n",
       "    </tr>\n",
       "    <tr>\n",
       "      <th>...</th>\n",
       "      <td>...</td>\n",
       "      <td>...</td>\n",
       "      <td>...</td>\n",
       "      <td>...</td>\n",
       "      <td>...</td>\n",
       "      <td>...</td>\n",
       "      <td>...</td>\n",
       "      <td>...</td>\n",
       "      <td>...</td>\n",
       "      <td>...</td>\n",
       "      <td>...</td>\n",
       "    </tr>\n",
       "    <tr>\n",
       "      <th>1001</th>\n",
       "      <td>2015</td>\n",
       "      <td>7</td>\n",
       "      <td>Sunday</td>\n",
       "      <td>1:00:00 PM</td>\n",
       "      <td>Washington</td>\n",
       "      <td>Tampa Bay</td>\n",
       "      <td>31</td>\n",
       "      <td>30</td>\n",
       "      <td>NaN</td>\n",
       "      <td>2.0</td>\n",
       "      <td>n</td>\n",
       "    </tr>\n",
       "    <tr>\n",
       "      <th>1002</th>\n",
       "      <td>2015</td>\n",
       "      <td>10</td>\n",
       "      <td>Sunday</td>\n",
       "      <td>1:00:00 PM</td>\n",
       "      <td>Washington</td>\n",
       "      <td>New Orleans</td>\n",
       "      <td>47</td>\n",
       "      <td>14</td>\n",
       "      <td>NaN</td>\n",
       "      <td>2.0</td>\n",
       "      <td>n</td>\n",
       "    </tr>\n",
       "    <tr>\n",
       "      <th>1003</th>\n",
       "      <td>2015</td>\n",
       "      <td>12</td>\n",
       "      <td>Sunday</td>\n",
       "      <td>1:00:00 PM</td>\n",
       "      <td>Washington</td>\n",
       "      <td>New York Giants</td>\n",
       "      <td>20</td>\n",
       "      <td>14</td>\n",
       "      <td>NaN</td>\n",
       "      <td>2.0</td>\n",
       "      <td>y</td>\n",
       "    </tr>\n",
       "    <tr>\n",
       "      <th>1004</th>\n",
       "      <td>2015</td>\n",
       "      <td>13</td>\n",
       "      <td>Monday</td>\n",
       "      <td>8:30:00 PM</td>\n",
       "      <td>Washington</td>\n",
       "      <td>Dallas</td>\n",
       "      <td>16</td>\n",
       "      <td>19</td>\n",
       "      <td>NaN</td>\n",
       "      <td>4.0</td>\n",
       "      <td>y</td>\n",
       "    </tr>\n",
       "    <tr>\n",
       "      <th>1005</th>\n",
       "      <td>2015</td>\n",
       "      <td>15</td>\n",
       "      <td>Sunday</td>\n",
       "      <td>1:00:00 PM</td>\n",
       "      <td>Washington</td>\n",
       "      <td>Buffalo</td>\n",
       "      <td>35</td>\n",
       "      <td>25</td>\n",
       "      <td>NaN</td>\n",
       "      <td>1.0</td>\n",
       "      <td>n</td>\n",
       "    </tr>\n",
       "  </tbody>\n",
       "</table>\n",
       "<p>1006 rows × 11 columns</p>\n",
       "</div>"
      ],
      "text/plain": [
       "      season  week_num day_of_week gametime_local   home_team  \\\n",
       "0       2011         1      Sunday     1:15:00 PM     Arizona   \n",
       "1       2011         4      Sunday     1:05:00 PM     Arizona   \n",
       "2       2011         7      Sunday     1:05:00 PM     Arizona   \n",
       "3       2011         9      Sunday     2:15:00 PM     Arizona   \n",
       "4       2011        13      Sunday     2:15:00 PM     Arizona   \n",
       "...      ...       ...         ...            ...         ...   \n",
       "1001    2015         7      Sunday     1:00:00 PM  Washington   \n",
       "1002    2015        10      Sunday     1:00:00 PM  Washington   \n",
       "1003    2015        12      Sunday     1:00:00 PM  Washington   \n",
       "1004    2015        13      Monday     8:30:00 PM  Washington   \n",
       "1005    2015        15      Sunday     1:00:00 PM  Washington   \n",
       "\n",
       "            away_team  home_score  away_score OT_flag  arrests division_game  \n",
       "0            Carolina          28          21     NaN      5.0             n  \n",
       "1     New York Giants          27          31     NaN      6.0             n  \n",
       "2          Pittsburgh          20          32     NaN      9.0             n  \n",
       "3           St. Louis          19          13      OT      6.0             y  \n",
       "4              Dallas          19          13      OT      3.0             n  \n",
       "...               ...         ...         ...     ...      ...           ...  \n",
       "1001        Tampa Bay          31          30     NaN      2.0             n  \n",
       "1002      New Orleans          47          14     NaN      2.0             n  \n",
       "1003  New York Giants          20          14     NaN      2.0             y  \n",
       "1004           Dallas          16          19     NaN      4.0             y  \n",
       "1005          Buffalo          35          25     NaN      1.0             n  \n",
       "\n",
       "[1006 rows x 11 columns]"
      ]
     },
     "execution_count": null,
     "metadata": {},
     "output_type": "execute_result"
    }
   ],
   "source": [
    "import numpy as np\n",
    "import pandas as pd\n",
    "\n",
    "pd.read_csv('/Users/nikitachandralzrs/Desktop/301/project-group03/data/raw/arrests.csv', sep= \",\")"
   ]
  },
  {
   "cell_type": "code",
   "execution_count": null,
   "metadata": {},
   "outputs": [
    {
     "data": {
      "text/plain": [
       "'/Users/nikitachandralzrs/Desktop/301/project-group03/notebooks'"
      ]
     },
     "execution_count": null,
     "metadata": {},
     "output_type": "execute_result"
    }
   ],
   "source": [
    "pwd"
   ]
  },
  {
   "cell_type": "code",
   "execution_count": null,
   "metadata": {},
   "outputs": [],
   "source": [
    "import pandas as pd"
   ]
  },
  {
   "cell_type": "code",
   "execution_count": null,
   "metadata": {},
   "outputs": [
    {
     "data": {
      "text/plain": [
       "Index(['season', 'week_num', 'day_of_week', 'gametime_local', 'home_team',\n",
       "       'away_team', 'home_score', 'away_score', 'OT_flag', 'arrests',\n",
       "       'division_game'],\n",
       "      dtype='object')"
      ]
     },
     "execution_count": null,
     "metadata": {},
     "output_type": "execute_result"
    }
   ],
   "source": [
    "rawarrest = pd.read_csv('/Users/nikitachandralzrs/Desktop/301/project-group03/data/raw/arrests.csv', sep= \",\")\n",
    "rawarrest\n",
    "rawarrest.columns"
   ]
  },
  {
   "cell_type": "code",
   "execution_count": null,
   "metadata": {},
   "outputs": [
    {
     "data": {
      "text/html": [
       "<div>\n",
       "<style scoped>\n",
       "    .dataframe tbody tr th:only-of-type {\n",
       "        vertical-align: middle;\n",
       "    }\n",
       "\n",
       "    .dataframe tbody tr th {\n",
       "        vertical-align: top;\n",
       "    }\n",
       "\n",
       "    .dataframe thead th {\n",
       "        text-align: right;\n",
       "    }\n",
       "</style>\n",
       "<table border=\"1\" class=\"dataframe\">\n",
       "  <thead>\n",
       "    <tr style=\"text-align: right;\">\n",
       "      <th></th>\n",
       "      <th>season</th>\n",
       "      <th>week_num</th>\n",
       "      <th>day_of_week</th>\n",
       "      <th>gametime_local</th>\n",
       "      <th>home_team</th>\n",
       "      <th>away_team</th>\n",
       "      <th>home_score</th>\n",
       "      <th>away_score</th>\n",
       "      <th>OT_flag</th>\n",
       "      <th>arrests</th>\n",
       "      <th>division_game</th>\n",
       "    </tr>\n",
       "  </thead>\n",
       "  <tbody>\n",
       "    <tr>\n",
       "      <th>0</th>\n",
       "      <td>2011</td>\n",
       "      <td>1</td>\n",
       "      <td>Sunday</td>\n",
       "      <td>1:15:00 PM</td>\n",
       "      <td>Arizona</td>\n",
       "      <td>Carolina</td>\n",
       "      <td>28</td>\n",
       "      <td>21</td>\n",
       "      <td>NaN</td>\n",
       "      <td>5.0</td>\n",
       "      <td>n</td>\n",
       "    </tr>\n",
       "    <tr>\n",
       "      <th>1</th>\n",
       "      <td>2011</td>\n",
       "      <td>4</td>\n",
       "      <td>Sunday</td>\n",
       "      <td>1:05:00 PM</td>\n",
       "      <td>Arizona</td>\n",
       "      <td>New York Giants</td>\n",
       "      <td>27</td>\n",
       "      <td>31</td>\n",
       "      <td>NaN</td>\n",
       "      <td>6.0</td>\n",
       "      <td>n</td>\n",
       "    </tr>\n",
       "    <tr>\n",
       "      <th>2</th>\n",
       "      <td>2011</td>\n",
       "      <td>7</td>\n",
       "      <td>Sunday</td>\n",
       "      <td>1:05:00 PM</td>\n",
       "      <td>Arizona</td>\n",
       "      <td>Pittsburgh</td>\n",
       "      <td>20</td>\n",
       "      <td>32</td>\n",
       "      <td>NaN</td>\n",
       "      <td>9.0</td>\n",
       "      <td>n</td>\n",
       "    </tr>\n",
       "    <tr>\n",
       "      <th>3</th>\n",
       "      <td>2011</td>\n",
       "      <td>9</td>\n",
       "      <td>Sunday</td>\n",
       "      <td>2:15:00 PM</td>\n",
       "      <td>Arizona</td>\n",
       "      <td>St. Louis</td>\n",
       "      <td>19</td>\n",
       "      <td>13</td>\n",
       "      <td>OT</td>\n",
       "      <td>6.0</td>\n",
       "      <td>y</td>\n",
       "    </tr>\n",
       "    <tr>\n",
       "      <th>4</th>\n",
       "      <td>2011</td>\n",
       "      <td>13</td>\n",
       "      <td>Sunday</td>\n",
       "      <td>2:15:00 PM</td>\n",
       "      <td>Arizona</td>\n",
       "      <td>Dallas</td>\n",
       "      <td>19</td>\n",
       "      <td>13</td>\n",
       "      <td>OT</td>\n",
       "      <td>3.0</td>\n",
       "      <td>n</td>\n",
       "    </tr>\n",
       "  </tbody>\n",
       "</table>\n",
       "</div>"
      ],
      "text/plain": [
       "   season  week_num day_of_week gametime_local home_team        away_team  \\\n",
       "0    2011         1      Sunday     1:15:00 PM   Arizona         Carolina   \n",
       "1    2011         4      Sunday     1:05:00 PM   Arizona  New York Giants   \n",
       "2    2011         7      Sunday     1:05:00 PM   Arizona       Pittsburgh   \n",
       "3    2011         9      Sunday     2:15:00 PM   Arizona        St. Louis   \n",
       "4    2011        13      Sunday     2:15:00 PM   Arizona           Dallas   \n",
       "\n",
       "   home_score  away_score OT_flag  arrests division_game  \n",
       "0          28          21     NaN      5.0             n  \n",
       "1          27          31     NaN      6.0             n  \n",
       "2          20          32     NaN      9.0             n  \n",
       "3          19          13      OT      6.0             y  \n",
       "4          19          13      OT      3.0             n  "
      ]
     },
     "execution_count": null,
     "metadata": {},
     "output_type": "execute_result"
    }
   ],
   "source": [
    "rawarrest.head()"
   ]
  },
  {
   "cell_type": "code",
   "execution_count": null,
   "metadata": {},
   "outputs": [
    {
     "data": {
      "text/html": [
       "<div>\n",
       "<style scoped>\n",
       "    .dataframe tbody tr th:only-of-type {\n",
       "        vertical-align: middle;\n",
       "    }\n",
       "\n",
       "    .dataframe tbody tr th {\n",
       "        vertical-align: top;\n",
       "    }\n",
       "\n",
       "    .dataframe thead th {\n",
       "        text-align: right;\n",
       "    }\n",
       "</style>\n",
       "<table border=\"1\" class=\"dataframe\">\n",
       "  <thead>\n",
       "    <tr style=\"text-align: right;\">\n",
       "      <th></th>\n",
       "      <th>season</th>\n",
       "      <th>week_num</th>\n",
       "      <th>day_of_week</th>\n",
       "      <th>gametime_local</th>\n",
       "      <th>home_team</th>\n",
       "      <th>away_team</th>\n",
       "      <th>home_score</th>\n",
       "      <th>away_score</th>\n",
       "      <th>OT_flag</th>\n",
       "      <th>arrests</th>\n",
       "      <th>division_game</th>\n",
       "    </tr>\n",
       "  </thead>\n",
       "  <tbody>\n",
       "    <tr>\n",
       "      <th>1001</th>\n",
       "      <td>2015</td>\n",
       "      <td>7</td>\n",
       "      <td>Sunday</td>\n",
       "      <td>1:00:00 PM</td>\n",
       "      <td>Washington</td>\n",
       "      <td>Tampa Bay</td>\n",
       "      <td>31</td>\n",
       "      <td>30</td>\n",
       "      <td>NaN</td>\n",
       "      <td>2.0</td>\n",
       "      <td>n</td>\n",
       "    </tr>\n",
       "    <tr>\n",
       "      <th>1002</th>\n",
       "      <td>2015</td>\n",
       "      <td>10</td>\n",
       "      <td>Sunday</td>\n",
       "      <td>1:00:00 PM</td>\n",
       "      <td>Washington</td>\n",
       "      <td>New Orleans</td>\n",
       "      <td>47</td>\n",
       "      <td>14</td>\n",
       "      <td>NaN</td>\n",
       "      <td>2.0</td>\n",
       "      <td>n</td>\n",
       "    </tr>\n",
       "    <tr>\n",
       "      <th>1003</th>\n",
       "      <td>2015</td>\n",
       "      <td>12</td>\n",
       "      <td>Sunday</td>\n",
       "      <td>1:00:00 PM</td>\n",
       "      <td>Washington</td>\n",
       "      <td>New York Giants</td>\n",
       "      <td>20</td>\n",
       "      <td>14</td>\n",
       "      <td>NaN</td>\n",
       "      <td>2.0</td>\n",
       "      <td>y</td>\n",
       "    </tr>\n",
       "    <tr>\n",
       "      <th>1004</th>\n",
       "      <td>2015</td>\n",
       "      <td>13</td>\n",
       "      <td>Monday</td>\n",
       "      <td>8:30:00 PM</td>\n",
       "      <td>Washington</td>\n",
       "      <td>Dallas</td>\n",
       "      <td>16</td>\n",
       "      <td>19</td>\n",
       "      <td>NaN</td>\n",
       "      <td>4.0</td>\n",
       "      <td>y</td>\n",
       "    </tr>\n",
       "    <tr>\n",
       "      <th>1005</th>\n",
       "      <td>2015</td>\n",
       "      <td>15</td>\n",
       "      <td>Sunday</td>\n",
       "      <td>1:00:00 PM</td>\n",
       "      <td>Washington</td>\n",
       "      <td>Buffalo</td>\n",
       "      <td>35</td>\n",
       "      <td>25</td>\n",
       "      <td>NaN</td>\n",
       "      <td>1.0</td>\n",
       "      <td>n</td>\n",
       "    </tr>\n",
       "  </tbody>\n",
       "</table>\n",
       "</div>"
      ],
      "text/plain": [
       "      season  week_num day_of_week gametime_local   home_team  \\\n",
       "1001    2015         7      Sunday     1:00:00 PM  Washington   \n",
       "1002    2015        10      Sunday     1:00:00 PM  Washington   \n",
       "1003    2015        12      Sunday     1:00:00 PM  Washington   \n",
       "1004    2015        13      Monday     8:30:00 PM  Washington   \n",
       "1005    2015        15      Sunday     1:00:00 PM  Washington   \n",
       "\n",
       "            away_team  home_score  away_score OT_flag  arrests division_game  \n",
       "1001        Tampa Bay          31          30     NaN      2.0             n  \n",
       "1002      New Orleans          47          14     NaN      2.0             n  \n",
       "1003  New York Giants          20          14     NaN      2.0             y  \n",
       "1004           Dallas          16          19     NaN      4.0             y  \n",
       "1005          Buffalo          35          25     NaN      1.0             n  "
      ]
     },
     "execution_count": null,
     "metadata": {},
     "output_type": "execute_result"
    }
   ],
   "source": [
    "rawarrest.tail()"
   ]
  },
  {
   "cell_type": "code",
   "execution_count": null,
   "metadata": {},
   "outputs": [
    {
     "name": "stdout",
     "output_type": "stream",
     "text": [
      "(1006, 11)\n",
      "   season  week_num day_of_week gametime_local home_team        away_team  \\\n",
      "0    2011         1      Sunday     1:15:00 PM   Arizona         Carolina   \n",
      "1    2011         4      Sunday     1:05:00 PM   Arizona  New York Giants   \n",
      "2    2011         7      Sunday     1:05:00 PM   Arizona       Pittsburgh   \n",
      "3    2011         9      Sunday     2:15:00 PM   Arizona        St. Louis   \n",
      "4    2011        13      Sunday     2:15:00 PM   Arizona           Dallas   \n",
      "\n",
      "   home_score  away_score OT_flag  arrests division_game  \n",
      "0          28          21     NaN      5.0             n  \n",
      "1          27          31     NaN      6.0             n  \n",
      "2          20          32     NaN      9.0             n  \n",
      "3          19          13      OT      6.0             y  \n",
      "4          19          13      OT      3.0             n  \n",
      "Index(['season', 'week_num', 'day_of_week', 'gametime_local', 'home_team',\n",
      "       'away_team', 'home_score', 'away_score', 'OT_flag', 'arrests',\n",
      "       'division_game'],\n",
      "      dtype='object')\n"
     ]
    }
   ],
   "source": [
    "print(rawarrest.shape)\n",
    "print(rawarrest.head())\n",
    "print(rawarrest.columns)"
   ]
  },
  {
   "cell_type": "code",
   "execution_count": null,
   "metadata": {},
   "outputs": [
    {
     "data": {
      "text/plain": [
       "season             5\n",
       "week_num          17\n",
       "day_of_week        5\n",
       "gametime_local    46\n",
       "home_team         26\n",
       "away_team         32\n",
       "home_score        54\n",
       "away_score        46\n",
       "OT_flag            1\n",
       "arrests           51\n",
       "division_game      2\n",
       "dtype: int64"
      ]
     },
     "execution_count": null,
     "metadata": {},
     "output_type": "execute_result"
    }
   ],
   "source": [
    "rawarrest.nunique(axis=0)\n",
    "#rawarrest.describe().apply(lambda s: s.apply(lambda x: format(x, 'f')))"
   ]
  },
  {
   "cell_type": "code",
   "execution_count": null,
   "metadata": {},
   "outputs": [
    {
     "data": {
      "text/html": [
       "<div>\n",
       "<style scoped>\n",
       "    .dataframe tbody tr th:only-of-type {\n",
       "        vertical-align: middle;\n",
       "    }\n",
       "\n",
       "    .dataframe tbody tr th {\n",
       "        vertical-align: top;\n",
       "    }\n",
       "\n",
       "    .dataframe thead th {\n",
       "        text-align: right;\n",
       "    }\n",
       "</style>\n",
       "<table border=\"1\" class=\"dataframe\">\n",
       "  <thead>\n",
       "    <tr style=\"text-align: right;\">\n",
       "      <th></th>\n",
       "      <th>season</th>\n",
       "      <th>week_num</th>\n",
       "      <th>home_score</th>\n",
       "      <th>away_score</th>\n",
       "      <th>arrests</th>\n",
       "    </tr>\n",
       "  </thead>\n",
       "  <tbody>\n",
       "    <tr>\n",
       "      <th>count</th>\n",
       "      <td>1006.000000</td>\n",
       "      <td>1006.000000</td>\n",
       "      <td>1006.000000</td>\n",
       "      <td>1006.000000</td>\n",
       "      <td>966.000000</td>\n",
       "    </tr>\n",
       "    <tr>\n",
       "      <th>mean</th>\n",
       "      <td>2013.000000</td>\n",
       "      <td>9.116302</td>\n",
       "      <td>23.934394</td>\n",
       "      <td>21.115308</td>\n",
       "      <td>6.566253</td>\n",
       "    </tr>\n",
       "    <tr>\n",
       "      <th>std</th>\n",
       "      <td>1.406453</td>\n",
       "      <td>5.008986</td>\n",
       "      <td>10.442626</td>\n",
       "      <td>9.734006</td>\n",
       "      <td>9.512101</td>\n",
       "    </tr>\n",
       "    <tr>\n",
       "      <th>min</th>\n",
       "      <td>2011.000000</td>\n",
       "      <td>1.000000</td>\n",
       "      <td>0.000000</td>\n",
       "      <td>0.000000</td>\n",
       "      <td>0.000000</td>\n",
       "    </tr>\n",
       "    <tr>\n",
       "      <th>25%</th>\n",
       "      <td>2012.000000</td>\n",
       "      <td>5.000000</td>\n",
       "      <td>17.000000</td>\n",
       "      <td>14.000000</td>\n",
       "      <td>1.000000</td>\n",
       "    </tr>\n",
       "    <tr>\n",
       "      <th>50%</th>\n",
       "      <td>2013.000000</td>\n",
       "      <td>9.000000</td>\n",
       "      <td>23.000000</td>\n",
       "      <td>20.000000</td>\n",
       "      <td>3.000000</td>\n",
       "    </tr>\n",
       "    <tr>\n",
       "      <th>75%</th>\n",
       "      <td>2014.000000</td>\n",
       "      <td>14.000000</td>\n",
       "      <td>30.000000</td>\n",
       "      <td>27.000000</td>\n",
       "      <td>8.000000</td>\n",
       "    </tr>\n",
       "    <tr>\n",
       "      <th>max</th>\n",
       "      <td>2015.000000</td>\n",
       "      <td>17.000000</td>\n",
       "      <td>59.000000</td>\n",
       "      <td>56.000000</td>\n",
       "      <td>69.000000</td>\n",
       "    </tr>\n",
       "  </tbody>\n",
       "</table>\n",
       "</div>"
      ],
      "text/plain": [
       "            season     week_num   home_score   away_score     arrests\n",
       "count  1006.000000  1006.000000  1006.000000  1006.000000  966.000000\n",
       "mean   2013.000000     9.116302    23.934394    21.115308    6.566253\n",
       "std       1.406453     5.008986    10.442626     9.734006    9.512101\n",
       "min    2011.000000     1.000000     0.000000     0.000000    0.000000\n",
       "25%    2012.000000     5.000000    17.000000    14.000000    1.000000\n",
       "50%    2013.000000     9.000000    23.000000    20.000000    3.000000\n",
       "75%    2014.000000    14.000000    30.000000    27.000000    8.000000\n",
       "max    2015.000000    17.000000    59.000000    56.000000   69.000000"
      ]
     },
     "execution_count": null,
     "metadata": {},
     "output_type": "execute_result"
    }
   ],
   "source": [
    "rawarrest.describe().apply(lambda s: s.apply(lambda x: format(x, 'f')))"
   ]
  },
  {
   "cell_type": "code",
   "execution_count": null,
   "metadata": {},
   "outputs": [],
   "source": [
    "import seaborn as sns\n",
    "import matplotlib.pyplot as plt"
   ]
  },
  {
   "cell_type": "code",
   "execution_count": null,
   "metadata": {},
   "outputs": [
    {
     "data": {
      "text/plain": [
       "[Text(0.5, 1.0, 'Average number of arrest during the week for first 100 datapoints'),\n",
       " Text(0, 0.5, 'Arrests'),\n",
       " Text(0.5, 0, 'Day of the week')]"
      ]
     },
     "execution_count": null,
     "metadata": {},
     "output_type": "execute_result"
    },
    {
     "data": {
      "image/png": "[encoded data removed]",
      "text/plain": [
       "<Figure size 432x288 with 1 Axes>"
      ]
     },
     "metadata": {
      "needs_background": "light"
     },
     "output_type": "display_data"
    }
   ],
   "source": [
    "rawheaddf = rawarrest.head(100)\n",
    "sns.barplot(x='day_of_week', y = 'arrests', data=rawheaddf).set(title='Average number of arrest during the week for first 100 datapoints',ylabel='Arrests', xlabel='Day of the week')"
   ]
  },
  {
   "cell_type": "code",
   "execution_count": null,
   "metadata": {},
   "outputs": [
    {
     "data": {
      "text/html": [
       "<div>\n",
       "<style scoped>\n",
       "    .dataframe tbody tr th:only-of-type {\n",
       "        vertical-align: middle;\n",
       "    }\n",
       "\n",
       "    .dataframe tbody tr th {\n",
       "        vertical-align: top;\n",
       "    }\n",
       "\n",
       "    .dataframe thead th {\n",
       "        text-align: right;\n",
       "    }\n",
       "</style>\n",
       "<table border=\"1\" class=\"dataframe\">\n",
       "  <thead>\n",
       "    <tr style=\"text-align: right;\">\n",
       "      <th></th>\n",
       "      <th>season</th>\n",
       "      <th>week_num</th>\n",
       "      <th>day_of_week</th>\n",
       "      <th>gametime_local</th>\n",
       "      <th>home_team</th>\n",
       "      <th>away_team</th>\n",
       "      <th>home_score</th>\n",
       "      <th>away_score</th>\n",
       "      <th>OT_flag</th>\n",
       "      <th>arrests</th>\n",
       "      <th>division_game</th>\n",
       "    </tr>\n",
       "  </thead>\n",
       "  <tbody>\n",
       "    <tr>\n",
       "      <th>591</th>\n",
       "      <td>2013</td>\n",
       "      <td>12</td>\n",
       "      <td>Sunday</td>\n",
       "      <td>4:25:00 PM</td>\n",
       "      <td>New York Giants</td>\n",
       "      <td>Dallas</td>\n",
       "      <td>21</td>\n",
       "      <td>24</td>\n",
       "      <td>NaN</td>\n",
       "      <td>46.0</td>\n",
       "      <td>y</td>\n",
       "    </tr>\n",
       "    <tr>\n",
       "      <th>646</th>\n",
       "      <td>2015</td>\n",
       "      <td>10</td>\n",
       "      <td>Thursday</td>\n",
       "      <td>8:25:00 PM</td>\n",
       "      <td>New York Jets</td>\n",
       "      <td>Buffalo</td>\n",
       "      <td>17</td>\n",
       "      <td>22</td>\n",
       "      <td>NaN</td>\n",
       "      <td>44.0</td>\n",
       "      <td>y</td>\n",
       "    </tr>\n",
       "    <tr>\n",
       "      <th>677</th>\n",
       "      <td>2014</td>\n",
       "      <td>14</td>\n",
       "      <td>Sunday</td>\n",
       "      <td>1:25:00 PM</td>\n",
       "      <td>Oakland</td>\n",
       "      <td>San Francisco</td>\n",
       "      <td>24</td>\n",
       "      <td>13</td>\n",
       "      <td>NaN</td>\n",
       "      <td>49.0</td>\n",
       "      <td>n</td>\n",
       "    </tr>\n",
       "    <tr>\n",
       "      <th>739</th>\n",
       "      <td>2012</td>\n",
       "      <td>11</td>\n",
       "      <td>Sunday</td>\n",
       "      <td>8:20:00 PM</td>\n",
       "      <td>Pittsburgh</td>\n",
       "      <td>Baltimore</td>\n",
       "      <td>10</td>\n",
       "      <td>13</td>\n",
       "      <td>NaN</td>\n",
       "      <td>52.0</td>\n",
       "      <td>y</td>\n",
       "    </tr>\n",
       "    <tr>\n",
       "      <th>744</th>\n",
       "      <td>2013</td>\n",
       "      <td>3</td>\n",
       "      <td>Sunday</td>\n",
       "      <td>8:30:00 PM</td>\n",
       "      <td>Pittsburgh</td>\n",
       "      <td>Chicago</td>\n",
       "      <td>23</td>\n",
       "      <td>40</td>\n",
       "      <td>NaN</td>\n",
       "      <td>56.0</td>\n",
       "      <td>n</td>\n",
       "    </tr>\n",
       "    <tr>\n",
       "      <th>771</th>\n",
       "      <td>2011</td>\n",
       "      <td>10</td>\n",
       "      <td>Thursday</td>\n",
       "      <td>5:20:00 PM</td>\n",
       "      <td>San Diego</td>\n",
       "      <td>Oakland</td>\n",
       "      <td>17</td>\n",
       "      <td>24</td>\n",
       "      <td>NaN</td>\n",
       "      <td>69.0</td>\n",
       "      <td>y</td>\n",
       "    </tr>\n",
       "    <tr>\n",
       "      <th>772</th>\n",
       "      <td>2011</td>\n",
       "      <td>12</td>\n",
       "      <td>Sunday</td>\n",
       "      <td>1:15:00 PM</td>\n",
       "      <td>San Diego</td>\n",
       "      <td>Denver</td>\n",
       "      <td>13</td>\n",
       "      <td>16</td>\n",
       "      <td>OT</td>\n",
       "      <td>41.0</td>\n",
       "      <td>y</td>\n",
       "    </tr>\n",
       "    <tr>\n",
       "      <th>776</th>\n",
       "      <td>2012</td>\n",
       "      <td>3</td>\n",
       "      <td>Sunday</td>\n",
       "      <td>1:05:00 PM</td>\n",
       "      <td>San Diego</td>\n",
       "      <td>Atlanta</td>\n",
       "      <td>3</td>\n",
       "      <td>27</td>\n",
       "      <td>NaN</td>\n",
       "      <td>47.0</td>\n",
       "      <td>n</td>\n",
       "    </tr>\n",
       "    <tr>\n",
       "      <th>777</th>\n",
       "      <td>2012</td>\n",
       "      <td>6</td>\n",
       "      <td>Monday</td>\n",
       "      <td>5:30:00 PM</td>\n",
       "      <td>San Diego</td>\n",
       "      <td>Denver</td>\n",
       "      <td>24</td>\n",
       "      <td>35</td>\n",
       "      <td>NaN</td>\n",
       "      <td>45.0</td>\n",
       "      <td>y</td>\n",
       "    </tr>\n",
       "    <tr>\n",
       "      <th>782</th>\n",
       "      <td>2012</td>\n",
       "      <td>17</td>\n",
       "      <td>Sunday</td>\n",
       "      <td>1:25:00 PM</td>\n",
       "      <td>San Diego</td>\n",
       "      <td>Oakland</td>\n",
       "      <td>24</td>\n",
       "      <td>21</td>\n",
       "      <td>NaN</td>\n",
       "      <td>60.0</td>\n",
       "      <td>y</td>\n",
       "    </tr>\n",
       "  </tbody>\n",
       "</table>\n",
       "</div>"
      ],
      "text/plain": [
       "     season  week_num day_of_week gametime_local        home_team  \\\n",
       "591    2013        12      Sunday     4:25:00 PM  New York Giants   \n",
       "646    2015        10    Thursday     8:25:00 PM    New York Jets   \n",
       "677    2014        14      Sunday     1:25:00 PM          Oakland   \n",
       "739    2012        11      Sunday     8:20:00 PM       Pittsburgh   \n",
       "744    2013         3      Sunday     8:30:00 PM       Pittsburgh   \n",
       "771    2011        10    Thursday     5:20:00 PM        San Diego   \n",
       "772    2011        12      Sunday     1:15:00 PM        San Diego   \n",
       "776    2012         3      Sunday     1:05:00 PM        San Diego   \n",
       "777    2012         6      Monday     5:30:00 PM        San Diego   \n",
       "782    2012        17      Sunday     1:25:00 PM        San Diego   \n",
       "\n",
       "         away_team  home_score  away_score OT_flag  arrests division_game  \n",
       "591         Dallas          21          24     NaN     46.0             y  \n",
       "646        Buffalo          17          22     NaN     44.0             y  \n",
       "677  San Francisco          24          13     NaN     49.0             n  \n",
       "739      Baltimore          10          13     NaN     52.0             y  \n",
       "744        Chicago          23          40     NaN     56.0             n  \n",
       "771        Oakland          17          24     NaN     69.0             y  \n",
       "772         Denver          13          16      OT     41.0             y  \n",
       "776        Atlanta           3          27     NaN     47.0             n  \n",
       "777         Denver          24          35     NaN     45.0             y  \n",
       "782        Oakland          24          21     NaN     60.0             y  "
      ]
     },
     "execution_count": null,
     "metadata": {},
     "output_type": "execute_result"
    }
   ],
   "source": [
    "arrestsmax = rawarrest[rawarrest['arrests'].gt(40)]\n",
    "arrestsmax"
   ]
  },
  {
   "cell_type": "code",
   "execution_count": null,
   "metadata": {},
   "outputs": [
    {
     "data": {
      "text/plain": [
       "<AxesSubplot:>"
      ]
     },
     "execution_count": null,
     "metadata": {},
     "output_type": "execute_result"
    },
    {
     "data": {
      "image/png": "[encoded data removed]",
      "text/plain": [
       "<Figure size 432x288 with 1 Axes>"
      ]
     },
     "metadata": {
      "needs_background": "light"
     },
     "output_type": "display_data"
    }
   ],
   "source": [
    "rawsampledf= rawarrest.sample(50)\n",
    "weektest = rawsampledf['week_num']\n",
    "weektest.hist()"
   ]
  },
  {
   "cell_type": "code",
   "execution_count": null,
   "metadata": {},
   "outputs": [
    {
     "data": {
      "image/png": "[encoded data removed]",
      "text/plain": [
       "<Figure size 432x288 with 6 Axes>"
      ]
     },
     "metadata": {
      "needs_background": "light"
     },
     "output_type": "display_data"
    }
   ],
   "source": [
    "rawarrest.hist()\n",
    "plt.tight_layout() #Avoid Title overlap"
   ]
  },
  {
   "cell_type": "code",
   "execution_count": null,
   "metadata": {},
   "outputs": [],
   "source": [
    "#new_cols = [col for col in dta.columns if 'E' in col] \n",
    "\n",
    "rawarrest_new = rawarrest.filter(regex='E|N')"
   ]
  },
  {
   "cell_type": "code",
   "execution_count": null,
   "metadata": {},
   "outputs": [
    {
     "name": "stdout",
     "output_type": "stream",
     "text": [
      "Empty DataFrame\n",
      "Columns: []\n",
      "Index: []\n"
     ]
    }
   ],
   "source": [
    "corr = rawarrest_new.corr()\n",
    "print(corr)"
   ]
  },
  {
   "cell_type": "code",
   "execution_count": null,
   "metadata": {},
   "outputs": [
    {
     "data": {
      "text/html": [
       "<div>\n",
       "<style scoped>\n",
       "    .dataframe tbody tr th:only-of-type {\n",
       "        vertical-align: middle;\n",
       "    }\n",
       "\n",
       "    .dataframe tbody tr th {\n",
       "        vertical-align: top;\n",
       "    }\n",
       "\n",
       "    .dataframe thead th {\n",
       "        text-align: right;\n",
       "    }\n",
       "</style>\n",
       "<table border=\"1\" class=\"dataframe\">\n",
       "  <thead>\n",
       "    <tr style=\"text-align: right;\">\n",
       "      <th></th>\n",
       "      <th>Season</th>\n",
       "      <th>Week Number</th>\n",
       "      <th>Day of Week</th>\n",
       "      <th>Gametime Local</th>\n",
       "      <th>Arrests</th>\n",
       "    </tr>\n",
       "  </thead>\n",
       "  <tbody>\n",
       "    <tr>\n",
       "      <th>183</th>\n",
       "      <td>2011</td>\n",
       "      <td>3</td>\n",
       "      <td>Monday</td>\n",
       "      <td>7:30:00 PM</td>\n",
       "      <td>1.0</td>\n",
       "    </tr>\n",
       "    <tr>\n",
       "      <th>223</th>\n",
       "      <td>2011</td>\n",
       "      <td>1</td>\n",
       "      <td>Monday</td>\n",
       "      <td>8:15:00 PM</td>\n",
       "      <td>2.0</td>\n",
       "    </tr>\n",
       "    <tr>\n",
       "      <th>306</th>\n",
       "      <td>2011</td>\n",
       "      <td>10</td>\n",
       "      <td>Monday</td>\n",
       "      <td>7:30:00 PM</td>\n",
       "      <td>6.0</td>\n",
       "    </tr>\n",
       "    <tr>\n",
       "      <th>426</th>\n",
       "      <td>2011</td>\n",
       "      <td>7</td>\n",
       "      <td>Monday</td>\n",
       "      <td>8:30:00 PM</td>\n",
       "      <td>3.0</td>\n",
       "    </tr>\n",
       "    <tr>\n",
       "      <th>428</th>\n",
       "      <td>2011</td>\n",
       "      <td>13</td>\n",
       "      <td>Monday</td>\n",
       "      <td>8:30:00 PM</td>\n",
       "      <td>6.0</td>\n",
       "    </tr>\n",
       "    <tr>\n",
       "      <th>462</th>\n",
       "      <td>2011</td>\n",
       "      <td>8</td>\n",
       "      <td>Monday</td>\n",
       "      <td>7:30:00 PM</td>\n",
       "      <td>2.0</td>\n",
       "    </tr>\n",
       "    <tr>\n",
       "      <th>534</th>\n",
       "      <td>2011</td>\n",
       "      <td>11</td>\n",
       "      <td>Monday</td>\n",
       "      <td>8:30:00 PM</td>\n",
       "      <td>12.0</td>\n",
       "    </tr>\n",
       "    <tr>\n",
       "      <th>570</th>\n",
       "      <td>2011</td>\n",
       "      <td>2</td>\n",
       "      <td>Monday</td>\n",
       "      <td>8:30:00 PM</td>\n",
       "      <td>18.0</td>\n",
       "    </tr>\n",
       "    <tr>\n",
       "      <th>612</th>\n",
       "      <td>2011</td>\n",
       "      <td>6</td>\n",
       "      <td>Monday</td>\n",
       "      <td>8:30:00 PM</td>\n",
       "      <td>28.0</td>\n",
       "    </tr>\n",
       "    <tr>\n",
       "      <th>690</th>\n",
       "      <td>2011</td>\n",
       "      <td>9</td>\n",
       "      <td>Monday</td>\n",
       "      <td>8:30:00 PM</td>\n",
       "      <td>2.0</td>\n",
       "    </tr>\n",
       "  </tbody>\n",
       "</table>\n",
       "</div>"
      ],
      "text/plain": [
       "     Season  Week Number Day of Week Gametime Local  Arrests\n",
       "183    2011            3      Monday     7:30:00 PM      1.0\n",
       "223    2011            1      Monday     8:15:00 PM      2.0\n",
       "306    2011           10      Monday     7:30:00 PM      6.0\n",
       "426    2011            7      Monday     8:30:00 PM      3.0\n",
       "428    2011           13      Monday     8:30:00 PM      6.0\n",
       "462    2011            8      Monday     7:30:00 PM      2.0\n",
       "534    2011           11      Monday     8:30:00 PM     12.0\n",
       "570    2011            2      Monday     8:30:00 PM     18.0\n",
       "612    2011            6      Monday     8:30:00 PM     28.0\n",
       "690    2011            9      Monday     8:30:00 PM      2.0"
      ]
     },
     "execution_count": null,
     "metadata": {},
     "output_type": "execute_result"
    }
   ],
   "source": [
    "#loading dataset\n",
    "rawarrest = pd.read_csv('/Users/nikitachandralzrs/Desktop/301/project-group03/data/raw/arrests.csv', sep= \",\")\n",
    "    \n",
    "#Removing columns\n",
    "formatdf = rawarrest.copy().drop(columns=['home_team', 'away_team', 'home_score', 'away_score', 'OT_flag', 'division_game'],axis=1).dropna(axis=0)\n",
    "\n",
    "#Sorting\n",
    "formatdf.sort_values(by=['season', 'day_of_week'],inplace=True)\n",
    "    \n",
    "#Rename columns\n",
    "formatdf.rename(columns={'day_of_week':'Day of Week','week_num':'Week Number','gametime_local': 'Gametime Local', \n",
    "                        'arrests':'Arrests', 'season':'Season'},inplace = True)\n",
    "#Convert NaN values in arrests to 0\n",
    "formatdf['Arrests'] = formatdf['Arrests'].fillna(0)\n",
    "\n",
    "#Save the data in = processed output file\n",
    "formatdf.to_csv('..\\\\data\\\\processed\\\\SFaheemAnalysisProcess.csv',index=False)\n",
    "\n",
    "#Now let's quickly observe what our new data looks like\n",
    "formatdf.head(10)"
   ]
  },
  {
   "cell_type": "code",
   "execution_count": null,
   "metadata": {},
   "outputs": [
    {
     "data": {
      "text/html": [
       "<div>\n",
       "<style scoped>\n",
       "    .dataframe tbody tr th:only-of-type {\n",
       "        vertical-align: middle;\n",
       "    }\n",
       "\n",
       "    .dataframe tbody tr th {\n",
       "        vertical-align: top;\n",
       "    }\n",
       "\n",
       "    .dataframe thead th {\n",
       "        text-align: right;\n",
       "    }\n",
       "</style>\n",
       "<table border=\"1\" class=\"dataframe\">\n",
       "  <thead>\n",
       "    <tr style=\"text-align: right;\">\n",
       "      <th></th>\n",
       "      <th>Season</th>\n",
       "      <th>Week Number</th>\n",
       "      <th>Day of Week</th>\n",
       "      <th>Gametime Local</th>\n",
       "      <th>Arrests</th>\n",
       "    </tr>\n",
       "  </thead>\n",
       "  <tbody>\n",
       "    <tr>\n",
       "      <th>183</th>\n",
       "      <td>2011</td>\n",
       "      <td>3</td>\n",
       "      <td>Monday</td>\n",
       "      <td>7:30:00 PM</td>\n",
       "      <td>1.0</td>\n",
       "    </tr>\n",
       "    <tr>\n",
       "      <th>223</th>\n",
       "      <td>2011</td>\n",
       "      <td>1</td>\n",
       "      <td>Monday</td>\n",
       "      <td>8:15:00 PM</td>\n",
       "      <td>2.0</td>\n",
       "    </tr>\n",
       "    <tr>\n",
       "      <th>264</th>\n",
       "      <td>2011</td>\n",
       "      <td>5</td>\n",
       "      <td>Monday</td>\n",
       "      <td>8:30:00 PM</td>\n",
       "      <td>NaN</td>\n",
       "    </tr>\n",
       "    <tr>\n",
       "      <th>306</th>\n",
       "      <td>2011</td>\n",
       "      <td>10</td>\n",
       "      <td>Monday</td>\n",
       "      <td>7:30:00 PM</td>\n",
       "      <td>6.0</td>\n",
       "    </tr>\n",
       "    <tr>\n",
       "      <th>426</th>\n",
       "      <td>2011</td>\n",
       "      <td>7</td>\n",
       "      <td>Monday</td>\n",
       "      <td>8:30:00 PM</td>\n",
       "      <td>3.0</td>\n",
       "    </tr>\n",
       "  </tbody>\n",
       "</table>\n",
       "</div>"
      ],
      "text/plain": [
       "     Season  Week Number Day of Week Gametime Local  Arrests\n",
       "183    2011            3      Monday     7:30:00 PM      1.0\n",
       "223    2011            1      Monday     8:15:00 PM      2.0\n",
       "264    2011            5      Monday     8:30:00 PM      NaN\n",
       "306    2011           10      Monday     7:30:00 PM      6.0\n",
       "426    2011            7      Monday     8:30:00 PM      3.0"
      ]
     },
     "execution_count": null,
     "metadata": {},
     "output_type": "execute_result"
    }
   ],
   "source": [
    "loaddf = (pd.read_csv('/Users/nikitachandralzrs/Desktop/301/project-group03/data/raw/arrests.csv', sep= \",\")\n",
    "    .copy().drop(['home_team', 'away_team', 'home_score', 'away_score', 'OT_flag', 'division_game'],axis=1))\n",
    "loaddf.sort_values(by=['season', 'day_of_week'],inplace=True)\n",
    "loaddf.rename(columns={'day_of_week':'Day of Week','week_num':'Week Number','gametime_local': 'Gametime Local', \n",
    "                        'arrests':'Arrests', 'season':'Season'},inplace = True)\n",
    "loaddf.head()"
   ]
  },
  {
   "cell_type": "code",
   "execution_count": null,
   "metadata": {},
   "outputs": [
    {
     "data": {
      "text/html": [
       "<div>\n",
       "<style scoped>\n",
       "    .dataframe tbody tr th:only-of-type {\n",
       "        vertical-align: middle;\n",
       "    }\n",
       "\n",
       "    .dataframe tbody tr th {\n",
       "        vertical-align: top;\n",
       "    }\n",
       "\n",
       "    .dataframe thead th {\n",
       "        text-align: right;\n",
       "    }\n",
       "</style>\n",
       "<table border=\"1\" class=\"dataframe\">\n",
       "  <thead>\n",
       "    <tr style=\"text-align: right;\">\n",
       "      <th></th>\n",
       "      <th>Season</th>\n",
       "      <th>Week Number</th>\n",
       "      <th>Day of Week</th>\n",
       "      <th>Gametime Local</th>\n",
       "      <th>Arrests</th>\n",
       "    </tr>\n",
       "  </thead>\n",
       "  <tbody>\n",
       "    <tr>\n",
       "      <th>183</th>\n",
       "      <td>2011</td>\n",
       "      <td>3</td>\n",
       "      <td>Monday</td>\n",
       "      <td>7:30:00 PM</td>\n",
       "      <td>1.0</td>\n",
       "    </tr>\n",
       "    <tr>\n",
       "      <th>223</th>\n",
       "      <td>2011</td>\n",
       "      <td>1</td>\n",
       "      <td>Monday</td>\n",
       "      <td>8:15:00 PM</td>\n",
       "      <td>2.0</td>\n",
       "    </tr>\n",
       "    <tr>\n",
       "      <th>264</th>\n",
       "      <td>2011</td>\n",
       "      <td>5</td>\n",
       "      <td>Monday</td>\n",
       "      <td>8:30:00 PM</td>\n",
       "      <td>0.0</td>\n",
       "    </tr>\n",
       "    <tr>\n",
       "      <th>306</th>\n",
       "      <td>2011</td>\n",
       "      <td>10</td>\n",
       "      <td>Monday</td>\n",
       "      <td>7:30:00 PM</td>\n",
       "      <td>6.0</td>\n",
       "    </tr>\n",
       "    <tr>\n",
       "      <th>426</th>\n",
       "      <td>2011</td>\n",
       "      <td>7</td>\n",
       "      <td>Monday</td>\n",
       "      <td>8:30:00 PM</td>\n",
       "      <td>3.0</td>\n",
       "    </tr>\n",
       "  </tbody>\n",
       "</table>\n",
       "</div>"
      ],
      "text/plain": [
       "     Season  Week Number Day of Week Gametime Local  Arrests\n",
       "183    2011            3      Monday     7:30:00 PM      1.0\n",
       "223    2011            1      Monday     8:15:00 PM      2.0\n",
       "264    2011            5      Monday     8:30:00 PM      0.0\n",
       "306    2011           10      Monday     7:30:00 PM      6.0\n",
       "426    2011            7      Monday     8:30:00 PM      3.0"
      ]
     },
     "execution_count": null,
     "metadata": {},
     "output_type": "execute_result"
    }
   ],
   "source": [
    "finaldf = loaddf\n",
    "finaldf['Arrests'] = finaldf['Arrests'].fillna(0)\n",
    "finaldf.head()"
   ]
  },
  {
   "cell_type": "code",
   "execution_count": null,
   "metadata": {},
   "outputs": [],
   "source": [
    "import numpy as np\n",
    "import pandas as pd\n",
    "import seaborn as sns\n",
    "import matplotlib.pyplot as plt\n",
    "\n",
    "projectdf = (pd.read_csv(\"..\\\\data\\\\processed\\\\SFaheemAnalysisProcess.csv\"))"
   ]
  },
  {
   "cell_type": "code",
   "execution_count": null,
   "metadata": {},
   "outputs": [
    {
     "data": {
      "text/html": [
       "<div>\n",
       "<style scoped>\n",
       "    .dataframe tbody tr th:only-of-type {\n",
       "        vertical-align: middle;\n",
       "    }\n",
       "\n",
       "    .dataframe tbody tr th {\n",
       "        vertical-align: top;\n",
       "    }\n",
       "\n",
       "    .dataframe thead th {\n",
       "        text-align: right;\n",
       "    }\n",
       "</style>\n",
       "<table border=\"1\" class=\"dataframe\">\n",
       "  <thead>\n",
       "    <tr style=\"text-align: right;\">\n",
       "      <th></th>\n",
       "      <th>Season</th>\n",
       "      <th>Arrests</th>\n",
       "    </tr>\n",
       "  </thead>\n",
       "  <tbody>\n",
       "    <tr>\n",
       "      <th>0</th>\n",
       "      <td>2011</td>\n",
       "      <td>1187.0</td>\n",
       "    </tr>\n",
       "    <tr>\n",
       "      <th>1</th>\n",
       "      <td>2012</td>\n",
       "      <td>1348.0</td>\n",
       "    </tr>\n",
       "    <tr>\n",
       "      <th>2</th>\n",
       "      <td>2013</td>\n",
       "      <td>1287.0</td>\n",
       "    </tr>\n",
       "    <tr>\n",
       "      <th>3</th>\n",
       "      <td>2014</td>\n",
       "      <td>1323.0</td>\n",
       "    </tr>\n",
       "    <tr>\n",
       "      <th>4</th>\n",
       "      <td>2015</td>\n",
       "      <td>1198.0</td>\n",
       "    </tr>\n",
       "  </tbody>\n",
       "</table>\n",
       "</div>"
      ],
      "text/plain": [
       "   Season  Arrests\n",
       "0    2011   1187.0\n",
       "1    2012   1348.0\n",
       "2    2013   1287.0\n",
       "3    2014   1323.0\n",
       "4    2015   1198.0"
      ]
     },
     "execution_count": null,
     "metadata": {},
     "output_type": "execute_result"
    }
   ],
   "source": [
    "dff2 = projectdf.groupby(['Season']).Arrests.sum().reset_index() #Sorts by gametime and sums arrests at each time\n",
    "dff2 = dff2[dff2['Arrests'] != 0] #remove 0 arrests value for this plot\n",
    "dff2.head()"
   ]
  },
  {
   "cell_type": "code",
   "execution_count": null,
   "metadata": {},
   "outputs": [
    {
     "data": {
      "text/plain": [
       "[Text(0.5, 1.0, 'Total arrests during corresponding season'),\n",
       " Text(0, 0.5, 'Season'),\n",
       " Text(0.5, 0, 'Arrests')]"
      ]
     },
     "execution_count": null,
     "metadata": {},
     "output_type": "execute_result"
    },
    {
     "data": {
      "image/png": "[encoded data removed]",
      "text/plain": [
       "<Figure size 720x720 with 1 Axes>"
      ]
     },
     "metadata": {
      "needs_background": "light"
     },
     "output_type": "display_data"
    }
   ],
   "source": [
    "f, ax = plt.subplots(figsize=(10,10)) #Change figure size\n",
    "sns.barplot(x='Arrests', y = 'Season', data=dff2).set(title='Total arrests during corresponding season',ylabel='Season', xlabel='Arrests') #PLot barplot"
   ]
  },
  {
   "cell_type": "code",
   "execution_count": null,
   "metadata": {},
   "outputs": [
    {
     "data": {
      "text/plain": [
       "[Text(0.5, 1.0, 'Average number of arrests at a game during corresponding season'),\n",
       " Text(0, 0.5, 'Arrests'),\n",
       " Text(0.5, 0, 'Seasons')]"
      ]
     },
     "execution_count": null,
     "metadata": {},
     "output_type": "execute_result"
    },
    {
     "data": {
      "image/png": "[encoded data removed]",
      "text/plain": [
       "<Figure size 720x864 with 1 Axes>"
      ]
     },
     "metadata": {
      "needs_background": "light"
     },
     "output_type": "display_data"
    }
   ],
   "source": [
    "f, ax = plt.subplots(figsize=(10,12)) #Change figure size\n",
    "sns.barplot(x='Season', y = 'Arrests', data=projectdf).set(title='Average number of arrests at a game during corresponding season',ylabel='Arrests', xlabel='Seasons') #PLot barplot"
   ]
  },
  {
   "cell_type": "code",
   "execution_count": null,
   "metadata": {},
   "outputs": [
    {
     "data": {
      "text/html": [
       "<div>\n",
       "<style scoped>\n",
       "    .dataframe tbody tr th:only-of-type {\n",
       "        vertical-align: middle;\n",
       "    }\n",
       "\n",
       "    .dataframe tbody tr th {\n",
       "        vertical-align: top;\n",
       "    }\n",
       "\n",
       "    .dataframe thead th {\n",
       "        text-align: right;\n",
       "    }\n",
       "</style>\n",
       "<table border=\"1\" class=\"dataframe\">\n",
       "  <thead>\n",
       "    <tr style=\"text-align: right;\">\n",
       "      <th></th>\n",
       "      <th>Day of Week</th>\n",
       "      <th>Arrests</th>\n",
       "    </tr>\n",
       "  </thead>\n",
       "  <tbody>\n",
       "    <tr>\n",
       "      <th>0</th>\n",
       "      <td>Monday</td>\n",
       "      <td>527.0</td>\n",
       "    </tr>\n",
       "    <tr>\n",
       "      <th>1</th>\n",
       "      <td>Saturday</td>\n",
       "      <td>90.0</td>\n",
       "    </tr>\n",
       "    <tr>\n",
       "      <th>2</th>\n",
       "      <td>Sunday</td>\n",
       "      <td>5217.0</td>\n",
       "    </tr>\n",
       "    <tr>\n",
       "      <th>3</th>\n",
       "      <td>Thursday</td>\n",
       "      <td>470.0</td>\n",
       "    </tr>\n",
       "    <tr>\n",
       "      <th>4</th>\n",
       "      <td>Wednesday</td>\n",
       "      <td>39.0</td>\n",
       "    </tr>\n",
       "  </tbody>\n",
       "</table>\n",
       "</div>"
      ],
      "text/plain": [
       "  Day of Week  Arrests\n",
       "0      Monday    527.0\n",
       "1    Saturday     90.0\n",
       "2      Sunday   5217.0\n",
       "3    Thursday    470.0\n",
       "4   Wednesday     39.0"
      ]
     },
     "execution_count": null,
     "metadata": {},
     "output_type": "execute_result"
    }
   ],
   "source": [
    "dff3 = projectdf.groupby([\"Day of Week\"]).Arrests.sum().reset_index() #Sorts by day and sums arrests at each time\n",
    "dff3 = dff3[dff3['Arrests'] != 0] #remove 0 for this plot\n",
    "dff3.head()"
   ]
  },
  {
   "cell_type": "code",
   "execution_count": null,
   "metadata": {},
   "outputs": [
    {
     "data": {
      "text/plain": [
       "[Text(0.5, 1.0, 'Total arrests during corresponding game day'),\n",
       " Text(0, 0.5, 'Game day'),\n",
       " Text(0.5, 0, 'Arrests')]"
      ]
     },
     "execution_count": null,
     "metadata": {},
     "output_type": "execute_result"
    },
    {
     "data": {
      "image/png": "[encoded data removed]",
      "text/plain": [
       "<Figure size 720x720 with 1 Axes>"
      ]
     },
     "metadata": {
      "needs_background": "light"
     },
     "output_type": "display_data"
    }
   ],
   "source": [
    "f, ax = plt.subplots(figsize=(10,10)) #Change figure size\n",
    "sns.barplot(x='Arrests', y = 'Day of Week', data=dff3).set(title='Total arrests during corresponding game day',ylabel='Game day', xlabel='Arrests') #PLot barplot"
   ]
  },
  {
   "cell_type": "code",
   "execution_count": null,
   "metadata": {},
   "outputs": [
    {
     "data": {
      "text/plain": [
       "[Text(0.5, 1.0, 'Average number of arrests at a game during corresponding game day'),\n",
       " Text(0, 0.5, 'Game day'),\n",
       " Text(0.5, 0, 'Arrests per game')]"
      ]
     },
     "execution_count": null,
     "metadata": {},
     "output_type": "execute_result"
    },
    {
     "data": {
      "image/png": "[encoded data removed]",
      "text/plain": [
       "<Figure size 720x864 with 1 Axes>"
      ]
     },
     "metadata": {
      "needs_background": "light"
     },
     "output_type": "display_data"
    }
   ],
   "source": [
    "f, ax = plt.subplots(figsize=(10,12)) #Change figure size\n",
    "sns.barplot(x='Arrests', y = 'Day of Week', data=projectdf).set(title='Average number of arrests at a game during corresponding game day',ylabel='Game day', xlabel='Arrests per game') #PLot barplot"
   ]
  },
  {
   "cell_type": "code",
   "execution_count": null,
   "metadata": {},
   "outputs": [
    {
     "data": {
      "text/plain": [
       "[Text(0.5, 1.0, 'Number of games at corresponding gamedays'),\n",
       " Text(0, 0.5, 'Gameday'),\n",
       " Text(0.5, 0, 'Count of games')]"
      ]
     },
     "execution_count": null,
     "metadata": {},
     "output_type": "execute_result"
    },
    {
     "data": {
      "image/png": "[encoded data removed]",
      "text/plain": [
       "<Figure size 720x864 with 1 Axes>"
      ]
     },
     "metadata": {
      "needs_background": "light"
     },
     "output_type": "display_data"
    }
   ],
   "source": [
    "f, ax = plt.subplots(figsize=(10,12)) #Change figure size\n",
    "sns.countplot(y='Day of Week', data=projectdf).set(title='Number of games at corresponding gamedays',ylabel='Gameday', xlabel='Count of games')"
   ]
  },
  {
   "cell_type": "code",
   "execution_count": null,
   "metadata": {},
   "outputs": [
    {
     "data": {
      "text/html": [
       "<div>\n",
       "<style scoped>\n",
       "    .dataframe tbody tr th:only-of-type {\n",
       "        vertical-align: middle;\n",
       "    }\n",
       "\n",
       "    .dataframe tbody tr th {\n",
       "        vertical-align: top;\n",
       "    }\n",
       "\n",
       "    .dataframe thead th {\n",
       "        text-align: right;\n",
       "    }\n",
       "</style>\n",
       "<table border=\"1\" class=\"dataframe\">\n",
       "  <thead>\n",
       "    <tr style=\"text-align: right;\">\n",
       "      <th></th>\n",
       "      <th>Week Number</th>\n",
       "      <th>Arrests</th>\n",
       "    </tr>\n",
       "  </thead>\n",
       "  <tbody>\n",
       "    <tr>\n",
       "      <th>0</th>\n",
       "      <td>1</td>\n",
       "      <td>409.0</td>\n",
       "    </tr>\n",
       "    <tr>\n",
       "      <th>1</th>\n",
       "      <td>2</td>\n",
       "      <td>414.0</td>\n",
       "    </tr>\n",
       "    <tr>\n",
       "      <th>2</th>\n",
       "      <td>3</td>\n",
       "      <td>439.0</td>\n",
       "    </tr>\n",
       "    <tr>\n",
       "      <th>3</th>\n",
       "      <td>4</td>\n",
       "      <td>298.0</td>\n",
       "    </tr>\n",
       "    <tr>\n",
       "      <th>4</th>\n",
       "      <td>5</td>\n",
       "      <td>349.0</td>\n",
       "    </tr>\n",
       "  </tbody>\n",
       "</table>\n",
       "</div>"
      ],
      "text/plain": [
       "   Week Number  Arrests\n",
       "0            1    409.0\n",
       "1            2    414.0\n",
       "2            3    439.0\n",
       "3            4    298.0\n",
       "4            5    349.0"
      ]
     },
     "execution_count": null,
     "metadata": {},
     "output_type": "execute_result"
    }
   ],
   "source": [
    "dff4 = projectdf.groupby([\"Week Number\"]).Arrests.sum().reset_index() #Sorts by week number of season and sums arrests at each time\n",
    "dff2 = dff4[dff4['Arrests'] != 0]\n",
    "dff4.head()"
   ]
  },
  {
   "cell_type": "code",
   "execution_count": null,
   "metadata": {},
   "outputs": [
    {
     "data": {
      "text/plain": [
       "[Text(0.5, 1.0, 'Total arrests during corresponding game week'),\n",
       " Text(0, 0.5, 'Arrests'),\n",
       " Text(0.5, 0, 'Week Number')]"
      ]
     },
     "execution_count": null,
     "metadata": {},
     "output_type": "execute_result"
    },
    {
     "data": {
      "image/png": "[encoded data removed]",
      "text/plain": [
       "<Figure size 864x864 with 1 Axes>"
      ]
     },
     "metadata": {
      "needs_background": "light"
     },
     "output_type": "display_data"
    }
   ],
   "source": [
    "f, ax = plt.subplots(figsize=(12,12)) #Change figure size\n",
    "sns.barplot(x='Week Number', y = 'Arrests', data=dff4).set(title='Total arrests during corresponding game week',ylabel='Arrests', xlabel='Week Number') #PLot barplot"
   ]
  },
  {
   "cell_type": "code",
   "execution_count": null,
   "metadata": {},
   "outputs": [
    {
     "data": {
      "text/plain": [
       "[Text(0.5, 1.0, 'Average number of arrests at a game during corresponding game week'),\n",
       " Text(0, 0.5, 'Average number of arrests'),\n",
       " Text(0.5, 0, 'Week Number')]"
      ]
     },
     "execution_count": null,
     "metadata": {},
     "output_type": "execute_result"
    },
    {
     "data": {
      "image/png": "[encoded data removed]",
      "text/plain": [
       "<Figure size 720x864 with 1 Axes>"
      ]
     },
     "metadata": {
      "needs_background": "light"
     },
     "output_type": "display_data"
    }
   ],
   "source": [
    "f, ax = plt.subplots(figsize=(10,12)) #Change figure size\n",
    "sns.barplot(y='Arrests', x = 'Week Number', data=projectdf).set(title='Average number of arrests at a game during corresponding game week',ylabel='Average number of arrests', \n",
    "                                                                xlabel='Week Number') #PLot barplot"
   ]
  },
  {
   "cell_type": "code",
   "execution_count": null,
   "metadata": {},
   "outputs": [
    {
     "data": {
      "text/plain": [
       "[Text(0.5, 1.0, 'Number of games at corresponding game week'),\n",
       " Text(0, 0.5, 'Total games played during week'),\n",
       " Text(0.5, 0, 'Week Number')]"
      ]
     },
     "execution_count": null,
     "metadata": {},
     "output_type": "execute_result"
    },
    {
     "data": {
      "image/png": "[encoded data removed]",
      "text/plain": [
       "<Figure size 720x864 with 1 Axes>"
      ]
     },
     "metadata": {
      "needs_background": "light"
     },
     "output_type": "display_data"
    }
   ],
   "source": [
    "f, ax = plt.subplots(figsize=(10,12)) #Change figure size\n",
    "sns.countplot(x='Week Number', data=projectdf).set(title='Number of games at corresponding game week',ylabel='Total games played during week', xlabel='Week Number')"
   ]
  },
  {
   "cell_type": "code",
   "execution_count": null,
   "metadata": {},
   "outputs": [
    {
     "ename": "SyntaxError",
     "evalue": "invalid syntax (<ipython-input-52-b7d06ff4d9df>, line 2)",
     "output_type": "error",
     "traceback": [
      "\u001b[0;36m  Cell \u001b[0;32mIn [52], line 2\u001b[0;36m\u001b[0m\n\u001b[0;31m    ---\u001b[0m\n\u001b[0m       ^\u001b[0m\n\u001b[0;31mSyntaxError\u001b[0m\u001b[0;31m:\u001b[0m invalid syntax\n"
     ]
    }
   ],
   "source": [
    "## Conclusion\n",
    "---\n",
    "More arrests are being done after a bad year."
   ]
  },
  {
   "cell_type": "code",
   "execution_count": null,
   "metadata": {},
   "outputs": [],
   "source": []
  }
 ],
 "metadata": {
  "kernelspec": {
   "display_name": "Python 3",
   "language": "python",
   "name": "python3"
  },
  "language_info": {
   "codemirror_mode": {
    "name": "ipython",
    "version": 3
   },
   "file_extension": ".py",
   "mimetype": "text/x-python",
   "name": "python",
   "nbconvert_exporter": "python",
   "pygments_lexer": "ipython3",
   "version": "3.9.12"
  }
 },
 "nbformat": 4,
 "nbformat_minor": 4
}
