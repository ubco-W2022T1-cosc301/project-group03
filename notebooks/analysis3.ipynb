{
 "cells": [
  {
   "cell_type": "markdown",
   "metadata": {},
   "source": [
    "# Sarim Faheem"
   ]
  },
  {
   "cell_type": "markdown",
   "metadata": {},
   "source": [
    "## Research question/interests\n",
    "\n",
    "How likely is it for a certain matchday (gameweek) or time to be a predictor of a rowdy crowd? \n",
    "\n",
    "We wanted to look at how psycological influences affect fan/spectator behavior during NFL games. One such influence is 'groupthink' where individuals may behave disorderly if they see the larger group behave as such. Using matchday time and week data can correlate late games or holiday/vacational/weekend games with a rowdier crowd and in turn prove our hypothesis."
   ]
  },
  {
   "cell_type": "code",
   "execution_count": 22,
   "metadata": {},
   "outputs": [
    {
     "data": {
      "text/html": [
       "<div>\n",
       "<style scoped>\n",
       "    .dataframe tbody tr th:only-of-type {\n",
       "        vertical-align: middle;\n",
       "    }\n",
       "\n",
       "    .dataframe tbody tr th {\n",
       "        vertical-align: top;\n",
       "    }\n",
       "\n",
       "    .dataframe thead th {\n",
       "        text-align: right;\n",
       "    }\n",
       "</style>\n",
       "<table border=\"1\" class=\"dataframe\">\n",
       "  <thead>\n",
       "    <tr style=\"text-align: right;\">\n",
       "      <th></th>\n",
       "      <th>season</th>\n",
       "      <th>week_num</th>\n",
       "      <th>day_of_week</th>\n",
       "      <th>gametime_local</th>\n",
       "      <th>home_team</th>\n",
       "      <th>away_team</th>\n",
       "      <th>home_score</th>\n",
       "      <th>away_score</th>\n",
       "      <th>OT_flag</th>\n",
       "      <th>arrests</th>\n",
       "      <th>division_game</th>\n",
       "    </tr>\n",
       "  </thead>\n",
       "  <tbody>\n",
       "    <tr>\n",
       "      <th>0</th>\n",
       "      <td>2011</td>\n",
       "      <td>1</td>\n",
       "      <td>Sunday</td>\n",
       "      <td>1:15:00 PM</td>\n",
       "      <td>Arizona</td>\n",
       "      <td>Carolina</td>\n",
       "      <td>28</td>\n",
       "      <td>21</td>\n",
       "      <td>NaN</td>\n",
       "      <td>5.0</td>\n",
       "      <td>n</td>\n",
       "    </tr>\n",
       "    <tr>\n",
       "      <th>1</th>\n",
       "      <td>2011</td>\n",
       "      <td>4</td>\n",
       "      <td>Sunday</td>\n",
       "      <td>1:05:00 PM</td>\n",
       "      <td>Arizona</td>\n",
       "      <td>New York Giants</td>\n",
       "      <td>27</td>\n",
       "      <td>31</td>\n",
       "      <td>NaN</td>\n",
       "      <td>6.0</td>\n",
       "      <td>n</td>\n",
       "    </tr>\n",
       "    <tr>\n",
       "      <th>2</th>\n",
       "      <td>2011</td>\n",
       "      <td>7</td>\n",
       "      <td>Sunday</td>\n",
       "      <td>1:05:00 PM</td>\n",
       "      <td>Arizona</td>\n",
       "      <td>Pittsburgh</td>\n",
       "      <td>20</td>\n",
       "      <td>32</td>\n",
       "      <td>NaN</td>\n",
       "      <td>9.0</td>\n",
       "      <td>n</td>\n",
       "    </tr>\n",
       "    <tr>\n",
       "      <th>3</th>\n",
       "      <td>2011</td>\n",
       "      <td>9</td>\n",
       "      <td>Sunday</td>\n",
       "      <td>2:15:00 PM</td>\n",
       "      <td>Arizona</td>\n",
       "      <td>St. Louis</td>\n",
       "      <td>19</td>\n",
       "      <td>13</td>\n",
       "      <td>OT</td>\n",
       "      <td>6.0</td>\n",
       "      <td>y</td>\n",
       "    </tr>\n",
       "    <tr>\n",
       "      <th>4</th>\n",
       "      <td>2011</td>\n",
       "      <td>13</td>\n",
       "      <td>Sunday</td>\n",
       "      <td>2:15:00 PM</td>\n",
       "      <td>Arizona</td>\n",
       "      <td>Dallas</td>\n",
       "      <td>19</td>\n",
       "      <td>13</td>\n",
       "      <td>OT</td>\n",
       "      <td>3.0</td>\n",
       "      <td>n</td>\n",
       "    </tr>\n",
       "    <tr>\n",
       "      <th>...</th>\n",
       "      <td>...</td>\n",
       "      <td>...</td>\n",
       "      <td>...</td>\n",
       "      <td>...</td>\n",
       "      <td>...</td>\n",
       "      <td>...</td>\n",
       "      <td>...</td>\n",
       "      <td>...</td>\n",
       "      <td>...</td>\n",
       "      <td>...</td>\n",
       "      <td>...</td>\n",
       "    </tr>\n",
       "    <tr>\n",
       "      <th>1001</th>\n",
       "      <td>2015</td>\n",
       "      <td>7</td>\n",
       "      <td>Sunday</td>\n",
       "      <td>1:00:00 PM</td>\n",
       "      <td>Washington</td>\n",
       "      <td>Tampa Bay</td>\n",
       "      <td>31</td>\n",
       "      <td>30</td>\n",
       "      <td>NaN</td>\n",
       "      <td>2.0</td>\n",
       "      <td>n</td>\n",
       "    </tr>\n",
       "    <tr>\n",
       "      <th>1002</th>\n",
       "      <td>2015</td>\n",
       "      <td>10</td>\n",
       "      <td>Sunday</td>\n",
       "      <td>1:00:00 PM</td>\n",
       "      <td>Washington</td>\n",
       "      <td>New Orleans</td>\n",
       "      <td>47</td>\n",
       "      <td>14</td>\n",
       "      <td>NaN</td>\n",
       "      <td>2.0</td>\n",
       "      <td>n</td>\n",
       "    </tr>\n",
       "    <tr>\n",
       "      <th>1003</th>\n",
       "      <td>2015</td>\n",
       "      <td>12</td>\n",
       "      <td>Sunday</td>\n",
       "      <td>1:00:00 PM</td>\n",
       "      <td>Washington</td>\n",
       "      <td>New York Giants</td>\n",
       "      <td>20</td>\n",
       "      <td>14</td>\n",
       "      <td>NaN</td>\n",
       "      <td>2.0</td>\n",
       "      <td>y</td>\n",
       "    </tr>\n",
       "    <tr>\n",
       "      <th>1004</th>\n",
       "      <td>2015</td>\n",
       "      <td>13</td>\n",
       "      <td>Monday</td>\n",
       "      <td>8:30:00 PM</td>\n",
       "      <td>Washington</td>\n",
       "      <td>Dallas</td>\n",
       "      <td>16</td>\n",
       "      <td>19</td>\n",
       "      <td>NaN</td>\n",
       "      <td>4.0</td>\n",
       "      <td>y</td>\n",
       "    </tr>\n",
       "    <tr>\n",
       "      <th>1005</th>\n",
       "      <td>2015</td>\n",
       "      <td>15</td>\n",
       "      <td>Sunday</td>\n",
       "      <td>1:00:00 PM</td>\n",
       "      <td>Washington</td>\n",
       "      <td>Buffalo</td>\n",
       "      <td>35</td>\n",
       "      <td>25</td>\n",
       "      <td>NaN</td>\n",
       "      <td>1.0</td>\n",
       "      <td>n</td>\n",
       "    </tr>\n",
       "  </tbody>\n",
       "</table>\n",
       "<p>1006 rows × 11 columns</p>\n",
       "</div>"
      ],
      "text/plain": [
       "      season  week_num day_of_week gametime_local   home_team  \\\n",
       "0       2011         1      Sunday     1:15:00 PM     Arizona   \n",
       "1       2011         4      Sunday     1:05:00 PM     Arizona   \n",
       "2       2011         7      Sunday     1:05:00 PM     Arizona   \n",
       "3       2011         9      Sunday     2:15:00 PM     Arizona   \n",
       "4       2011        13      Sunday     2:15:00 PM     Arizona   \n",
       "...      ...       ...         ...            ...         ...   \n",
       "1001    2015         7      Sunday     1:00:00 PM  Washington   \n",
       "1002    2015        10      Sunday     1:00:00 PM  Washington   \n",
       "1003    2015        12      Sunday     1:00:00 PM  Washington   \n",
       "1004    2015        13      Monday     8:30:00 PM  Washington   \n",
       "1005    2015        15      Sunday     1:00:00 PM  Washington   \n",
       "\n",
       "            away_team  home_score  away_score OT_flag  arrests division_game  \n",
       "0            Carolina          28          21     NaN      5.0             n  \n",
       "1     New York Giants          27          31     NaN      6.0             n  \n",
       "2          Pittsburgh          20          32     NaN      9.0             n  \n",
       "3           St. Louis          19          13      OT      6.0             y  \n",
       "4              Dallas          19          13      OT      3.0             n  \n",
       "...               ...         ...         ...     ...      ...           ...  \n",
       "1001        Tampa Bay          31          30     NaN      2.0             n  \n",
       "1002      New Orleans          47          14     NaN      2.0             n  \n",
       "1003  New York Giants          20          14     NaN      2.0             y  \n",
       "1004           Dallas          16          19     NaN      4.0             y  \n",
       "1005          Buffalo          35          25     NaN      1.0             n  \n",
       "\n",
       "[1006 rows x 11 columns]"
      ]
     },
     "execution_count": 22,
     "metadata": {},
     "output_type": "execute_result"
    }
   ],
   "source": [
    "import numpy as np\n",
    "import pandas as pd\n",
    "import pandas as pd\n",
    "import seaborn as sns\n",
    "import numpy as np\n",
    "import matplotlib.pyplot as plt\n",
    "\n",
    "rawarrest = pd.read_csv(\"..\\\\data\\\\raw\\\\arrests.csv\", sep= \",\")\n",
    "rawarrest"
   ]
  },
  {
   "cell_type": "markdown",
   "metadata": {},
   "source": [
    "## Milestone 3\n",
    "---\n",
    "#### An Exploratory Data Analysis (EDA) on your dataset"
   ]
  },
  {
   "cell_type": "markdown",
   "metadata": {},
   "source": [
    "Let's start with a quick output of the dataframe head and tail to get an idea of what the data looks like (first/last 5 lines)"
   ]
  },
  {
   "cell_type": "code",
   "execution_count": 23,
   "metadata": {},
   "outputs": [
    {
     "data": {
      "text/html": [
       "<div>\n",
       "<style scoped>\n",
       "    .dataframe tbody tr th:only-of-type {\n",
       "        vertical-align: middle;\n",
       "    }\n",
       "\n",
       "    .dataframe tbody tr th {\n",
       "        vertical-align: top;\n",
       "    }\n",
       "\n",
       "    .dataframe thead th {\n",
       "        text-align: right;\n",
       "    }\n",
       "</style>\n",
       "<table border=\"1\" class=\"dataframe\">\n",
       "  <thead>\n",
       "    <tr style=\"text-align: right;\">\n",
       "      <th></th>\n",
       "      <th>season</th>\n",
       "      <th>week_num</th>\n",
       "      <th>day_of_week</th>\n",
       "      <th>gametime_local</th>\n",
       "      <th>home_team</th>\n",
       "      <th>away_team</th>\n",
       "      <th>home_score</th>\n",
       "      <th>away_score</th>\n",
       "      <th>OT_flag</th>\n",
       "      <th>arrests</th>\n",
       "      <th>division_game</th>\n",
       "    </tr>\n",
       "  </thead>\n",
       "  <tbody>\n",
       "    <tr>\n",
       "      <th>0</th>\n",
       "      <td>2011</td>\n",
       "      <td>1</td>\n",
       "      <td>Sunday</td>\n",
       "      <td>1:15:00 PM</td>\n",
       "      <td>Arizona</td>\n",
       "      <td>Carolina</td>\n",
       "      <td>28</td>\n",
       "      <td>21</td>\n",
       "      <td>NaN</td>\n",
       "      <td>5.0</td>\n",
       "      <td>n</td>\n",
       "    </tr>\n",
       "    <tr>\n",
       "      <th>1</th>\n",
       "      <td>2011</td>\n",
       "      <td>4</td>\n",
       "      <td>Sunday</td>\n",
       "      <td>1:05:00 PM</td>\n",
       "      <td>Arizona</td>\n",
       "      <td>New York Giants</td>\n",
       "      <td>27</td>\n",
       "      <td>31</td>\n",
       "      <td>NaN</td>\n",
       "      <td>6.0</td>\n",
       "      <td>n</td>\n",
       "    </tr>\n",
       "    <tr>\n",
       "      <th>2</th>\n",
       "      <td>2011</td>\n",
       "      <td>7</td>\n",
       "      <td>Sunday</td>\n",
       "      <td>1:05:00 PM</td>\n",
       "      <td>Arizona</td>\n",
       "      <td>Pittsburgh</td>\n",
       "      <td>20</td>\n",
       "      <td>32</td>\n",
       "      <td>NaN</td>\n",
       "      <td>9.0</td>\n",
       "      <td>n</td>\n",
       "    </tr>\n",
       "    <tr>\n",
       "      <th>3</th>\n",
       "      <td>2011</td>\n",
       "      <td>9</td>\n",
       "      <td>Sunday</td>\n",
       "      <td>2:15:00 PM</td>\n",
       "      <td>Arizona</td>\n",
       "      <td>St. Louis</td>\n",
       "      <td>19</td>\n",
       "      <td>13</td>\n",
       "      <td>OT</td>\n",
       "      <td>6.0</td>\n",
       "      <td>y</td>\n",
       "    </tr>\n",
       "    <tr>\n",
       "      <th>4</th>\n",
       "      <td>2011</td>\n",
       "      <td>13</td>\n",
       "      <td>Sunday</td>\n",
       "      <td>2:15:00 PM</td>\n",
       "      <td>Arizona</td>\n",
       "      <td>Dallas</td>\n",
       "      <td>19</td>\n",
       "      <td>13</td>\n",
       "      <td>OT</td>\n",
       "      <td>3.0</td>\n",
       "      <td>n</td>\n",
       "    </tr>\n",
       "  </tbody>\n",
       "</table>\n",
       "</div>"
      ],
      "text/plain": [
       "   season  week_num day_of_week gametime_local home_team        away_team  \\\n",
       "0    2011         1      Sunday     1:15:00 PM   Arizona         Carolina   \n",
       "1    2011         4      Sunday     1:05:00 PM   Arizona  New York Giants   \n",
       "2    2011         7      Sunday     1:05:00 PM   Arizona       Pittsburgh   \n",
       "3    2011         9      Sunday     2:15:00 PM   Arizona        St. Louis   \n",
       "4    2011        13      Sunday     2:15:00 PM   Arizona           Dallas   \n",
       "\n",
       "   home_score  away_score OT_flag  arrests division_game  \n",
       "0          28          21     NaN      5.0             n  \n",
       "1          27          31     NaN      6.0             n  \n",
       "2          20          32     NaN      9.0             n  \n",
       "3          19          13      OT      6.0             y  \n",
       "4          19          13      OT      3.0             n  "
      ]
     },
     "execution_count": 23,
     "metadata": {},
     "output_type": "execute_result"
    }
   ],
   "source": [
    "rawarrest.head()"
   ]
  },
  {
   "cell_type": "code",
   "execution_count": 24,
   "metadata": {},
   "outputs": [
    {
     "data": {
      "text/html": [
       "<div>\n",
       "<style scoped>\n",
       "    .dataframe tbody tr th:only-of-type {\n",
       "        vertical-align: middle;\n",
       "    }\n",
       "\n",
       "    .dataframe tbody tr th {\n",
       "        vertical-align: top;\n",
       "    }\n",
       "\n",
       "    .dataframe thead th {\n",
       "        text-align: right;\n",
       "    }\n",
       "</style>\n",
       "<table border=\"1\" class=\"dataframe\">\n",
       "  <thead>\n",
       "    <tr style=\"text-align: right;\">\n",
       "      <th></th>\n",
       "      <th>season</th>\n",
       "      <th>week_num</th>\n",
       "      <th>day_of_week</th>\n",
       "      <th>gametime_local</th>\n",
       "      <th>home_team</th>\n",
       "      <th>away_team</th>\n",
       "      <th>home_score</th>\n",
       "      <th>away_score</th>\n",
       "      <th>OT_flag</th>\n",
       "      <th>arrests</th>\n",
       "      <th>division_game</th>\n",
       "    </tr>\n",
       "  </thead>\n",
       "  <tbody>\n",
       "    <tr>\n",
       "      <th>1001</th>\n",
       "      <td>2015</td>\n",
       "      <td>7</td>\n",
       "      <td>Sunday</td>\n",
       "      <td>1:00:00 PM</td>\n",
       "      <td>Washington</td>\n",
       "      <td>Tampa Bay</td>\n",
       "      <td>31</td>\n",
       "      <td>30</td>\n",
       "      <td>NaN</td>\n",
       "      <td>2.0</td>\n",
       "      <td>n</td>\n",
       "    </tr>\n",
       "    <tr>\n",
       "      <th>1002</th>\n",
       "      <td>2015</td>\n",
       "      <td>10</td>\n",
       "      <td>Sunday</td>\n",
       "      <td>1:00:00 PM</td>\n",
       "      <td>Washington</td>\n",
       "      <td>New Orleans</td>\n",
       "      <td>47</td>\n",
       "      <td>14</td>\n",
       "      <td>NaN</td>\n",
       "      <td>2.0</td>\n",
       "      <td>n</td>\n",
       "    </tr>\n",
       "    <tr>\n",
       "      <th>1003</th>\n",
       "      <td>2015</td>\n",
       "      <td>12</td>\n",
       "      <td>Sunday</td>\n",
       "      <td>1:00:00 PM</td>\n",
       "      <td>Washington</td>\n",
       "      <td>New York Giants</td>\n",
       "      <td>20</td>\n",
       "      <td>14</td>\n",
       "      <td>NaN</td>\n",
       "      <td>2.0</td>\n",
       "      <td>y</td>\n",
       "    </tr>\n",
       "    <tr>\n",
       "      <th>1004</th>\n",
       "      <td>2015</td>\n",
       "      <td>13</td>\n",
       "      <td>Monday</td>\n",
       "      <td>8:30:00 PM</td>\n",
       "      <td>Washington</td>\n",
       "      <td>Dallas</td>\n",
       "      <td>16</td>\n",
       "      <td>19</td>\n",
       "      <td>NaN</td>\n",
       "      <td>4.0</td>\n",
       "      <td>y</td>\n",
       "    </tr>\n",
       "    <tr>\n",
       "      <th>1005</th>\n",
       "      <td>2015</td>\n",
       "      <td>15</td>\n",
       "      <td>Sunday</td>\n",
       "      <td>1:00:00 PM</td>\n",
       "      <td>Washington</td>\n",
       "      <td>Buffalo</td>\n",
       "      <td>35</td>\n",
       "      <td>25</td>\n",
       "      <td>NaN</td>\n",
       "      <td>1.0</td>\n",
       "      <td>n</td>\n",
       "    </tr>\n",
       "  </tbody>\n",
       "</table>\n",
       "</div>"
      ],
      "text/plain": [
       "      season  week_num day_of_week gametime_local   home_team  \\\n",
       "1001    2015         7      Sunday     1:00:00 PM  Washington   \n",
       "1002    2015        10      Sunday     1:00:00 PM  Washington   \n",
       "1003    2015        12      Sunday     1:00:00 PM  Washington   \n",
       "1004    2015        13      Monday     8:30:00 PM  Washington   \n",
       "1005    2015        15      Sunday     1:00:00 PM  Washington   \n",
       "\n",
       "            away_team  home_score  away_score OT_flag  arrests division_game  \n",
       "1001        Tampa Bay          31          30     NaN      2.0             n  \n",
       "1002      New Orleans          47          14     NaN      2.0             n  \n",
       "1003  New York Giants          20          14     NaN      2.0             y  \n",
       "1004           Dallas          16          19     NaN      4.0             y  \n",
       "1005          Buffalo          35          25     NaN      1.0             n  "
      ]
     },
     "execution_count": 24,
     "metadata": {},
     "output_type": "execute_result"
    }
   ],
   "source": [
    "rawarrest.tail()"
   ]
  },
  {
   "cell_type": "markdown",
   "metadata": {},
   "source": [
    "Get the columns of the raw data and the number of columns to see how extensive the list is"
   ]
  },
  {
   "cell_type": "code",
   "execution_count": 25,
   "metadata": {},
   "outputs": [
    {
     "name": "stdout",
     "output_type": "stream",
     "text": [
      "Columns: ['season', 'week_num', 'day_of_week', 'gametime_local', 'home_team', 'away_team', 'home_score', 'away_score', 'OT_flag', 'arrests', 'division_game']\n",
      "Column count: 11\n"
     ]
    }
   ],
   "source": [
    "rawDfColumns = list(rawarrest.columns)\n",
    "print(f\"Columns: {rawDfColumns}\")\n",
    "print(f\"Column count: {len(rawDfColumns)}\")"
   ]
  },
  {
   "cell_type": "markdown",
   "metadata": {},
   "source": [
    "The following datasets on NFL arrrests has 11 columns that consists of the following categories:\n",
    "1. Season = The year of the corresponding season from which data entry was recorded.\n",
    "2. Week Number = The week or gameday week during which the fixture for data entry took place.\n",
    "3. Day of week = The day of the week when the game of data entry took place. \n",
    "4. Gametime Local = Local timezone reflected time for scheduled game.\n",
    "5. Home team = Corresponding home team from matchday.\n",
    "6. Away team = Corresponding away team from matchday.\n",
    "7. Home score = Corresponding home score for matchday.\n",
    "8. Away score = Corresponding away score for matchday.\n",
    "9. OT Flag = Data variable to confirm if the game went into overtime for corresponding data entry.\n",
    "10. Arrests = Number of arrests recorded during matchday. \n",
    "11. Division game = Data variable to confirm if the game was an inter-divisional game (higher signficance/rivalry).\n",
    "\n",
    "For this corresponding research question, the data aims to address the influence of time and data in relation to arrests made in stadium. To do this the data needs to be reformatted to include only the following variables:\n",
    "\n",
    "- Season (For referencing)\n",
    "- Week Number\n",
    "- Day of Week\n",
    "- Gametime local\n",
    "- Arrests\n",
    "\n",
    "But first let's obtain some more info about the values within our data."
   ]
  },
  {
   "cell_type": "code",
   "execution_count": 26,
   "metadata": {},
   "outputs": [
    {
     "data": {
      "text/html": [
       "<div>\n",
       "<style scoped>\n",
       "    .dataframe tbody tr th:only-of-type {\n",
       "        vertical-align: middle;\n",
       "    }\n",
       "\n",
       "    .dataframe tbody tr th {\n",
       "        vertical-align: top;\n",
       "    }\n",
       "\n",
       "    .dataframe thead th {\n",
       "        text-align: right;\n",
       "    }\n",
       "</style>\n",
       "<table border=\"1\" class=\"dataframe\">\n",
       "  <thead>\n",
       "    <tr style=\"text-align: right;\">\n",
       "      <th></th>\n",
       "      <th>season</th>\n",
       "      <th>week_num</th>\n",
       "      <th>home_score</th>\n",
       "      <th>away_score</th>\n",
       "      <th>arrests</th>\n",
       "    </tr>\n",
       "  </thead>\n",
       "  <tbody>\n",
       "    <tr>\n",
       "      <th>count</th>\n",
       "      <td>1006.000000</td>\n",
       "      <td>1006.000000</td>\n",
       "      <td>1006.000000</td>\n",
       "      <td>1006.000000</td>\n",
       "      <td>966.000000</td>\n",
       "    </tr>\n",
       "    <tr>\n",
       "      <th>mean</th>\n",
       "      <td>2013.000000</td>\n",
       "      <td>9.116302</td>\n",
       "      <td>23.934394</td>\n",
       "      <td>21.115308</td>\n",
       "      <td>6.566253</td>\n",
       "    </tr>\n",
       "    <tr>\n",
       "      <th>std</th>\n",
       "      <td>1.406453</td>\n",
       "      <td>5.008986</td>\n",
       "      <td>10.442626</td>\n",
       "      <td>9.734006</td>\n",
       "      <td>9.512101</td>\n",
       "    </tr>\n",
       "    <tr>\n",
       "      <th>min</th>\n",
       "      <td>2011.000000</td>\n",
       "      <td>1.000000</td>\n",
       "      <td>0.000000</td>\n",
       "      <td>0.000000</td>\n",
       "      <td>0.000000</td>\n",
       "    </tr>\n",
       "    <tr>\n",
       "      <th>25%</th>\n",
       "      <td>2012.000000</td>\n",
       "      <td>5.000000</td>\n",
       "      <td>17.000000</td>\n",
       "      <td>14.000000</td>\n",
       "      <td>1.000000</td>\n",
       "    </tr>\n",
       "    <tr>\n",
       "      <th>50%</th>\n",
       "      <td>2013.000000</td>\n",
       "      <td>9.000000</td>\n",
       "      <td>23.000000</td>\n",
       "      <td>20.000000</td>\n",
       "      <td>3.000000</td>\n",
       "    </tr>\n",
       "    <tr>\n",
       "      <th>75%</th>\n",
       "      <td>2014.000000</td>\n",
       "      <td>14.000000</td>\n",
       "      <td>30.000000</td>\n",
       "      <td>27.000000</td>\n",
       "      <td>8.000000</td>\n",
       "    </tr>\n",
       "    <tr>\n",
       "      <th>max</th>\n",
       "      <td>2015.000000</td>\n",
       "      <td>17.000000</td>\n",
       "      <td>59.000000</td>\n",
       "      <td>56.000000</td>\n",
       "      <td>69.000000</td>\n",
       "    </tr>\n",
       "  </tbody>\n",
       "</table>\n",
       "</div>"
      ],
      "text/plain": [
       "            season     week_num   home_score   away_score     arrests\n",
       "count  1006.000000  1006.000000  1006.000000  1006.000000  966.000000\n",
       "mean   2013.000000     9.116302    23.934394    21.115308    6.566253\n",
       "std       1.406453     5.008986    10.442626     9.734006    9.512101\n",
       "min    2011.000000     1.000000     0.000000     0.000000    0.000000\n",
       "25%    2012.000000     5.000000    17.000000    14.000000    1.000000\n",
       "50%    2013.000000     9.000000    23.000000    20.000000    3.000000\n",
       "75%    2014.000000    14.000000    30.000000    27.000000    8.000000\n",
       "max    2015.000000    17.000000    59.000000    56.000000   69.000000"
      ]
     },
     "execution_count": 26,
     "metadata": {},
     "output_type": "execute_result"
    }
   ],
   "source": [
    "rawarrest.describe()"
   ]
  },
  {
   "cell_type": "markdown",
   "metadata": {},
   "source": [
    "We can now see totals for the categorical variables within the dataset.\n",
    "\n",
    "Of note here is that the max value for arrests in a game was 69! \n",
    "Let's also do a quick check of what unique variables are present in some of the notable categories."
   ]
  },
  {
   "cell_type": "code",
   "execution_count": 27,
   "metadata": {},
   "outputs": [
    {
     "data": {
      "text/plain": [
       "array([2011, 2012, 2013, 2014, 2015], dtype=int64)"
      ]
     },
     "execution_count": 27,
     "metadata": {},
     "output_type": "execute_result"
    }
   ],
   "source": [
    "rawarrest.season.unique() #Season"
   ]
  },
  {
   "cell_type": "code",
   "execution_count": 28,
   "metadata": {},
   "outputs": [
    {
     "data": {
      "text/plain": [
       "array([ 5.,  6.,  9.,  3.,  4.,  1.,  0., 12.,  7.,  2., 10.,  8., 15.,\n",
       "       13., 11., nan, 21., 18., 16., 14., 19., 23., 26., 35., 31., 39.,\n",
       "       20., 29., 46., 22., 24., 33., 28., 34., 30., 38., 17., 27., 25.,\n",
       "       44., 32., 49., 52., 37., 56., 69., 41., 47., 45., 40., 60., 36.])"
      ]
     },
     "execution_count": 28,
     "metadata": {},
     "output_type": "execute_result"
    }
   ],
   "source": [
    "rawarrest.arrests.unique() #Arrests"
   ]
  },
  {
   "cell_type": "markdown",
   "metadata": {},
   "source": [
    "The following array showcases that at one point there were no arrests within the dataset. An important factor to recall when building our analysis."
   ]
  },
  {
   "cell_type": "code",
   "execution_count": 29,
   "metadata": {},
   "outputs": [
    {
     "data": {
      "text/plain": [
       "array([28, 27, 20, 19, 21, 23, 24,  3, 17, 38, 13, 25, 22, 40, 30, 18, 31,\n",
       "       14,  6, 47, 26, 34, 35, 29, 16,  7, 33, 48, 12,  9, 10, 37, 39, 41,\n",
       "       45, 15,  8, 49, 42, 36, 44, 52, 51, 32, 46, 55, 53, 43,  2, 59,  0,\n",
       "       54, 58, 11], dtype=int64)"
      ]
     },
     "execution_count": 29,
     "metadata": {},
     "output_type": "execute_result"
    }
   ],
   "source": [
    "rawarrest.home_score.unique()"
   ]
  },
  {
   "cell_type": "code",
   "execution_count": 30,
   "metadata": {},
   "outputs": [
    {
     "data": {
      "text/plain": [
       "array([21, 31, 32, 13, 19, 17, 20, 16,  6, 24, 10, 28, 34, 11, 23, 14, 35,\n",
       "        7, 18,  8, 36, 27,  3, 26, 41, 12, 33, 22, 30,  0, 15, 37, 29, 38,\n",
       "        9, 42, 51, 39, 45, 25, 44, 40, 49, 43, 56, 48], dtype=int64)"
      ]
     },
     "execution_count": 30,
     "metadata": {},
     "output_type": "execute_result"
    }
   ],
   "source": [
    "rawarrest.away_score.unique()"
   ]
  },
  {
   "cell_type": "markdown",
   "metadata": {},
   "source": [
    "Everything looks good for the scores! There are integer values present and include data variables for 0 pt games etc."
   ]
  },
  {
   "cell_type": "code",
   "execution_count": 31,
   "metadata": {},
   "outputs": [
    {
     "data": {
      "text/plain": [
       "array(['Sunday', 'Monday', 'Thursday', 'Saturday', 'Wednesday'],\n",
       "      dtype=object)"
      ]
     },
     "execution_count": 31,
     "metadata": {},
     "output_type": "execute_result"
    }
   ],
   "source": [
    "rawarrest.day_of_week.unique()"
   ]
  },
  {
   "cell_type": "code",
   "execution_count": 32,
   "metadata": {},
   "outputs": [
    {
     "data": {
      "text/plain": [
       "array([nan, 'OT'], dtype=object)"
      ]
     },
     "execution_count": 32,
     "metadata": {},
     "output_type": "execute_result"
    }
   ],
   "source": [
    "rawarrest.OT_flag.unique()"
   ]
  },
  {
   "cell_type": "markdown",
   "metadata": {},
   "source": [
    "The authors seemed to define overtime games as variables of 'OT' representing an overtime game or 'NaN' representing a game concluding within the regular interval. Another important detail to note is that the weeks only correspond to 5 days and exclude Fridays and Tuesdays. This is due to Sports Broadcasting Act of 1961 which attributes highschool and college football games to Fridays and rarely Saturdays respectively and does not permit the scheduling of any NFL games on these days unless required and not causing scheduling conflict. Tuesday games are\n",
    "\n",
    "The last category to check is local time to understand the output for when/if we need to potentially convert a datetime object."
   ]
  },
  {
   "cell_type": "code",
   "execution_count": 33,
   "metadata": {},
   "outputs": [
    {
     "data": {
      "text/plain": [
       "array(['1:15:00 PM', '1:05:00 PM', '2:15:00 PM', '2:05:00 PM',\n",
       "       '1:25:00 PM', '5:30:00 PM', '2:25:00 PM', '5:25:00 PM',\n",
       "       '7:20:00 PM', '6:30:00 PM', '8:20:00 PM', '4:05:00 PM',\n",
       "       '1:00:00 PM', '8:30:00 PM', '4:25:00 PM', '8:25:00 PM',\n",
       "       '1:02:00 PM', '8:40:00 PM', '12:00:00 PM', '3:25:00 PM',\n",
       "       '3:15:00 PM', '7:30:00 PM', '7:25:00 PM', '7:40:00 PM',\n",
       "       '1:03:00 PM', '4:16:00 PM', '3:30:00 PM', '8:15:00 PM',\n",
       "       '6:20:00 PM', '6:40:00 PM', '6:25:00 PM', '12:30:00 PM',\n",
       "       '7:10:00 PM', '3:05:00 PM', '4:15:00 PM', '7:15:00 PM',\n",
       "       '5:20:00 PM', '8:35:00 PM', '5:40:00 PM', '1:06:00 PM',\n",
       "       '5:41:00 PM', '1:26:00 PM', '5:31:00 PM', '5:42:00 PM',\n",
       "       '1:27:00 PM', '4:30:00 PM'], dtype=object)"
      ]
     },
     "execution_count": 33,
     "metadata": {},
     "output_type": "execute_result"
    }
   ],
   "source": [
    "rawarrest.gametime_local.unique()"
   ]
  },
  {
   "cell_type": "markdown",
   "metadata": {},
   "source": [
    "---\n",
    "Everything looks good here with an HH:MM:SS format!\n",
    "\n",
    "- Overall, the raw dataset is already well formatted but clearly needs reformatting to accomodate our analytical goals. The dataset needs better formatting for column names. \n",
    "- The sorting method can also be cleaned up by having the data sorted by season and descending order of day of the week.\n",
    "  \n",
    "Now let's explore some of our data and see what trends we may expect.\n",
    "Let's look at the first 100 datapoints and see what our average arrest data is like:"
   ]
  },
  {
   "cell_type": "code",
   "execution_count": 34,
   "metadata": {},
   "outputs": [
    {
     "data": {
      "text/plain": [
       "[Text(0.5, 1.0, 'Average number of arrest during the week for first 100 datapoints'),\n",
       " Text(0, 0.5, 'Arrests'),\n",
       " Text(0.5, 0, 'Day of the week')]"
      ]
     },
     "execution_count": 34,
     "metadata": {},
     "output_type": "execute_result"
    },
    {
     "data": {
      "image/png": "[encoded data removed]",
      "text/plain": [
       "<Figure size 640x480 with 1 Axes>"
      ]
     },
     "metadata": {},
     "output_type": "display_data"
    }
   ],
   "source": [
    "rawheaddf = rawarrest.head(100)\n",
    "sns.barplot(x='day_of_week', y = 'arrests', data=rawheaddf).set(title='Average number of arrest during the week for first 100 datapoints',ylabel='Arrests', xlabel='Day of the week')"
   ]
  },
  {
   "cell_type": "markdown",
   "metadata": {},
   "source": [
    "The data for the first chunk of datapoints is evidently sorted on based days of the week and requires reformatting of sorting to account for Saturday in a finalized analysis.\n",
    "    \n",
    "Now let's observe a sample of (50) data points and see histogram analysis for total arrests during game/matchday weeks."
   ]
  },
  {
   "cell_type": "code",
   "execution_count": 35,
   "metadata": {},
   "outputs": [
    {
     "data": {
      "text/plain": [
       "<AxesSubplot:>"
      ]
     },
     "execution_count": 35,
     "metadata": {},
     "output_type": "execute_result"
    },
    {
     "data": {
      "image/png": "[encoded data removed]",
      "text/plain": [
       "<Figure size 640x480 with 1 Axes>"
      ]
     },
     "metadata": {},
     "output_type": "display_data"
    }
   ],
   "source": [
    "rawsampledf= rawarrest.sample(50)\n",
    "weektest = rawsampledf['week_num']\n",
    "weektest.hist()"
   ]
  },
  {
   "cell_type": "markdown",
   "metadata": {},
   "source": [
    "This sample from the dataset shows lots of variation with lower arrests within the 4-5 and 11-12 matchday/weeks.\n",
    "    \n",
    "What about overall arrests? What if we observe the higher end of arrests (40+arrests) within the dataframe only."
   ]
  },
  {
   "cell_type": "code",
   "execution_count": 36,
   "metadata": {},
   "outputs": [
    {
     "data": {
      "text/html": [
       "<div>\n",
       "<style scoped>\n",
       "    .dataframe tbody tr th:only-of-type {\n",
       "        vertical-align: middle;\n",
       "    }\n",
       "\n",
       "    .dataframe tbody tr th {\n",
       "        vertical-align: top;\n",
       "    }\n",
       "\n",
       "    .dataframe thead th {\n",
       "        text-align: right;\n",
       "    }\n",
       "</style>\n",
       "<table border=\"1\" class=\"dataframe\">\n",
       "  <thead>\n",
       "    <tr style=\"text-align: right;\">\n",
       "      <th></th>\n",
       "      <th>season</th>\n",
       "      <th>week_num</th>\n",
       "      <th>day_of_week</th>\n",
       "      <th>gametime_local</th>\n",
       "      <th>home_team</th>\n",
       "      <th>away_team</th>\n",
       "      <th>home_score</th>\n",
       "      <th>away_score</th>\n",
       "      <th>OT_flag</th>\n",
       "      <th>arrests</th>\n",
       "      <th>division_game</th>\n",
       "    </tr>\n",
       "  </thead>\n",
       "  <tbody>\n",
       "    <tr>\n",
       "      <th>591</th>\n",
       "      <td>2013</td>\n",
       "      <td>12</td>\n",
       "      <td>Sunday</td>\n",
       "      <td>4:25:00 PM</td>\n",
       "      <td>New York Giants</td>\n",
       "      <td>Dallas</td>\n",
       "      <td>21</td>\n",
       "      <td>24</td>\n",
       "      <td>NaN</td>\n",
       "      <td>46.0</td>\n",
       "      <td>y</td>\n",
       "    </tr>\n",
       "    <tr>\n",
       "      <th>646</th>\n",
       "      <td>2015</td>\n",
       "      <td>10</td>\n",
       "      <td>Thursday</td>\n",
       "      <td>8:25:00 PM</td>\n",
       "      <td>New York Jets</td>\n",
       "      <td>Buffalo</td>\n",
       "      <td>17</td>\n",
       "      <td>22</td>\n",
       "      <td>NaN</td>\n",
       "      <td>44.0</td>\n",
       "      <td>y</td>\n",
       "    </tr>\n",
       "    <tr>\n",
       "      <th>677</th>\n",
       "      <td>2014</td>\n",
       "      <td>14</td>\n",
       "      <td>Sunday</td>\n",
       "      <td>1:25:00 PM</td>\n",
       "      <td>Oakland</td>\n",
       "      <td>San Francisco</td>\n",
       "      <td>24</td>\n",
       "      <td>13</td>\n",
       "      <td>NaN</td>\n",
       "      <td>49.0</td>\n",
       "      <td>n</td>\n",
       "    </tr>\n",
       "    <tr>\n",
       "      <th>739</th>\n",
       "      <td>2012</td>\n",
       "      <td>11</td>\n",
       "      <td>Sunday</td>\n",
       "      <td>8:20:00 PM</td>\n",
       "      <td>Pittsburgh</td>\n",
       "      <td>Baltimore</td>\n",
       "      <td>10</td>\n",
       "      <td>13</td>\n",
       "      <td>NaN</td>\n",
       "      <td>52.0</td>\n",
       "      <td>y</td>\n",
       "    </tr>\n",
       "    <tr>\n",
       "      <th>744</th>\n",
       "      <td>2013</td>\n",
       "      <td>3</td>\n",
       "      <td>Sunday</td>\n",
       "      <td>8:30:00 PM</td>\n",
       "      <td>Pittsburgh</td>\n",
       "      <td>Chicago</td>\n",
       "      <td>23</td>\n",
       "      <td>40</td>\n",
       "      <td>NaN</td>\n",
       "      <td>56.0</td>\n",
       "      <td>n</td>\n",
       "    </tr>\n",
       "    <tr>\n",
       "      <th>771</th>\n",
       "      <td>2011</td>\n",
       "      <td>10</td>\n",
       "      <td>Thursday</td>\n",
       "      <td>5:20:00 PM</td>\n",
       "      <td>San Diego</td>\n",
       "      <td>Oakland</td>\n",
       "      <td>17</td>\n",
       "      <td>24</td>\n",
       "      <td>NaN</td>\n",
       "      <td>69.0</td>\n",
       "      <td>y</td>\n",
       "    </tr>\n",
       "    <tr>\n",
       "      <th>772</th>\n",
       "      <td>2011</td>\n",
       "      <td>12</td>\n",
       "      <td>Sunday</td>\n",
       "      <td>1:15:00 PM</td>\n",
       "      <td>San Diego</td>\n",
       "      <td>Denver</td>\n",
       "      <td>13</td>\n",
       "      <td>16</td>\n",
       "      <td>OT</td>\n",
       "      <td>41.0</td>\n",
       "      <td>y</td>\n",
       "    </tr>\n",
       "    <tr>\n",
       "      <th>776</th>\n",
       "      <td>2012</td>\n",
       "      <td>3</td>\n",
       "      <td>Sunday</td>\n",
       "      <td>1:05:00 PM</td>\n",
       "      <td>San Diego</td>\n",
       "      <td>Atlanta</td>\n",
       "      <td>3</td>\n",
       "      <td>27</td>\n",
       "      <td>NaN</td>\n",
       "      <td>47.0</td>\n",
       "      <td>n</td>\n",
       "    </tr>\n",
       "    <tr>\n",
       "      <th>777</th>\n",
       "      <td>2012</td>\n",
       "      <td>6</td>\n",
       "      <td>Monday</td>\n",
       "      <td>5:30:00 PM</td>\n",
       "      <td>San Diego</td>\n",
       "      <td>Denver</td>\n",
       "      <td>24</td>\n",
       "      <td>35</td>\n",
       "      <td>NaN</td>\n",
       "      <td>45.0</td>\n",
       "      <td>y</td>\n",
       "    </tr>\n",
       "    <tr>\n",
       "      <th>782</th>\n",
       "      <td>2012</td>\n",
       "      <td>17</td>\n",
       "      <td>Sunday</td>\n",
       "      <td>1:25:00 PM</td>\n",
       "      <td>San Diego</td>\n",
       "      <td>Oakland</td>\n",
       "      <td>24</td>\n",
       "      <td>21</td>\n",
       "      <td>NaN</td>\n",
       "      <td>60.0</td>\n",
       "      <td>y</td>\n",
       "    </tr>\n",
       "  </tbody>\n",
       "</table>\n",
       "</div>"
      ],
      "text/plain": [
       "     season  week_num day_of_week gametime_local        home_team  \\\n",
       "591    2013        12      Sunday     4:25:00 PM  New York Giants   \n",
       "646    2015        10    Thursday     8:25:00 PM    New York Jets   \n",
       "677    2014        14      Sunday     1:25:00 PM          Oakland   \n",
       "739    2012        11      Sunday     8:20:00 PM       Pittsburgh   \n",
       "744    2013         3      Sunday     8:30:00 PM       Pittsburgh   \n",
       "771    2011        10    Thursday     5:20:00 PM        San Diego   \n",
       "772    2011        12      Sunday     1:15:00 PM        San Diego   \n",
       "776    2012         3      Sunday     1:05:00 PM        San Diego   \n",
       "777    2012         6      Monday     5:30:00 PM        San Diego   \n",
       "782    2012        17      Sunday     1:25:00 PM        San Diego   \n",
       "\n",
       "         away_team  home_score  away_score OT_flag  arrests division_game  \n",
       "591         Dallas          21          24     NaN     46.0             y  \n",
       "646        Buffalo          17          22     NaN     44.0             y  \n",
       "677  San Francisco          24          13     NaN     49.0             n  \n",
       "739      Baltimore          10          13     NaN     52.0             y  \n",
       "744        Chicago          23          40     NaN     56.0             n  \n",
       "771        Oakland          17          24     NaN     69.0             y  \n",
       "772         Denver          13          16      OT     41.0             y  \n",
       "776        Atlanta           3          27     NaN     47.0             n  \n",
       "777         Denver          24          35     NaN     45.0             y  \n",
       "782        Oakland          24          21     NaN     60.0             y  "
      ]
     },
     "execution_count": 36,
     "metadata": {},
     "output_type": "execute_result"
    }
   ],
   "source": [
    "arrestsmax = rawarrest[rawarrest['arrests'].gt(40)]\n",
    "arrestsmax"
   ]
  },
  {
   "cell_type": "markdown",
   "metadata": {},
   "source": [
    "Interestingly enough, there seems to be a some correlation here at first glance between home teams and higher arrests. \n",
    "\n",
    "**BUT** we are looking time and days for this set where there also seems to be higher arrests on NFL Sunday.\n",
    "  \n",
    "One more thing I also want to view is the overall histogram data for **ALL** our variables and see what we are working with."
   ]
  },
  {
   "cell_type": "code",
   "execution_count": 37,
   "metadata": {},
   "outputs": [
    {
     "data": {
      "image/png": "[encoded data removed]",
      "text/plain": [
       "<Figure size 640x480 with 6 Axes>"
      ]
     },
     "metadata": {},
     "output_type": "display_data"
    }
   ],
   "source": [
    "rawarrest.hist()\n",
    "plt.tight_layout() #Avoid Title overlap"
   ]
  },
  {
   "cell_type": "markdown",
   "metadata": {},
   "source": [
    "Arrests numbers remain consistent across the years and when looking at the trends on the arrest histogram, the data showcases that 0 arrests is the most common value for NFL games *(Phew!)*\n",
    "    \n",
    "Time to clean up or dataframe and since this analysis is looking particularly at the influence of time/day for locale and overall setting, we also need to keep only the essential categorical variables in our cleaned up dataset."
   ]
  },
  {
   "cell_type": "markdown",
   "metadata": {},
   "source": [
    "---\n",
    "#### Set up an 'Analysis Pipeline'"
   ]
  },
  {
   "cell_type": "markdown",
   "metadata": {},
   "source": [
    "Let's load in the original arrests dataset again and keep only the columns we need to analyze our specific metric of groupthink.\n",
    "\n",
    "Then we can sort the rows based on year/season and the corresponding day of the week. Additionally I also want to rename the columns appropriately for columns.\n",
    "\n",
    "Once we complete this we can now save the data and implement it into a new dataframe in a processed output file."
   ]
  },
  {
   "cell_type": "code",
   "execution_count": 38,
   "metadata": {},
   "outputs": [
    {
     "data": {
      "text/html": [
       "<div>\n",
       "<style scoped>\n",
       "    .dataframe tbody tr th:only-of-type {\n",
       "        vertical-align: middle;\n",
       "    }\n",
       "\n",
       "    .dataframe tbody tr th {\n",
       "        vertical-align: top;\n",
       "    }\n",
       "\n",
       "    .dataframe thead th {\n",
       "        text-align: right;\n",
       "    }\n",
       "</style>\n",
       "<table border=\"1\" class=\"dataframe\">\n",
       "  <thead>\n",
       "    <tr style=\"text-align: right;\">\n",
       "      <th></th>\n",
       "      <th>Season</th>\n",
       "      <th>Week Number</th>\n",
       "      <th>Day of Week</th>\n",
       "      <th>Gametime Local</th>\n",
       "      <th>Arrests</th>\n",
       "    </tr>\n",
       "  </thead>\n",
       "  <tbody>\n",
       "    <tr>\n",
       "      <th>183</th>\n",
       "      <td>2011</td>\n",
       "      <td>3</td>\n",
       "      <td>Monday</td>\n",
       "      <td>7:30:00 PM</td>\n",
       "      <td>1.0</td>\n",
       "    </tr>\n",
       "    <tr>\n",
       "      <th>223</th>\n",
       "      <td>2011</td>\n",
       "      <td>1</td>\n",
       "      <td>Monday</td>\n",
       "      <td>8:15:00 PM</td>\n",
       "      <td>2.0</td>\n",
       "    </tr>\n",
       "    <tr>\n",
       "      <th>306</th>\n",
       "      <td>2011</td>\n",
       "      <td>10</td>\n",
       "      <td>Monday</td>\n",
       "      <td>7:30:00 PM</td>\n",
       "      <td>6.0</td>\n",
       "    </tr>\n",
       "    <tr>\n",
       "      <th>426</th>\n",
       "      <td>2011</td>\n",
       "      <td>7</td>\n",
       "      <td>Monday</td>\n",
       "      <td>8:30:00 PM</td>\n",
       "      <td>3.0</td>\n",
       "    </tr>\n",
       "    <tr>\n",
       "      <th>428</th>\n",
       "      <td>2011</td>\n",
       "      <td>13</td>\n",
       "      <td>Monday</td>\n",
       "      <td>8:30:00 PM</td>\n",
       "      <td>6.0</td>\n",
       "    </tr>\n",
       "    <tr>\n",
       "      <th>462</th>\n",
       "      <td>2011</td>\n",
       "      <td>8</td>\n",
       "      <td>Monday</td>\n",
       "      <td>7:30:00 PM</td>\n",
       "      <td>2.0</td>\n",
       "    </tr>\n",
       "    <tr>\n",
       "      <th>534</th>\n",
       "      <td>2011</td>\n",
       "      <td>11</td>\n",
       "      <td>Monday</td>\n",
       "      <td>8:30:00 PM</td>\n",
       "      <td>12.0</td>\n",
       "    </tr>\n",
       "    <tr>\n",
       "      <th>570</th>\n",
       "      <td>2011</td>\n",
       "      <td>2</td>\n",
       "      <td>Monday</td>\n",
       "      <td>8:30:00 PM</td>\n",
       "      <td>18.0</td>\n",
       "    </tr>\n",
       "    <tr>\n",
       "      <th>612</th>\n",
       "      <td>2011</td>\n",
       "      <td>6</td>\n",
       "      <td>Monday</td>\n",
       "      <td>8:30:00 PM</td>\n",
       "      <td>28.0</td>\n",
       "    </tr>\n",
       "    <tr>\n",
       "      <th>690</th>\n",
       "      <td>2011</td>\n",
       "      <td>9</td>\n",
       "      <td>Monday</td>\n",
       "      <td>8:30:00 PM</td>\n",
       "      <td>2.0</td>\n",
       "    </tr>\n",
       "  </tbody>\n",
       "</table>\n",
       "</div>"
      ],
      "text/plain": [
       "     Season  Week Number Day of Week Gametime Local  Arrests\n",
       "183    2011            3      Monday     7:30:00 PM      1.0\n",
       "223    2011            1      Monday     8:15:00 PM      2.0\n",
       "306    2011           10      Monday     7:30:00 PM      6.0\n",
       "426    2011            7      Monday     8:30:00 PM      3.0\n",
       "428    2011           13      Monday     8:30:00 PM      6.0\n",
       "462    2011            8      Monday     7:30:00 PM      2.0\n",
       "534    2011           11      Monday     8:30:00 PM     12.0\n",
       "570    2011            2      Monday     8:30:00 PM     18.0\n",
       "612    2011            6      Monday     8:30:00 PM     28.0\n",
       "690    2011            9      Monday     8:30:00 PM      2.0"
      ]
     },
     "execution_count": 38,
     "metadata": {},
     "output_type": "execute_result"
    }
   ],
   "source": [
    "#loading dataset\n",
    "rawarrest = pd.read_csv(\"..\\\\data\\\\raw\\\\arrests.csv\", sep= \",\")\n",
    "    \n",
    "#Removing columns\n",
    "formatdf = rawarrest.copy().drop(columns=['home_team', 'away_team', 'home_score', 'away_score', 'OT_flag', 'division_game'],axis=1).dropna(axis=0)\n",
    "\n",
    "#Sorting\n",
    "formatdf.sort_values(by=['season', 'day_of_week'],inplace=True)\n",
    "    \n",
    "#Rename columns\n",
    "formatdf.rename(columns={'day_of_week':'Day of Week','week_num':'Week Number','gametime_local': 'Gametime Local', \n",
    "                        'arrests':'Arrests', 'season':'Season'},inplace = True)\n",
    "\n",
    "#Save the data in = processed output file\n",
    "formatdf.to_csv('..\\\\data\\\\processed\\\\SFaheemAnalysisProcess.csv',index=False)\n",
    "\n",
    "#Now let's quickly observe what our new data looks like\n",
    "formatdf.head(10)"
   ]
  },
  {
   "cell_type": "markdown",
   "metadata": {},
   "source": [
    "---\n",
    "#### Method Chaining and writing Python programs"
   ]
  },
  {
   "cell_type": "code",
   "execution_count": 39,
   "metadata": {},
   "outputs": [
    {
     "ename": "ModuleNotFoundError",
     "evalue": "No module named 'project_functions3'",
     "output_type": "error",
     "traceback": [
      "\u001b[1;31m---------------------------------------------------------------------------\u001b[0m",
      "\u001b[1;31mModuleNotFoundError\u001b[0m                       Traceback (most recent call last)",
      "Cell \u001b[1;32mIn [39], line 1\u001b[0m\n\u001b[1;32m----> 1\u001b[0m \u001b[38;5;28;01mfrom\u001b[39;00m \u001b[38;5;21;01mproject_functions3\u001b[39;00m\u001b[38;5;21;01m.\u001b[39;00m\u001b[38;5;21;01mpy\u001b[39;00m \u001b[38;5;28;01mimport\u001b[39;00m project_functions3 \u001b[38;5;28;01mas\u001b[39;00m p3\n\u001b[0;32m      3\u001b[0m projectDf \u001b[38;5;241m=\u001b[39m p3\u001b[38;5;241m.\u001b[39mload_and_process(\u001b[38;5;124m'\u001b[39m\u001b[38;5;124m..\u001b[39m\u001b[38;5;130;01m\\\\\u001b[39;00m\u001b[38;5;124mdata\u001b[39m\u001b[38;5;130;01m\\\\\u001b[39;00m\u001b[38;5;124mraw\u001b[39m\u001b[38;5;130;01m\\\\\u001b[39;00m\u001b[38;5;124mdataRaw.csv\u001b[39m\u001b[38;5;124m'\u001b[39m)\n\u001b[0;32m      4\u001b[0m projectDf\u001b[38;5;241m.\u001b[39mhead()\n",
      "\u001b[1;31mModuleNotFoundError\u001b[0m: No module named 'project_functions3'"
     ]
    }
   ],
   "source": [
    "from project_functions3.py import project_functions3 as p3\n",
    "    \n",
    "projectDf = p3.load_and_process('..\\\\data\\\\raw\\\\dataRaw.csv')\n",
    "projectDf.head()"
   ]
  }
 ],
 "metadata": {
  "kernelspec": {
   "display_name": "Python 3 (ipykernel)",
   "language": "python",
   "name": "python3"
  },
  "language_info": {
   "codemirror_mode": {
    "name": "ipython",
    "version": 3
   },
   "file_extension": ".py",
   "mimetype": "text/x-python",
   "name": "python",
   "nbconvert_exporter": "python",
   "pygments_lexer": "ipython3",
   "version": "3.9.12"
  }
 },
 "nbformat": 4,
 "nbformat_minor": 4
}
