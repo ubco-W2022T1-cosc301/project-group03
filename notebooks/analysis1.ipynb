{
 "cells": [
  {
   "cell_type": "markdown",
   "metadata": {},
   "source": [
    "# Omar Kandeel"
   ]
  },
  {
   "cell_type": "markdown",
   "metadata": {
    "tags": []
   },
   "source": [
    "## Is committing crimes correlated with specific stadiums and/or teams? (Geographical/team-cultural influence)\n",
    "\n",
    "We are going to be looking at the crime rates and see whether they are correlated to specific teams and/or stadiums, and whether or not it can be predicted."
   ]
  },
  {
   "cell_type": "code",
   "execution_count": 13,
   "metadata": {},
   "outputs": [
    {
     "ename": "ModuleNotFoundError",
     "evalue": "No module named 'numpy'",
     "output_type": "error",
     "traceback": [
      "\u001b[0;31m---------------------------------------------------------------------------\u001b[0m",
      "\u001b[0;31mModuleNotFoundError\u001b[0m                       Traceback (most recent call last)",
      "\u001b[0;32m/var/folders/bz/fmdj2lz1419d5t1tdsbf7b8h0000gn/T/ipykernel_3560/2122668134.py\u001b[0m in \u001b[0;36m<module>\u001b[0;34m\u001b[0m\n\u001b[0;32m----> 1\u001b[0;31m \u001b[0;32mimport\u001b[0m \u001b[0mnumpy\u001b[0m \u001b[0;32mas\u001b[0m \u001b[0mnp\u001b[0m\u001b[0;34m\u001b[0m\u001b[0;34m\u001b[0m\u001b[0m\n\u001b[0m\u001b[1;32m      2\u001b[0m \u001b[0;32mimport\u001b[0m \u001b[0mpandas\u001b[0m \u001b[0;32mas\u001b[0m \u001b[0mpd\u001b[0m\u001b[0;34m\u001b[0m\u001b[0;34m\u001b[0m\u001b[0m\n\u001b[1;32m      3\u001b[0m \u001b[0;32mimport\u001b[0m \u001b[0mseaborn\u001b[0m \u001b[0;32mas\u001b[0m \u001b[0msns\u001b[0m\u001b[0;34m\u001b[0m\u001b[0;34m\u001b[0m\u001b[0m\n\u001b[1;32m      4\u001b[0m \u001b[0;32mimport\u001b[0m \u001b[0mmatplotlib\u001b[0m\u001b[0;34m.\u001b[0m\u001b[0mpyplot\u001b[0m \u001b[0;32mas\u001b[0m \u001b[0mplt\u001b[0m\u001b[0;34m\u001b[0m\u001b[0;34m\u001b[0m\u001b[0m\n\u001b[1;32m      5\u001b[0m \u001b[0;34m\u001b[0m\u001b[0m\n",
      "\u001b[0;31mModuleNotFoundError\u001b[0m: No module named 'numpy'"
     ]
    }
   ],
   "source": [
    "import numpy as np\n",
    "import pandas as pd\n",
    "import seaborn as sns\n",
    "import matplotlib.pyplot as plt\n",
    "\n",
    "rawarrest = pd.read_csv('/Users/omarkandeel/Desktop/301Project/project-group03/data/raw/arrests.csv', sep= \",\")\n",
    "rawarrest"
   ]
  },
  {
   "cell_type": "markdown",
   "metadata": {},
   "source": [
    "## Milestone 3\n",
    "---\n",
    "### An Exploratory Data Analysis (EDA) on your dataset\n",
    "\n",
    "Quick output of head and tail for the data."
   ]
  },
  {
   "cell_type": "code",
   "execution_count": null,
   "metadata": {},
   "outputs": [
    {
     "data": {
      "text/html": [
       "<div>\n",
       "<style scoped>\n",
       "    .dataframe tbody tr th:only-of-type {\n",
       "        vertical-align: middle;\n",
       "    }\n",
       "\n",
       "    .dataframe tbody tr th {\n",
       "        vertical-align: top;\n",
       "    }\n",
       "\n",
       "    .dataframe thead th {\n",
       "        text-align: right;\n",
       "    }\n",
       "</style>\n",
       "<table border=\"1\" class=\"dataframe\">\n",
       "  <thead>\n",
       "    <tr style=\"text-align: right;\">\n",
       "      <th></th>\n",
       "      <th>season</th>\n",
       "      <th>week_num</th>\n",
       "      <th>day_of_week</th>\n",
       "      <th>gametime_local</th>\n",
       "      <th>home_team</th>\n",
       "      <th>away_team</th>\n",
       "      <th>home_score</th>\n",
       "      <th>away_score</th>\n",
       "      <th>OT_flag</th>\n",
       "      <th>arrests</th>\n",
       "      <th>division_game</th>\n",
       "    </tr>\n",
       "  </thead>\n",
       "  <tbody>\n",
       "    <tr>\n",
       "      <th>0</th>\n",
       "      <td>2011</td>\n",
       "      <td>1</td>\n",
       "      <td>Sunday</td>\n",
       "      <td>1:15:00 PM</td>\n",
       "      <td>Arizona</td>\n",
       "      <td>Carolina</td>\n",
       "      <td>28</td>\n",
       "      <td>21</td>\n",
       "      <td>NaN</td>\n",
       "      <td>5.0</td>\n",
       "      <td>n</td>\n",
       "    </tr>\n",
       "    <tr>\n",
       "      <th>1</th>\n",
       "      <td>2011</td>\n",
       "      <td>4</td>\n",
       "      <td>Sunday</td>\n",
       "      <td>1:05:00 PM</td>\n",
       "      <td>Arizona</td>\n",
       "      <td>New York Giants</td>\n",
       "      <td>27</td>\n",
       "      <td>31</td>\n",
       "      <td>NaN</td>\n",
       "      <td>6.0</td>\n",
       "      <td>n</td>\n",
       "    </tr>\n",
       "    <tr>\n",
       "      <th>2</th>\n",
       "      <td>2011</td>\n",
       "      <td>7</td>\n",
       "      <td>Sunday</td>\n",
       "      <td>1:05:00 PM</td>\n",
       "      <td>Arizona</td>\n",
       "      <td>Pittsburgh</td>\n",
       "      <td>20</td>\n",
       "      <td>32</td>\n",
       "      <td>NaN</td>\n",
       "      <td>9.0</td>\n",
       "      <td>n</td>\n",
       "    </tr>\n",
       "    <tr>\n",
       "      <th>3</th>\n",
       "      <td>2011</td>\n",
       "      <td>9</td>\n",
       "      <td>Sunday</td>\n",
       "      <td>2:15:00 PM</td>\n",
       "      <td>Arizona</td>\n",
       "      <td>St. Louis</td>\n",
       "      <td>19</td>\n",
       "      <td>13</td>\n",
       "      <td>OT</td>\n",
       "      <td>6.0</td>\n",
       "      <td>y</td>\n",
       "    </tr>\n",
       "    <tr>\n",
       "      <th>4</th>\n",
       "      <td>2011</td>\n",
       "      <td>13</td>\n",
       "      <td>Sunday</td>\n",
       "      <td>2:15:00 PM</td>\n",
       "      <td>Arizona</td>\n",
       "      <td>Dallas</td>\n",
       "      <td>19</td>\n",
       "      <td>13</td>\n",
       "      <td>OT</td>\n",
       "      <td>3.0</td>\n",
       "      <td>n</td>\n",
       "    </tr>\n",
       "  </tbody>\n",
       "</table>\n",
       "</div>"
      ],
      "text/plain": [
       "   season  week_num day_of_week gametime_local home_team        away_team  \\\n",
       "0    2011         1      Sunday     1:15:00 PM   Arizona         Carolina   \n",
       "1    2011         4      Sunday     1:05:00 PM   Arizona  New York Giants   \n",
       "2    2011         7      Sunday     1:05:00 PM   Arizona       Pittsburgh   \n",
       "3    2011         9      Sunday     2:15:00 PM   Arizona        St. Louis   \n",
       "4    2011        13      Sunday     2:15:00 PM   Arizona           Dallas   \n",
       "\n",
       "   home_score  away_score OT_flag  arrests division_game  \n",
       "0          28          21     NaN      5.0             n  \n",
       "1          27          31     NaN      6.0             n  \n",
       "2          20          32     NaN      9.0             n  \n",
       "3          19          13      OT      6.0             y  \n",
       "4          19          13      OT      3.0             n  "
      ]
     },
     "execution_count": 10,
     "metadata": {},
     "output_type": "execute_result"
    }
   ],
   "source": [
    "rawarrest.head()"
   ]
  },
  {
   "cell_type": "code",
   "execution_count": null,
   "metadata": {},
   "outputs": [
    {
     "data": {
      "text/html": [
       "<div>\n",
       "<style scoped>\n",
       "    .dataframe tbody tr th:only-of-type {\n",
       "        vertical-align: middle;\n",
       "    }\n",
       "\n",
       "    .dataframe tbody tr th {\n",
       "        vertical-align: top;\n",
       "    }\n",
       "\n",
       "    .dataframe thead th {\n",
       "        text-align: right;\n",
       "    }\n",
       "</style>\n",
       "<table border=\"1\" class=\"dataframe\">\n",
       "  <thead>\n",
       "    <tr style=\"text-align: right;\">\n",
       "      <th></th>\n",
       "      <th>season</th>\n",
       "      <th>week_num</th>\n",
       "      <th>day_of_week</th>\n",
       "      <th>gametime_local</th>\n",
       "      <th>home_team</th>\n",
       "      <th>away_team</th>\n",
       "      <th>home_score</th>\n",
       "      <th>away_score</th>\n",
       "      <th>OT_flag</th>\n",
       "      <th>arrests</th>\n",
       "      <th>division_game</th>\n",
       "    </tr>\n",
       "  </thead>\n",
       "  <tbody>\n",
       "    <tr>\n",
       "      <th>1001</th>\n",
       "      <td>2015</td>\n",
       "      <td>7</td>\n",
       "      <td>Sunday</td>\n",
       "      <td>1:00:00 PM</td>\n",
       "      <td>Washington</td>\n",
       "      <td>Tampa Bay</td>\n",
       "      <td>31</td>\n",
       "      <td>30</td>\n",
       "      <td>NaN</td>\n",
       "      <td>2.0</td>\n",
       "      <td>n</td>\n",
       "    </tr>\n",
       "    <tr>\n",
       "      <th>1002</th>\n",
       "      <td>2015</td>\n",
       "      <td>10</td>\n",
       "      <td>Sunday</td>\n",
       "      <td>1:00:00 PM</td>\n",
       "      <td>Washington</td>\n",
       "      <td>New Orleans</td>\n",
       "      <td>47</td>\n",
       "      <td>14</td>\n",
       "      <td>NaN</td>\n",
       "      <td>2.0</td>\n",
       "      <td>n</td>\n",
       "    </tr>\n",
       "    <tr>\n",
       "      <th>1003</th>\n",
       "      <td>2015</td>\n",
       "      <td>12</td>\n",
       "      <td>Sunday</td>\n",
       "      <td>1:00:00 PM</td>\n",
       "      <td>Washington</td>\n",
       "      <td>New York Giants</td>\n",
       "      <td>20</td>\n",
       "      <td>14</td>\n",
       "      <td>NaN</td>\n",
       "      <td>2.0</td>\n",
       "      <td>y</td>\n",
       "    </tr>\n",
       "    <tr>\n",
       "      <th>1004</th>\n",
       "      <td>2015</td>\n",
       "      <td>13</td>\n",
       "      <td>Monday</td>\n",
       "      <td>8:30:00 PM</td>\n",
       "      <td>Washington</td>\n",
       "      <td>Dallas</td>\n",
       "      <td>16</td>\n",
       "      <td>19</td>\n",
       "      <td>NaN</td>\n",
       "      <td>4.0</td>\n",
       "      <td>y</td>\n",
       "    </tr>\n",
       "    <tr>\n",
       "      <th>1005</th>\n",
       "      <td>2015</td>\n",
       "      <td>15</td>\n",
       "      <td>Sunday</td>\n",
       "      <td>1:00:00 PM</td>\n",
       "      <td>Washington</td>\n",
       "      <td>Buffalo</td>\n",
       "      <td>35</td>\n",
       "      <td>25</td>\n",
       "      <td>NaN</td>\n",
       "      <td>1.0</td>\n",
       "      <td>n</td>\n",
       "    </tr>\n",
       "  </tbody>\n",
       "</table>\n",
       "</div>"
      ],
      "text/plain": [
       "      season  week_num day_of_week gametime_local   home_team  \\\n",
       "1001    2015         7      Sunday     1:00:00 PM  Washington   \n",
       "1002    2015        10      Sunday     1:00:00 PM  Washington   \n",
       "1003    2015        12      Sunday     1:00:00 PM  Washington   \n",
       "1004    2015        13      Monday     8:30:00 PM  Washington   \n",
       "1005    2015        15      Sunday     1:00:00 PM  Washington   \n",
       "\n",
       "            away_team  home_score  away_score OT_flag  arrests division_game  \n",
       "1001        Tampa Bay          31          30     NaN      2.0             n  \n",
       "1002      New Orleans          47          14     NaN      2.0             n  \n",
       "1003  New York Giants          20          14     NaN      2.0             y  \n",
       "1004           Dallas          16          19     NaN      4.0             y  \n",
       "1005          Buffalo          35          25     NaN      1.0             n  "
      ]
     },
     "execution_count": 11,
     "metadata": {},
     "output_type": "execute_result"
    }
   ],
   "source": [
    "rawarrest.tail()"
   ]
  },
  {
   "cell_type": "markdown",
   "metadata": {},
   "source": [
    "Get the columns of the raw data and the number of columns to see how extensive the list is"
   ]
  },
  {
   "cell_type": "code",
   "execution_count": null,
   "metadata": {},
   "outputs": [
    {
     "name": "stdout",
     "output_type": "stream",
     "text": [
      "Columns: ['season', 'week_num', 'day_of_week', 'gametime_local', 'home_team', 'away_team', 'home_score', 'away_score', 'OT_flag', 'arrests', 'division_game']\n",
      "Column count: 11\n"
     ]
    }
   ],
   "source": [
    "rawColumns = list(rawarrest.columns)\n",
    "print(f\"Columns: {rawColumns}\")\n",
    "print(f\"Column count: {len(rawColumns)}\")"
   ]
  },
  {
   "cell_type": "markdown",
   "metadata": {},
   "source": [
    "The data on NFL arrests has 11 columns that are:\n",
    "1. Season = The corresponding seas for the data entry.\n",
    "2. Week Number = The week or gameday week when the data entry took place\n",
    "3. Day of week = The day of the week when the data entry took place.\n",
    "4. Gametime Local = The local time of the scheduled game.\n",
    "5. Home team = The corresponding home team.\n",
    "6. Away team = Corresponding away team.\n",
    "7. Home score = Corresponding home score.\n",
    "8. Away score = Corresponding away score.\n",
    "9. OT Flag = Data variable to confirm if the game went into overtime for the corresponding data entry.\n",
    "10. Arrests = Number of arrests recorded during matchday.\n",
    "11. Division game = Data variable to confirm if the game was an inter-divisional game (Higher significance/rivalry).\n",
    "\n",
    "For this corresponding research question,the data aims to address the influence of time and data in relation to arrests made in the stadium. To do this the data needs to be reformatted to include only the following variables:\n",
    "- Season (For referencing)\n",
    "- Arrests\n",
    "- Home Team\n",
    "- Away Team\n",
    "- Overtime (OT)\n",
    "\n",
    "But first lets take a deeper look into our data."
   ]
  },
  {
   "cell_type": "code",
   "execution_count": null,
   "metadata": {},
   "outputs": [
    {
     "data": {
      "text/html": [
       "<div>\n",
       "<style scoped>\n",
       "    .dataframe tbody tr th:only-of-type {\n",
       "        vertical-align: middle;\n",
       "    }\n",
       "\n",
       "    .dataframe tbody tr th {\n",
       "        vertical-align: top;\n",
       "    }\n",
       "\n",
       "    .dataframe thead th {\n",
       "        text-align: right;\n",
       "    }\n",
       "</style>\n",
       "<table border=\"1\" class=\"dataframe\">\n",
       "  <thead>\n",
       "    <tr style=\"text-align: right;\">\n",
       "      <th></th>\n",
       "      <th>season</th>\n",
       "      <th>week_num</th>\n",
       "      <th>home_score</th>\n",
       "      <th>away_score</th>\n",
       "      <th>arrests</th>\n",
       "    </tr>\n",
       "  </thead>\n",
       "  <tbody>\n",
       "    <tr>\n",
       "      <th>count</th>\n",
       "      <td>1006.000000</td>\n",
       "      <td>1006.000000</td>\n",
       "      <td>1006.000000</td>\n",
       "      <td>1006.000000</td>\n",
       "      <td>966.000000</td>\n",
       "    </tr>\n",
       "    <tr>\n",
       "      <th>mean</th>\n",
       "      <td>2013.000000</td>\n",
       "      <td>9.116302</td>\n",
       "      <td>23.934394</td>\n",
       "      <td>21.115308</td>\n",
       "      <td>6.566253</td>\n",
       "    </tr>\n",
       "    <tr>\n",
       "      <th>std</th>\n",
       "      <td>1.406453</td>\n",
       "      <td>5.008986</td>\n",
       "      <td>10.442626</td>\n",
       "      <td>9.734006</td>\n",
       "      <td>9.512101</td>\n",
       "    </tr>\n",
       "    <tr>\n",
       "      <th>min</th>\n",
       "      <td>2011.000000</td>\n",
       "      <td>1.000000</td>\n",
       "      <td>0.000000</td>\n",
       "      <td>0.000000</td>\n",
       "      <td>0.000000</td>\n",
       "    </tr>\n",
       "    <tr>\n",
       "      <th>25%</th>\n",
       "      <td>2012.000000</td>\n",
       "      <td>5.000000</td>\n",
       "      <td>17.000000</td>\n",
       "      <td>14.000000</td>\n",
       "      <td>1.000000</td>\n",
       "    </tr>\n",
       "    <tr>\n",
       "      <th>50%</th>\n",
       "      <td>2013.000000</td>\n",
       "      <td>9.000000</td>\n",
       "      <td>23.000000</td>\n",
       "      <td>20.000000</td>\n",
       "      <td>3.000000</td>\n",
       "    </tr>\n",
       "    <tr>\n",
       "      <th>75%</th>\n",
       "      <td>2014.000000</td>\n",
       "      <td>14.000000</td>\n",
       "      <td>30.000000</td>\n",
       "      <td>27.000000</td>\n",
       "      <td>8.000000</td>\n",
       "    </tr>\n",
       "    <tr>\n",
       "      <th>max</th>\n",
       "      <td>2015.000000</td>\n",
       "      <td>17.000000</td>\n",
       "      <td>59.000000</td>\n",
       "      <td>56.000000</td>\n",
       "      <td>69.000000</td>\n",
       "    </tr>\n",
       "  </tbody>\n",
       "</table>\n",
       "</div>"
      ],
      "text/plain": [
       "            season     week_num   home_score   away_score     arrests\n",
       "count  1006.000000  1006.000000  1006.000000  1006.000000  966.000000\n",
       "mean   2013.000000     9.116302    23.934394    21.115308    6.566253\n",
       "std       1.406453     5.008986    10.442626     9.734006    9.512101\n",
       "min    2011.000000     1.000000     0.000000     0.000000    0.000000\n",
       "25%    2012.000000     5.000000    17.000000    14.000000    1.000000\n",
       "50%    2013.000000     9.000000    23.000000    20.000000    3.000000\n",
       "75%    2014.000000    14.000000    30.000000    27.000000    8.000000\n",
       "max    2015.000000    17.000000    59.000000    56.000000   69.000000"
      ]
     },
     "execution_count": 14,
     "metadata": {},
     "output_type": "execute_result"
    }
   ],
   "source": [
    "rawarrest.describe()"
   ]
  },
  {
   "cell_type": "code",
   "execution_count": null,
   "metadata": {},
   "outputs": [
    {
     "data": {
      "text/plain": [
       "array([2011, 2012, 2013, 2014, 2015], dtype=int64)"
      ]
     },
     "execution_count": null,
     "metadata": {},
     "output_type": "execute_result"
    }
   ],
   "source": [
    "rawarrest.season.unique() #Season"
   ]
  },
  {
   "cell_type": "code",
   "execution_count": null,
   "metadata": {},
   "outputs": [
    {
     "data": {
      "text/plain": [
       "array([ 5.,  6.,  9.,  3.,  4.,  1.,  0., 12.,  7.,  2., 10.,  8., 15.,\n",
       "       13., 11., nan, 21., 18., 16., 14., 19., 23., 26., 35., 31., 39.,\n",
       "       20., 29., 46., 22., 24., 33., 28., 34., 30., 38., 17., 27., 25.,\n",
       "       44., 32., 49., 52., 37., 56., 69., 41., 47., 45., 40., 60., 36.])"
      ]
     },
     "execution_count": 15,
     "metadata": {},
     "output_type": "execute_result"
    }
   ],
   "source": [
    "rawarrest.arrests.unique() #Arrests"
   ]
  },
  {
   "cell_type": "code",
   "execution_count": null,
   "metadata": {},
   "outputs": [
    {
     "data": {
      "text/plain": [
       "array([28, 27, 20, 19, 21, 23, 24,  3, 17, 38, 13, 25, 22, 40, 30, 18, 31,\n",
       "       14,  6, 47, 26, 34, 35, 29, 16,  7, 33, 48, 12,  9, 10, 37, 39, 41,\n",
       "       45, 15,  8, 49, 42, 36, 44, 52, 51, 32, 46, 55, 53, 43,  2, 59,  0,\n",
       "       54, 58, 11])"
      ]
     },
     "execution_count": 16,
     "metadata": {},
     "output_type": "execute_result"
    }
   ],
   "source": [
    "rawarrest.home_score.unique() #Home team score"
   ]
  },
  {
   "cell_type": "markdown",
   "metadata": {},
   "source": [
    "The scores seem to look great, there are integers for them all, and 0 for the games that had no score from the home team."
   ]
  },
  {
   "cell_type": "code",
   "execution_count": null,
   "metadata": {},
   "outputs": [
    {
     "data": {
      "text/plain": [
       "array([21, 31, 32, 13, 19, 17, 20, 16,  6, 24, 10, 28, 34, 11, 23, 14, 35,\n",
       "        7, 18,  8, 36, 27,  3, 26, 41, 12, 33, 22, 30,  0, 15, 37, 29, 38,\n",
       "        9, 42, 51, 39, 45, 25, 44, 40, 49, 43, 56, 48])"
      ]
     },
     "execution_count": 17,
     "metadata": {},
     "output_type": "execute_result"
    }
   ],
   "source": [
    "rawarrest.away_score.unique() #Away team score"
   ]
  },
  {
   "cell_type": "markdown",
   "metadata": {},
   "source": [
    "The scores seem to look great, there are integers for them all, and 0 for the games that had no score from the away team."
   ]
  },
  {
   "cell_type": "code",
   "execution_count": null,
   "metadata": {},
   "outputs": [
    {
     "data": {
      "text/plain": [
       "array(['Sunday', 'Monday', 'Thursday', 'Saturday', 'Wednesday'],\n",
       "      dtype=object)"
      ]
     },
     "execution_count": 18,
     "metadata": {},
     "output_type": "execute_result"
    }
   ],
   "source": [
    "rawarrest.day_of_week.unique() #Day of the week"
   ]
  },
  {
   "cell_type": "code",
   "execution_count": null,
   "metadata": {},
   "outputs": [
    {
     "data": {
      "text/plain": [
       "array([nan, 'OT'], dtype=object)"
      ]
     },
     "execution_count": 19,
     "metadata": {},
     "output_type": "execute_result"
    }
   ],
   "source": [
    "rawarrest.OT_flag.unique() #Overtime"
   ]
  },
  {
   "cell_type": "markdown",
   "metadata": {},
   "source": [
    "The authors of this data defined games that did not have an overtime period with 'NaN'."
   ]
  },
  {
   "cell_type": "code",
   "execution_count": null,
   "metadata": {},
   "outputs": [
    {
     "data": {
      "text/plain": [
       "array(['1:15:00 PM', '1:05:00 PM', '2:15:00 PM', '2:05:00 PM',\n",
       "       '1:25:00 PM', '5:30:00 PM', '2:25:00 PM', '5:25:00 PM',\n",
       "       '7:20:00 PM', '6:30:00 PM', '8:20:00 PM', '4:05:00 PM',\n",
       "       '1:00:00 PM', '8:30:00 PM', '4:25:00 PM', '8:25:00 PM',\n",
       "       '1:02:00 PM', '8:40:00 PM', '12:00:00 PM', '3:25:00 PM',\n",
       "       '3:15:00 PM', '7:30:00 PM', '7:25:00 PM', '7:40:00 PM',\n",
       "       '1:03:00 PM', '4:16:00 PM', '3:30:00 PM', '8:15:00 PM',\n",
       "       '6:20:00 PM', '6:40:00 PM', '6:25:00 PM', '12:30:00 PM',\n",
       "       '7:10:00 PM', '3:05:00 PM', '4:15:00 PM', '7:15:00 PM',\n",
       "       '5:20:00 PM', '8:35:00 PM', '5:40:00 PM', '1:06:00 PM',\n",
       "       '5:41:00 PM', '1:26:00 PM', '5:31:00 PM', '5:42:00 PM',\n",
       "       '1:27:00 PM', '4:30:00 PM'], dtype=object)"
      ]
     },
     "execution_count": 20,
     "metadata": {},
     "output_type": "execute_result"
    }
   ],
   "source": [
    "rawarrest.gametime_local.unique() #Gametime (local time)"
   ]
  },
  {
   "cell_type": "markdown",
   "metadata": {},
   "source": [
    "---\n",
    "Everything here is in a HH:MM:SS format."
   ]
  },
  {
   "cell_type": "code",
   "execution_count": null,
   "metadata": {},
   "outputs": [
    {
     "data": {
      "text/plain": [
       "[Text(0.5, 1.0, 'Average arrests during the week (First 100)'),\n",
       " Text(0, 0.5, 'Arrests'),\n",
       " Text(0.5, 0, 'Day of the week')]"
      ]
     },
     "execution_count": 21,
     "metadata": {},
     "output_type": "execute_result"
    },
    {
     "data": {
      "image/png": "[encoded data removed]",
      "text/plain": [
       "<Figure size 432x288 with 1 Axes>"
      ]
     },
     "metadata": {
      "needs_background": "light"
     },
     "output_type": "display_data"
    }
   ],
   "source": [
    "rawheaddf = rawarrest.head(100)\n",
    "sns.barplot(x='day_of_week', y = 'arrests', data=rawheaddf).set(title='Average arrests during the week (First 100)',ylabel='Arrests', xlabel='Day of the week')"
   ]
  },
  {
   "cell_type": "markdown",
   "metadata": {},
   "source": [
    "The the first chunk of datapoints is evidently sorted on based days of the week and requires reformatting to account for Saturday in a finalized analysis.\n",
    "    \n",
    "Now let's observe a sample of (50) data points and see a histogram analysis for total arrests during game/matchday weeks."
   ]
  },
  {
   "cell_type": "code",
   "execution_count": null,
   "metadata": {},
   "outputs": [
    {
     "data": {
      "text/plain": [
       "<AxesSubplot:>"
      ]
     },
     "execution_count": 22,
     "metadata": {},
     "output_type": "execute_result"
    },
    {
     "data": {
      "image/png": "[encoded data removed]",
      "text/plain": [
       "<Figure size 432x288 with 1 Axes>"
      ]
     },
     "metadata": {
      "needs_background": "light"
     },
     "output_type": "display_data"
    }
   ],
   "source": [
    "rawsampledf= rawarrest.sample(50)\n",
    "weektest = rawsampledf['week_num']\n",
    "weektest.hist()"
   ]
  },
  {
   "cell_type": "markdown",
   "metadata": {},
   "source": [
    "This sample shows that there were no arrests made during the weeks 4-6 and none made during the weeks 12-14.\n",
    "\n",
    "However, what if we were to look at the high-end number of arrests not just a random sample."
   ]
  },
  {
   "cell_type": "code",
   "execution_count": null,
   "metadata": {},
   "outputs": [
    {
     "data": {
      "text/html": [
       "<div>\n",
       "<style scoped>\n",
       "    .dataframe tbody tr th:only-of-type {\n",
       "        vertical-align: middle;\n",
       "    }\n",
       "\n",
       "    .dataframe tbody tr th {\n",
       "        vertical-align: top;\n",
       "    }\n",
       "\n",
       "    .dataframe thead th {\n",
       "        text-align: right;\n",
       "    }\n",
       "</style>\n",
       "<table border=\"1\" class=\"dataframe\">\n",
       "  <thead>\n",
       "    <tr style=\"text-align: right;\">\n",
       "      <th></th>\n",
       "      <th>season</th>\n",
       "      <th>week_num</th>\n",
       "      <th>day_of_week</th>\n",
       "      <th>gametime_local</th>\n",
       "      <th>home_team</th>\n",
       "      <th>away_team</th>\n",
       "      <th>home_score</th>\n",
       "      <th>away_score</th>\n",
       "      <th>OT_flag</th>\n",
       "      <th>arrests</th>\n",
       "      <th>division_game</th>\n",
       "    </tr>\n",
       "  </thead>\n",
       "  <tbody>\n",
       "    <tr>\n",
       "      <th>591</th>\n",
       "      <td>2013</td>\n",
       "      <td>12</td>\n",
       "      <td>Sunday</td>\n",
       "      <td>4:25:00 PM</td>\n",
       "      <td>New York Giants</td>\n",
       "      <td>Dallas</td>\n",
       "      <td>21</td>\n",
       "      <td>24</td>\n",
       "      <td>NaN</td>\n",
       "      <td>46.0</td>\n",
       "      <td>y</td>\n",
       "    </tr>\n",
       "    <tr>\n",
       "      <th>646</th>\n",
       "      <td>2015</td>\n",
       "      <td>10</td>\n",
       "      <td>Thursday</td>\n",
       "      <td>8:25:00 PM</td>\n",
       "      <td>New York Jets</td>\n",
       "      <td>Buffalo</td>\n",
       "      <td>17</td>\n",
       "      <td>22</td>\n",
       "      <td>NaN</td>\n",
       "      <td>44.0</td>\n",
       "      <td>y</td>\n",
       "    </tr>\n",
       "    <tr>\n",
       "      <th>677</th>\n",
       "      <td>2014</td>\n",
       "      <td>14</td>\n",
       "      <td>Sunday</td>\n",
       "      <td>1:25:00 PM</td>\n",
       "      <td>Oakland</td>\n",
       "      <td>San Francisco</td>\n",
       "      <td>24</td>\n",
       "      <td>13</td>\n",
       "      <td>NaN</td>\n",
       "      <td>49.0</td>\n",
       "      <td>n</td>\n",
       "    </tr>\n",
       "    <tr>\n",
       "      <th>739</th>\n",
       "      <td>2012</td>\n",
       "      <td>11</td>\n",
       "      <td>Sunday</td>\n",
       "      <td>8:20:00 PM</td>\n",
       "      <td>Pittsburgh</td>\n",
       "      <td>Baltimore</td>\n",
       "      <td>10</td>\n",
       "      <td>13</td>\n",
       "      <td>NaN</td>\n",
       "      <td>52.0</td>\n",
       "      <td>y</td>\n",
       "    </tr>\n",
       "    <tr>\n",
       "      <th>744</th>\n",
       "      <td>2013</td>\n",
       "      <td>3</td>\n",
       "      <td>Sunday</td>\n",
       "      <td>8:30:00 PM</td>\n",
       "      <td>Pittsburgh</td>\n",
       "      <td>Chicago</td>\n",
       "      <td>23</td>\n",
       "      <td>40</td>\n",
       "      <td>NaN</td>\n",
       "      <td>56.0</td>\n",
       "      <td>n</td>\n",
       "    </tr>\n",
       "    <tr>\n",
       "      <th>771</th>\n",
       "      <td>2011</td>\n",
       "      <td>10</td>\n",
       "      <td>Thursday</td>\n",
       "      <td>5:20:00 PM</td>\n",
       "      <td>San Diego</td>\n",
       "      <td>Oakland</td>\n",
       "      <td>17</td>\n",
       "      <td>24</td>\n",
       "      <td>NaN</td>\n",
       "      <td>69.0</td>\n",
       "      <td>y</td>\n",
       "    </tr>\n",
       "    <tr>\n",
       "      <th>772</th>\n",
       "      <td>2011</td>\n",
       "      <td>12</td>\n",
       "      <td>Sunday</td>\n",
       "      <td>1:15:00 PM</td>\n",
       "      <td>San Diego</td>\n",
       "      <td>Denver</td>\n",
       "      <td>13</td>\n",
       "      <td>16</td>\n",
       "      <td>OT</td>\n",
       "      <td>41.0</td>\n",
       "      <td>y</td>\n",
       "    </tr>\n",
       "    <tr>\n",
       "      <th>776</th>\n",
       "      <td>2012</td>\n",
       "      <td>3</td>\n",
       "      <td>Sunday</td>\n",
       "      <td>1:05:00 PM</td>\n",
       "      <td>San Diego</td>\n",
       "      <td>Atlanta</td>\n",
       "      <td>3</td>\n",
       "      <td>27</td>\n",
       "      <td>NaN</td>\n",
       "      <td>47.0</td>\n",
       "      <td>n</td>\n",
       "    </tr>\n",
       "    <tr>\n",
       "      <th>777</th>\n",
       "      <td>2012</td>\n",
       "      <td>6</td>\n",
       "      <td>Monday</td>\n",
       "      <td>5:30:00 PM</td>\n",
       "      <td>San Diego</td>\n",
       "      <td>Denver</td>\n",
       "      <td>24</td>\n",
       "      <td>35</td>\n",
       "      <td>NaN</td>\n",
       "      <td>45.0</td>\n",
       "      <td>y</td>\n",
       "    </tr>\n",
       "    <tr>\n",
       "      <th>782</th>\n",
       "      <td>2012</td>\n",
       "      <td>17</td>\n",
       "      <td>Sunday</td>\n",
       "      <td>1:25:00 PM</td>\n",
       "      <td>San Diego</td>\n",
       "      <td>Oakland</td>\n",
       "      <td>24</td>\n",
       "      <td>21</td>\n",
       "      <td>NaN</td>\n",
       "      <td>60.0</td>\n",
       "      <td>y</td>\n",
       "    </tr>\n",
       "  </tbody>\n",
       "</table>\n",
       "</div>"
      ],
      "text/plain": [
       "     season  week_num day_of_week gametime_local        home_team  \\\n",
       "591    2013        12      Sunday     4:25:00 PM  New York Giants   \n",
       "646    2015        10    Thursday     8:25:00 PM    New York Jets   \n",
       "677    2014        14      Sunday     1:25:00 PM          Oakland   \n",
       "739    2012        11      Sunday     8:20:00 PM       Pittsburgh   \n",
       "744    2013         3      Sunday     8:30:00 PM       Pittsburgh   \n",
       "771    2011        10    Thursday     5:20:00 PM        San Diego   \n",
       "772    2011        12      Sunday     1:15:00 PM        San Diego   \n",
       "776    2012         3      Sunday     1:05:00 PM        San Diego   \n",
       "777    2012         6      Monday     5:30:00 PM        San Diego   \n",
       "782    2012        17      Sunday     1:25:00 PM        San Diego   \n",
       "\n",
       "         away_team  home_score  away_score OT_flag  arrests division_game  \n",
       "591         Dallas          21          24     NaN     46.0             y  \n",
       "646        Buffalo          17          22     NaN     44.0             y  \n",
       "677  San Francisco          24          13     NaN     49.0             n  \n",
       "739      Baltimore          10          13     NaN     52.0             y  \n",
       "744        Chicago          23          40     NaN     56.0             n  \n",
       "771        Oakland          17          24     NaN     69.0             y  \n",
       "772         Denver          13          16      OT     41.0             y  \n",
       "776        Atlanta           3          27     NaN     47.0             n  \n",
       "777         Denver          24          35     NaN     45.0             y  \n",
       "782        Oakland          24          21     NaN     60.0             y  "
      ]
     },
     "execution_count": 23,
     "metadata": {},
     "output_type": "execute_result"
    }
   ],
   "source": [
    "maxarrests = rawarrest[rawarrest['arrests'].gt(40)]\n",
    "maxarrests"
   ]
  },
  {
   "cell_type": "markdown",
   "metadata": {},
   "source": [
    "Interestingly, there is a correlation at first glance between home teams and higher arrests. \n",
    "\n",
    "**However**, we are looking at time and days for this set where there also seems to be higher arrests on home games.\n",
    "  \n",
    "One more thing I also want to view is the overall histogram data for **ALL** our variables and see what we are working with."
   ]
  },
  {
   "cell_type": "code",
   "execution_count": null,
   "metadata": {},
   "outputs": [
    {
     "data": {
      "image/png": "[encoded data removed]",
      "text/plain": [
       "<Figure size 432x288 with 6 Axes>"
      ]
     },
     "metadata": {
      "needs_background": "light"
     },
     "output_type": "display_data"
    }
   ],
   "source": [
    "rawarrest.hist()\n",
    "plt.tight_layout() #Avoid Title overlap"
   ]
  },
  {
   "cell_type": "markdown",
   "metadata": {},
   "source": [
    "Arrests seem to be higher when there is a higher away score than the one for home scores."
   ]
  },
  {
   "cell_type": "markdown",
   "metadata": {},
   "source": [
    "---\n",
    "## Analysis Pipeline"
   ]
  },
  {
   "cell_type": "markdown",
   "metadata": {},
   "source": [
    "Let's the original arrests dataset again and keep only the columns we need to analyze our specific metric of groupthink.\n",
    "\n",
    "Then we can sort the rows based on year/season and the corresponding day of the week. Additionally I also want to rename the columns appropriately for columns.\n",
    "\n",
    "Once we complete this we can now save the data and implement it into a new dataframe in a processed output file."
   ]
  },
  {
   "cell_type": "code",
   "execution_count": null,
   "metadata": {},
   "outputs": [
    {
     "data": {
      "text/html": [
       "<div>\n",
       "<style scoped>\n",
       "    .dataframe tbody tr th:only-of-type {\n",
       "        vertical-align: middle;\n",
       "    }\n",
       "\n",
       "    .dataframe tbody tr th {\n",
       "        vertical-align: top;\n",
       "    }\n",
       "\n",
       "    .dataframe thead th {\n",
       "        text-align: right;\n",
       "    }\n",
       "</style>\n",
       "<table border=\"1\" class=\"dataframe\">\n",
       "  <thead>\n",
       "    <tr style=\"text-align: right;\">\n",
       "      <th></th>\n",
       "      <th>Season</th>\n",
       "      <th>Home Team</th>\n",
       "      <th>Away Team</th>\n",
       "      <th>Overtime (OT)</th>\n",
       "      <th>Arrests</th>\n",
       "    </tr>\n",
       "  </thead>\n",
       "  <tbody>\n",
       "    <tr>\n",
       "      <th>3</th>\n",
       "      <td>2011</td>\n",
       "      <td>Arizona</td>\n",
       "      <td>St. Louis</td>\n",
       "      <td>OT</td>\n",
       "      <td>6.0</td>\n",
       "    </tr>\n",
       "    <tr>\n",
       "      <th>4</th>\n",
       "      <td>2011</td>\n",
       "      <td>Arizona</td>\n",
       "      <td>Dallas</td>\n",
       "      <td>OT</td>\n",
       "      <td>3.0</td>\n",
       "    </tr>\n",
       "    <tr>\n",
       "      <th>6</th>\n",
       "      <td>2011</td>\n",
       "      <td>Arizona</td>\n",
       "      <td>Cleveland</td>\n",
       "      <td>OT</td>\n",
       "      <td>1.0</td>\n",
       "    </tr>\n",
       "    <tr>\n",
       "      <th>7</th>\n",
       "      <td>2011</td>\n",
       "      <td>Arizona</td>\n",
       "      <td>Seattle</td>\n",
       "      <td>OT</td>\n",
       "      <td>4.0</td>\n",
       "    </tr>\n",
       "    <tr>\n",
       "      <th>467</th>\n",
       "      <td>2011</td>\n",
       "      <td>Kansas City</td>\n",
       "      <td>Oakland</td>\n",
       "      <td>OT</td>\n",
       "      <td>2.0</td>\n",
       "    </tr>\n",
       "    <tr>\n",
       "      <th>462</th>\n",
       "      <td>2011</td>\n",
       "      <td>Kansas City</td>\n",
       "      <td>San Diego</td>\n",
       "      <td>OT</td>\n",
       "      <td>2.0</td>\n",
       "    </tr>\n",
       "    <tr>\n",
       "      <th>970</th>\n",
       "      <td>2011</td>\n",
       "      <td>Washington</td>\n",
       "      <td>Dallas</td>\n",
       "      <td>OT</td>\n",
       "      <td>7.0</td>\n",
       "    </tr>\n",
       "    <tr>\n",
       "      <th>772</th>\n",
       "      <td>2011</td>\n",
       "      <td>San Diego</td>\n",
       "      <td>Denver</td>\n",
       "      <td>OT</td>\n",
       "      <td>41.0</td>\n",
       "    </tr>\n",
       "    <tr>\n",
       "      <th>228</th>\n",
       "      <td>2011</td>\n",
       "      <td>Denver</td>\n",
       "      <td>Chicago</td>\n",
       "      <td>OT</td>\n",
       "      <td>0.0</td>\n",
       "    </tr>\n",
       "    <tr>\n",
       "      <th>808</th>\n",
       "      <td>2011</td>\n",
       "      <td>San Francisco</td>\n",
       "      <td>Dallas</td>\n",
       "      <td>OT</td>\n",
       "      <td>4.0</td>\n",
       "    </tr>\n",
       "  </tbody>\n",
       "</table>\n",
       "</div>"
      ],
      "text/plain": [
       "     Season      Home Team  Away Team Overtime (OT)  Arrests\n",
       "3      2011        Arizona  St. Louis            OT      6.0\n",
       "4      2011        Arizona     Dallas            OT      3.0\n",
       "6      2011        Arizona  Cleveland            OT      1.0\n",
       "7      2011        Arizona    Seattle            OT      4.0\n",
       "467    2011    Kansas City    Oakland            OT      2.0\n",
       "462    2011    Kansas City  San Diego            OT      2.0\n",
       "970    2011     Washington     Dallas            OT      7.0\n",
       "772    2011      San Diego     Denver            OT     41.0\n",
       "228    2011         Denver    Chicago            OT      0.0\n",
       "808    2011  San Francisco     Dallas            OT      4.0"
      ]
     },
     "execution_count": 27,
     "metadata": {},
     "output_type": "execute_result"
    }
   ],
   "source": [
    "#loading dataset\n",
    "rawarrest = pd.read_csv('../data/raw/arrests.csv', sep= \",\")\n",
    "    \n",
    "#Removing columns\n",
    "formatdf = rawarrest.copy().drop(columns=['week_num', 'day_of_week', 'gametime_local', 'home_score', 'away_score', 'division_game'],axis=1).dropna(axis=0)\n",
    "\n",
    "#Sorting\n",
    "formatdf.sort_values(by=['season'],inplace=True)\n",
    "    \n",
    "#Rename columns\n",
    "formatdf.rename(columns={'home_team':'Home Team','away_team':'Away Team','OT_flag': 'Overtime (OT)', \n",
    "                        'arrests':'Arrests', 'season':'Season'},inplace = True)\n",
    "#Convert NaN values in arrests to 0\n",
    "formatdf['Arrests'] = formatdf['Arrests'].fillna(0)\n",
    "\n",
    "#Save the data in = processed output file\n",
    "formatdf.to_csv('../data/processed/OKandeelProcessed.csv', index = False)\n",
    "\n",
    "#Now let's quickly observe what our new data looks like\n",
    "formatdf.head(10)"
   ]
  },
  {
   "cell_type": "markdown",
   "metadata": {},
   "source": [
    "---\n",
    "## Method Chaining and writing Python programs\n",
    "\n",
    "There are two methods for formatting and adjusting our final dataset.\n",
    "\n",
    "The first method below loads our dataset file as an argument and does 3 things:\n",
    "1. Drops all unneeded columns for our analysis question\n",
    "2. Sorts the values by season and whether or not the game went into overtime.\n",
    "3. Rename all strings appropriately."
   ]
  },
  {
   "cell_type": "code",
   "execution_count": null,
   "metadata": {},
   "outputs": [
    {
     "data": {
      "text/html": [
       "<div>\n",
       "<style scoped>\n",
       "    .dataframe tbody tr th:only-of-type {\n",
       "        vertical-align: middle;\n",
       "    }\n",
       "\n",
       "    .dataframe tbody tr th {\n",
       "        vertical-align: top;\n",
       "    }\n",
       "\n",
       "    .dataframe thead th {\n",
       "        text-align: right;\n",
       "    }\n",
       "</style>\n",
       "<table border=\"1\" class=\"dataframe\">\n",
       "  <thead>\n",
       "    <tr style=\"text-align: right;\">\n",
       "      <th></th>\n",
       "      <th>Season</th>\n",
       "      <th>Home Team</th>\n",
       "      <th>Away Team</th>\n",
       "      <th>Overtime (OT)</th>\n",
       "      <th>Arrests</th>\n",
       "    </tr>\n",
       "  </thead>\n",
       "  <tbody>\n",
       "    <tr>\n",
       "      <th>3</th>\n",
       "      <td>2011</td>\n",
       "      <td>Arizona</td>\n",
       "      <td>St. Louis</td>\n",
       "      <td>OT</td>\n",
       "      <td>6.0</td>\n",
       "    </tr>\n",
       "    <tr>\n",
       "      <th>4</th>\n",
       "      <td>2011</td>\n",
       "      <td>Arizona</td>\n",
       "      <td>Dallas</td>\n",
       "      <td>OT</td>\n",
       "      <td>3.0</td>\n",
       "    </tr>\n",
       "    <tr>\n",
       "      <th>6</th>\n",
       "      <td>2011</td>\n",
       "      <td>Arizona</td>\n",
       "      <td>Cleveland</td>\n",
       "      <td>OT</td>\n",
       "      <td>1.0</td>\n",
       "    </tr>\n",
       "    <tr>\n",
       "      <th>7</th>\n",
       "      <td>2011</td>\n",
       "      <td>Arizona</td>\n",
       "      <td>Seattle</td>\n",
       "      <td>OT</td>\n",
       "      <td>4.0</td>\n",
       "    </tr>\n",
       "    <tr>\n",
       "      <th>228</th>\n",
       "      <td>2011</td>\n",
       "      <td>Denver</td>\n",
       "      <td>Chicago</td>\n",
       "      <td>OT</td>\n",
       "      <td>0.0</td>\n",
       "    </tr>\n",
       "  </tbody>\n",
       "</table>\n",
       "</div>"
      ],
      "text/plain": [
       "     Season Home Team  Away Team Overtime (OT)  Arrests\n",
       "3      2011   Arizona  St. Louis            OT      6.0\n",
       "4      2011   Arizona     Dallas            OT      3.0\n",
       "6      2011   Arizona  Cleveland            OT      1.0\n",
       "7      2011   Arizona    Seattle            OT      4.0\n",
       "228    2011    Denver    Chicago            OT      0.0"
      ]
     },
     "execution_count": 2,
     "metadata": {},
     "output_type": "execute_result"
    }
   ],
   "source": [
    "loaddf = (pd.read_csv('../data/raw/arrests.csv', sep= \",\").copy().drop(['week_num', 'day_of_week', 'gametime_local', 'home_score', 'away_score', 'division_game'], axis = 1))\n",
    "loaddf.sort_values(by = ['season', 'OT_flag'], inplace = True)\n",
    "loaddf.rename(columns = {'home_team':'Home Team','away_team':'Away Team','OT_flag': 'Overtime (OT)', \n",
    "                        'arrests':'Arrests', 'season':'Season'}, inplace = True)\n",
    "loaddf.head()"
   ]
  },
  {
   "cell_type": "markdown",
   "metadata": {},
   "source": [
    "#### The second method does takes the NaN variables in the arrest column to an integer valued 0."
   ]
  },
  {
   "cell_type": "code",
   "execution_count": null,
   "metadata": {},
   "outputs": [
    {
     "data": {
      "text/html": [
       "<div>\n",
       "<style scoped>\n",
       "    .dataframe tbody tr th:only-of-type {\n",
       "        vertical-align: middle;\n",
       "    }\n",
       "\n",
       "    .dataframe tbody tr th {\n",
       "        vertical-align: top;\n",
       "    }\n",
       "\n",
       "    .dataframe thead th {\n",
       "        text-align: right;\n",
       "    }\n",
       "</style>\n",
       "<table border=\"1\" class=\"dataframe\">\n",
       "  <thead>\n",
       "    <tr style=\"text-align: right;\">\n",
       "      <th></th>\n",
       "      <th>Season</th>\n",
       "      <th>Home Team</th>\n",
       "      <th>Away Team</th>\n",
       "      <th>Overtime (OT)</th>\n",
       "      <th>Arrests</th>\n",
       "    </tr>\n",
       "  </thead>\n",
       "  <tbody>\n",
       "    <tr>\n",
       "      <th>3</th>\n",
       "      <td>2011</td>\n",
       "      <td>Arizona</td>\n",
       "      <td>St. Louis</td>\n",
       "      <td>OT</td>\n",
       "      <td>6.0</td>\n",
       "    </tr>\n",
       "    <tr>\n",
       "      <th>4</th>\n",
       "      <td>2011</td>\n",
       "      <td>Arizona</td>\n",
       "      <td>Dallas</td>\n",
       "      <td>OT</td>\n",
       "      <td>3.0</td>\n",
       "    </tr>\n",
       "    <tr>\n",
       "      <th>6</th>\n",
       "      <td>2011</td>\n",
       "      <td>Arizona</td>\n",
       "      <td>Cleveland</td>\n",
       "      <td>OT</td>\n",
       "      <td>1.0</td>\n",
       "    </tr>\n",
       "    <tr>\n",
       "      <th>7</th>\n",
       "      <td>2011</td>\n",
       "      <td>Arizona</td>\n",
       "      <td>Seattle</td>\n",
       "      <td>OT</td>\n",
       "      <td>4.0</td>\n",
       "    </tr>\n",
       "    <tr>\n",
       "      <th>228</th>\n",
       "      <td>2011</td>\n",
       "      <td>Denver</td>\n",
       "      <td>Chicago</td>\n",
       "      <td>OT</td>\n",
       "      <td>0.0</td>\n",
       "    </tr>\n",
       "  </tbody>\n",
       "</table>\n",
       "</div>"
      ],
      "text/plain": [
       "     Season Home Team  Away Team Overtime (OT)  Arrests\n",
       "3      2011   Arizona  St. Louis            OT      6.0\n",
       "4      2011   Arizona     Dallas            OT      3.0\n",
       "6      2011   Arizona  Cleveland            OT      1.0\n",
       "7      2011   Arizona    Seattle            OT      4.0\n",
       "228    2011    Denver    Chicago            OT      0.0"
      ]
     },
     "execution_count": 3,
     "metadata": {},
     "output_type": "execute_result"
    }
   ],
   "source": [
    "finaldf = loaddf\n",
    "finaldf['Arrests'] = finaldf['Arrests'].fillna(0)\n",
    "finaldf.head()"
   ]
  },
  {
   "cell_type": "markdown",
   "metadata": {},
   "source": [
    "### The method chain can now be imported:"
   ]
  },
  {
   "cell_type": "code",
   "execution_count": null,
   "metadata": {},
   "outputs": [
    {
     "ename": "ModuleNotFoundError",
     "evalue": "No module named 'project_function1'",
     "output_type": "error",
     "traceback": [
      "\u001b[0;31m---------------------------------------------------------------------------\u001b[0m",
      "\u001b[0;31mModuleNotFoundError\u001b[0m                       Traceback (most recent call last)",
      "Cell \u001b[0;32mIn [4], line 1\u001b[0m\n\u001b[0;32m----> 1\u001b[0m \u001b[38;5;28;01mimport\u001b[39;00m \u001b[38;5;21;01mproject_function1\u001b[39;00m \u001b[38;5;28;01mas\u001b[39;00m \u001b[38;5;21;01mp1\u001b[39;00m\n\u001b[1;32m      3\u001b[0m projectdf \u001b[38;5;241m=\u001b[39m p1\u001b[38;5;241m.\u001b[39mload_and_process(\u001b[38;5;124m'\u001b[39m\u001b[38;5;124m../data/raw/arrests.csv\u001b[39m\u001b[38;5;124m'\u001b[39m)\n\u001b[1;32m      4\u001b[0m proejctdf\u001b[38;5;241m.\u001b[39mhead()\n",
      "\u001b[0;31mModuleNotFoundError\u001b[0m: No module named 'project_function1'"
     ]
    }
   ],
   "source": [
    "import project_function1 as p1\n",
    "\n",
    "projectdf = p1.load_and_process('../data/raw/arrests.csv')\n",
    "proejctdf.head()"
   ]
  },
  {
   "cell_type": "markdown",
   "metadata": {},
   "source": [
    "---\n",
    "## Conduct Analysis"
   ]
  },
  {
   "cell_type": "code",
   "execution_count": null,
   "metadata": {},
   "outputs": [
    {
     "ename": "ModuleNotFoundError",
     "evalue": "No module named 'numpy'",
     "output_type": "error",
     "traceback": [
      "\u001b[0;31m---------------------------------------------------------------------------\u001b[0m",
      "\u001b[0;31mModuleNotFoundError\u001b[0m                       Traceback (most recent call last)",
      "\u001b[0;32m/var/folders/bz/fmdj2lz1419d5t1tdsbf7b8h0000gn/T/ipykernel_3560/1900887084.py\u001b[0m in \u001b[0;36m<module>\u001b[0;34m\u001b[0m\n\u001b[0;32m----> 1\u001b[0;31m \u001b[0;32mimport\u001b[0m \u001b[0mnumpy\u001b[0m \u001b[0;32mas\u001b[0m \u001b[0mnp\u001b[0m\u001b[0;34m\u001b[0m\u001b[0;34m\u001b[0m\u001b[0m\n\u001b[0m\u001b[1;32m      2\u001b[0m \u001b[0;32mimport\u001b[0m \u001b[0mpandas\u001b[0m \u001b[0;32mas\u001b[0m \u001b[0mpd\u001b[0m\u001b[0;34m\u001b[0m\u001b[0;34m\u001b[0m\u001b[0m\n\u001b[1;32m      3\u001b[0m \u001b[0;32mimport\u001b[0m \u001b[0mseaborn\u001b[0m \u001b[0;32mas\u001b[0m \u001b[0msns\u001b[0m\u001b[0;34m\u001b[0m\u001b[0;34m\u001b[0m\u001b[0m\n\u001b[1;32m      4\u001b[0m \u001b[0;32mimport\u001b[0m \u001b[0mmatplotlib\u001b[0m\u001b[0;34m.\u001b[0m\u001b[0mpyplot\u001b[0m \u001b[0;32mas\u001b[0m \u001b[0mplt\u001b[0m\u001b[0;34m\u001b[0m\u001b[0;34m\u001b[0m\u001b[0m\n\u001b[1;32m      5\u001b[0m \u001b[0mprojectdf\u001b[0m \u001b[0;34m=\u001b[0m \u001b[0mpd\u001b[0m\u001b[0;34m.\u001b[0m\u001b[0mread_csv\u001b[0m\u001b[0;34m(\u001b[0m\u001b[0;34m'../data/processed/OKandeelProcessed.csv'\u001b[0m\u001b[0;34m)\u001b[0m\u001b[0;34m\u001b[0m\u001b[0;34m\u001b[0m\u001b[0m\n",
      "\u001b[0;31mModuleNotFoundError\u001b[0m: No module named 'numpy'"
     ]
    }
   ],
   "source": [
    "import numpy as np\n",
    "import pandas as pd\n",
    "import seaborn as sns\n",
    "import matplotlib.pyplot as plt\n",
    "projectdf = pd.read_csv('../data/processed/OKandeelProcessed.csv')\n"
   ]
  },
  {
   "cell_type": "markdown",
   "metadata": {},
   "source": [
    "Let's start with insight into what places result in most arrests.\n",
    "First we will sum the amount of arrests per location, removing rows or times where no arrests occur and then plot:"
   ]
  },
  {
   "cell_type": "code",
   "execution_count": null,
   "metadata": {},
   "outputs": [
    {
     "ename": "NameError",
     "evalue": "name 'projectdf' is not defined",
     "output_type": "error",
     "traceback": [
      "\u001b[0;31m---------------------------------------------------------------------------\u001b[0m",
      "\u001b[0;31mNameError\u001b[0m                                 Traceback (most recent call last)",
      "Cell \u001b[0;32mIn [9], line 1\u001b[0m\n\u001b[0;32m----> 1\u001b[0m dff2 \u001b[38;5;241m=\u001b[39m \u001b[43mprojectdf\u001b[49m\u001b[38;5;241m.\u001b[39mgroupby([\u001b[38;5;124m\"\u001b[39m\u001b[38;5;124mSeason\u001b[39m\u001b[38;5;124m\"\u001b[39m])\u001b[38;5;241m.\u001b[39mArrests\u001b[38;5;241m.\u001b[39msum()\u001b[38;5;241m.\u001b[39mreset_index() \u001b[38;5;66;03m#Sorts by season and sums arrests at each time\u001b[39;00m\n\u001b[1;32m      2\u001b[0m dff2 \u001b[38;5;241m=\u001b[39m dff2[dff2[\u001b[38;5;124m'\u001b[39m\u001b[38;5;124mArrests\u001b[39m\u001b[38;5;124m'\u001b[39m] \u001b[38;5;241m!=\u001b[39m \u001b[38;5;241m0\u001b[39m] \u001b[38;5;66;03m#remove 0 arrests value for this plot\u001b[39;00m\n\u001b[1;32m      3\u001b[0m dff2\u001b[38;5;241m.\u001b[39mhead()\n",
      "\u001b[0;31mNameError\u001b[0m: name 'projectdf' is not defined"
     ]
    }
   ],
   "source": [
    "dff2 = projectdf.groupby([\"Home Team\"]).Arrests.sum().reset_index() #Sorts by Home Team and sums arrests at each time\n",
    "dff2 = dff2[dff2['Arrests'] != 0] #remove 0 arrests value for this plot\n",
    "dff2.head()"
   ]
  },
  {
   "cell_type": "code",
   "execution_count": null,
   "metadata": {},
   "outputs": [
    {
     "ename": "NameError",
     "evalue": "name 'plt' is not defined",
     "output_type": "error",
     "traceback": [
      "\u001b[0;31m---------------------------------------------------------------------------\u001b[0m",
      "\u001b[0;31mNameError\u001b[0m                                 Traceback (most recent call last)",
      "\u001b[0;32m/var/folders/bz/fmdj2lz1419d5t1tdsbf7b8h0000gn/T/ipykernel_3560/794374149.py\u001b[0m in \u001b[0;36m<module>\u001b[0;34m\u001b[0m\n\u001b[0;32m----> 1\u001b[0;31m \u001b[0mf\u001b[0m\u001b[0;34m,\u001b[0m \u001b[0max\u001b[0m \u001b[0;34m=\u001b[0m \u001b[0mplt\u001b[0m\u001b[0;34m.\u001b[0m\u001b[0msubplots\u001b[0m\u001b[0;34m(\u001b[0m\u001b[0mfigsize\u001b[0m\u001b[0;34m=\u001b[0m\u001b[0;34m(\u001b[0m\u001b[0;36m10\u001b[0m\u001b[0;34m,\u001b[0m\u001b[0;36m10\u001b[0m\u001b[0;34m)\u001b[0m\u001b[0;34m)\u001b[0m \u001b[0;31m#Change figure size\u001b[0m\u001b[0;34m\u001b[0m\u001b[0;34m\u001b[0m\u001b[0m\n\u001b[0m\u001b[1;32m      2\u001b[0m \u001b[0msns\u001b[0m\u001b[0;34m.\u001b[0m\u001b[0mbarplot\u001b[0m\u001b[0;34m(\u001b[0m\u001b[0mx\u001b[0m\u001b[0;34m=\u001b[0m\u001b[0;34m'Arrests'\u001b[0m\u001b[0;34m,\u001b[0m \u001b[0my\u001b[0m \u001b[0;34m=\u001b[0m \u001b[0;34m'Home Team'\u001b[0m\u001b[0;34m,\u001b[0m \u001b[0mdata\u001b[0m\u001b[0;34m=\u001b[0m\u001b[0mdff2\u001b[0m\u001b[0;34m)\u001b[0m\u001b[0;34m.\u001b[0m\u001b[0mset\u001b[0m\u001b[0;34m(\u001b[0m\u001b[0mtitle\u001b[0m\u001b[0;34m=\u001b[0m\u001b[0;34m'Arrests made at each home stadium'\u001b[0m\u001b[0;34m,\u001b[0m\u001b[0mylabel\u001b[0m\u001b[0;34m=\u001b[0m\u001b[0;34m'Home Team'\u001b[0m\u001b[0;34m,\u001b[0m \u001b[0mxlabel\u001b[0m\u001b[0;34m=\u001b[0m\u001b[0;34m'Arrests'\u001b[0m\u001b[0;34m)\u001b[0m \u001b[0;31m#PLot barplot\u001b[0m\u001b[0;34m\u001b[0m\u001b[0;34m\u001b[0m\u001b[0m\n",
      "\u001b[0;31mNameError\u001b[0m: name 'plt' is not defined"
     ]
    }
   ],
   "source": [
    "f, ax = plt.subplots(figsize=(10,10)) #Change figure size\n",
    "sns.barplot(x='Arrests', y = 'Home Team', data=dff2).set(title='Arrests made at each home stadium',ylabel='Home Team', xlabel='Arrests') #PLot barplot"
   ]
  }
 ],
 "metadata": {
  "kernelspec": {
   "display_name": "Python 3",
   "language": "python",
   "name": "python3"
  },
  "language_info": {
   "codemirror_mode": {
    "name": "ipython",
    "version": 3
   },
   "file_extension": ".py",
   "mimetype": "text/x-python",
   "name": "python",
   "nbconvert_exporter": "python",
   "pygments_lexer": "ipython3",
   "version": "3.9.12"
  },
  "vscode": {
   "interpreter": {
    "hash": "31f2aee4e71d21fbe5cf8b01ff0e069b9275f58929596ceb00d14d90e3e16cd6"
   }
  }
 },
 "nbformat": 4,
 "nbformat_minor": 4
}
